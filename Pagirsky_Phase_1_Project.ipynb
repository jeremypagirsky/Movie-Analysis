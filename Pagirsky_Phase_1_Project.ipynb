{
 "cells": [
  {
   "cell_type": "markdown",
   "metadata": {},
   "source": [
    "# Microsoft Movie Analysis"
   ]
  },
  {
   "cell_type": "markdown",
   "metadata": {},
   "source": [
    "## Overview\n",
    "\n",
    "This project analyzes the various aspects of movie performance from [IMDB](https://www.imdb.com/) and [Box Office Mojo](https://www.boxofficemojo.com/). While the film industry often relies on income from the box office, many movie theaters are closed due to the current pandemic. Therefore, these conditions may stress the importance of consumer ratings in movie performance."
   ]
  },
  {
   "cell_type": "markdown",
   "metadata": {},
   "source": [
    "## Business Problem\n",
    "\n",
    "Like its fellow competitors, Microsoft would like to begin creating original movies. They have opened up a new movie studio, but the company needs insight into what kind of movies are generally the best performing. \"Success\" in this analysis is determined by domestic gross income, movie rating, and popularity (i.e., number of votes) across each genre."
   ]
  },
  {
   "cell_type": "markdown",
   "metadata": {},
   "source": [
    "## Questions:\n",
    "\n",
    "1) Which genres generate the highest domestic gross?\n",
    "\n",
    "2) Which genres have the highest ratings?\n",
    "\n",
    "3) Which genres are the most popular?"
   ]
  },
  {
   "cell_type": "code",
   "execution_count": 113,
   "metadata": {},
   "outputs": [],
   "source": [
    "import numpy as np\n",
    "import pandas as pd\n",
    "import matplotlib.pyplot as plt\n",
    "import matplotlib.colors as mcolors\n",
    "import plotly.graph_objects as go\n",
    "import plotly.express as px\n",
    "import seaborn as sns\n",
    "pd.options.display.max_rows=200\n",
    "%matplotlib inline"
   ]
  },
  {
   "cell_type": "code",
   "execution_count": 114,
   "metadata": {},
   "outputs": [
    {
     "name": "stdout",
     "output_type": "stream",
     "text": [
      "[Errno 2] No such file or directory: 'zippedData/'\n",
      "/Users/jerpagirsky/Desktop/Flatiron/CourseMaterials/Phase_1/dsc-phase-1-project-online/zippedData\n"
     ]
    }
   ],
   "source": [
    "cd zippedData/"
   ]
  },
  {
   "cell_type": "code",
   "execution_count": 115,
   "metadata": {},
   "outputs": [
    {
     "name": "stdout",
     "output_type": "stream",
     "text": [
      "bom.movie_gross 2.csv         imdb.title.principals.csv\r\n",
      "bom.movie_gross.csv           imdb.title.principals.csv.gz\r\n",
      "bom.movie_gross.csv.gz        imdb.title.ratings.csv.gz\r\n",
      "bom_df.sqlite                 rt.movie_info.tsv\r\n",
      "data.sqlite                   rt.movie_info.tsv.gz\r\n",
      "imdb.name.basics.csv          rt.reviews.tsv\r\n",
      "imdb.name.basics.csv.gz       rt.reviews.tsv.gz\r\n",
      "imdb.title.akas.csv           runtime_range\r\n",
      "imdb.title.akas.csv.gz        tmdb.movies.csv\r\n",
      "imdb.title.basics.csv         tmdb.movies.csv.gz\r\n",
      "imdb.title.basics.csv.gz      tn.movie_budgets.csv\r\n",
      "imdb.title.crew.csv.gz        tn.movie_budgets.csv.gz\r\n"
     ]
    }
   ],
   "source": [
    "ls"
   ]
  },
  {
   "cell_type": "markdown",
   "metadata": {},
   "source": [
    "### Box Office Mojo (BOM) Data"
   ]
  },
  {
   "cell_type": "code",
   "execution_count": 116,
   "metadata": {},
   "outputs": [
    {
     "data": {
      "text/html": [
       "<div>\n",
       "<style scoped>\n",
       "    .dataframe tbody tr th:only-of-type {\n",
       "        vertical-align: middle;\n",
       "    }\n",
       "\n",
       "    .dataframe tbody tr th {\n",
       "        vertical-align: top;\n",
       "    }\n",
       "\n",
       "    .dataframe thead th {\n",
       "        text-align: right;\n",
       "    }\n",
       "</style>\n",
       "<table border=\"1\" class=\"dataframe\">\n",
       "  <thead>\n",
       "    <tr style=\"text-align: right;\">\n",
       "      <th></th>\n",
       "      <th>title</th>\n",
       "      <th>studio</th>\n",
       "      <th>domestic_gross</th>\n",
       "      <th>foreign_gross</th>\n",
       "      <th>year</th>\n",
       "    </tr>\n",
       "  </thead>\n",
       "  <tbody>\n",
       "    <tr>\n",
       "      <th>0</th>\n",
       "      <td>Toy Story 3</td>\n",
       "      <td>BV</td>\n",
       "      <td>415000000.0</td>\n",
       "      <td>652000000</td>\n",
       "      <td>2010</td>\n",
       "    </tr>\n",
       "    <tr>\n",
       "      <th>1</th>\n",
       "      <td>Alice in Wonderland (2010)</td>\n",
       "      <td>BV</td>\n",
       "      <td>334200000.0</td>\n",
       "      <td>691300000</td>\n",
       "      <td>2010</td>\n",
       "    </tr>\n",
       "    <tr>\n",
       "      <th>2</th>\n",
       "      <td>Harry Potter and the Deathly Hallows Part 1</td>\n",
       "      <td>WB</td>\n",
       "      <td>296000000.0</td>\n",
       "      <td>664300000</td>\n",
       "      <td>2010</td>\n",
       "    </tr>\n",
       "    <tr>\n",
       "      <th>3</th>\n",
       "      <td>Inception</td>\n",
       "      <td>WB</td>\n",
       "      <td>292600000.0</td>\n",
       "      <td>535700000</td>\n",
       "      <td>2010</td>\n",
       "    </tr>\n",
       "    <tr>\n",
       "      <th>4</th>\n",
       "      <td>Shrek Forever After</td>\n",
       "      <td>P/DW</td>\n",
       "      <td>238700000.0</td>\n",
       "      <td>513900000</td>\n",
       "      <td>2010</td>\n",
       "    </tr>\n",
       "  </tbody>\n",
       "</table>\n",
       "</div>"
      ],
      "text/plain": [
       "                                         title studio  domestic_gross  \\\n",
       "0                                  Toy Story 3     BV     415000000.0   \n",
       "1                   Alice in Wonderland (2010)     BV     334200000.0   \n",
       "2  Harry Potter and the Deathly Hallows Part 1     WB     296000000.0   \n",
       "3                                    Inception     WB     292600000.0   \n",
       "4                          Shrek Forever After   P/DW     238700000.0   \n",
       "\n",
       "  foreign_gross  year  \n",
       "0     652000000  2010  \n",
       "1     691300000  2010  \n",
       "2     664300000  2010  \n",
       "3     535700000  2010  \n",
       "4     513900000  2010  "
      ]
     },
     "execution_count": 116,
     "metadata": {},
     "output_type": "execute_result"
    }
   ],
   "source": [
    "df1 = pd.read_csv('bom.movie_gross.csv.gz', compression='gzip')\n",
    "df1.head()"
   ]
  },
  {
   "cell_type": "markdown",
   "metadata": {},
   "source": [
    "### IMDB Data"
   ]
  },
  {
   "cell_type": "code",
   "execution_count": 117,
   "metadata": {
    "scrolled": true
   },
   "outputs": [
    {
     "data": {
      "text/html": [
       "<div>\n",
       "<style scoped>\n",
       "    .dataframe tbody tr th:only-of-type {\n",
       "        vertical-align: middle;\n",
       "    }\n",
       "\n",
       "    .dataframe tbody tr th {\n",
       "        vertical-align: top;\n",
       "    }\n",
       "\n",
       "    .dataframe thead th {\n",
       "        text-align: right;\n",
       "    }\n",
       "</style>\n",
       "<table border=\"1\" class=\"dataframe\">\n",
       "  <thead>\n",
       "    <tr style=\"text-align: right;\">\n",
       "      <th></th>\n",
       "      <th>tconst</th>\n",
       "      <th>primary_title</th>\n",
       "      <th>original_title</th>\n",
       "      <th>start_year</th>\n",
       "      <th>runtime_minutes</th>\n",
       "      <th>genres</th>\n",
       "    </tr>\n",
       "  </thead>\n",
       "  <tbody>\n",
       "    <tr>\n",
       "      <th>0</th>\n",
       "      <td>tt0063540</td>\n",
       "      <td>Sunghursh</td>\n",
       "      <td>Sunghursh</td>\n",
       "      <td>2013</td>\n",
       "      <td>175.0</td>\n",
       "      <td>Action,Crime,Drama</td>\n",
       "    </tr>\n",
       "    <tr>\n",
       "      <th>1</th>\n",
       "      <td>tt0066787</td>\n",
       "      <td>One Day Before the Rainy Season</td>\n",
       "      <td>Ashad Ka Ek Din</td>\n",
       "      <td>2019</td>\n",
       "      <td>114.0</td>\n",
       "      <td>Biography,Drama</td>\n",
       "    </tr>\n",
       "    <tr>\n",
       "      <th>2</th>\n",
       "      <td>tt0069049</td>\n",
       "      <td>The Other Side of the Wind</td>\n",
       "      <td>The Other Side of the Wind</td>\n",
       "      <td>2018</td>\n",
       "      <td>122.0</td>\n",
       "      <td>Drama</td>\n",
       "    </tr>\n",
       "    <tr>\n",
       "      <th>3</th>\n",
       "      <td>tt0069204</td>\n",
       "      <td>Sabse Bada Sukh</td>\n",
       "      <td>Sabse Bada Sukh</td>\n",
       "      <td>2018</td>\n",
       "      <td>NaN</td>\n",
       "      <td>Comedy,Drama</td>\n",
       "    </tr>\n",
       "    <tr>\n",
       "      <th>4</th>\n",
       "      <td>tt0100275</td>\n",
       "      <td>The Wandering Soap Opera</td>\n",
       "      <td>La Telenovela Errante</td>\n",
       "      <td>2017</td>\n",
       "      <td>80.0</td>\n",
       "      <td>Comedy,Drama,Fantasy</td>\n",
       "    </tr>\n",
       "  </tbody>\n",
       "</table>\n",
       "</div>"
      ],
      "text/plain": [
       "      tconst                    primary_title              original_title  \\\n",
       "0  tt0063540                        Sunghursh                   Sunghursh   \n",
       "1  tt0066787  One Day Before the Rainy Season             Ashad Ka Ek Din   \n",
       "2  tt0069049       The Other Side of the Wind  The Other Side of the Wind   \n",
       "3  tt0069204                  Sabse Bada Sukh             Sabse Bada Sukh   \n",
       "4  tt0100275         The Wandering Soap Opera       La Telenovela Errante   \n",
       "\n",
       "   start_year  runtime_minutes                genres  \n",
       "0        2013            175.0    Action,Crime,Drama  \n",
       "1        2019            114.0       Biography,Drama  \n",
       "2        2018            122.0                 Drama  \n",
       "3        2018              NaN          Comedy,Drama  \n",
       "4        2017             80.0  Comedy,Drama,Fantasy  "
      ]
     },
     "execution_count": 117,
     "metadata": {},
     "output_type": "execute_result"
    }
   ],
   "source": [
    "df2 = pd.read_csv('imdb.title.basics.csv')\n",
    "df2.head()"
   ]
  },
  {
   "cell_type": "code",
   "execution_count": 118,
   "metadata": {},
   "outputs": [
    {
     "data": {
      "text/html": [
       "<div>\n",
       "<style scoped>\n",
       "    .dataframe tbody tr th:only-of-type {\n",
       "        vertical-align: middle;\n",
       "    }\n",
       "\n",
       "    .dataframe tbody tr th {\n",
       "        vertical-align: top;\n",
       "    }\n",
       "\n",
       "    .dataframe thead th {\n",
       "        text-align: right;\n",
       "    }\n",
       "</style>\n",
       "<table border=\"1\" class=\"dataframe\">\n",
       "  <thead>\n",
       "    <tr style=\"text-align: right;\">\n",
       "      <th></th>\n",
       "      <th>tconst</th>\n",
       "      <th>primary_title</th>\n",
       "      <th>original_title</th>\n",
       "      <th>start_year</th>\n",
       "      <th>runtime_minutes</th>\n",
       "      <th>genres</th>\n",
       "    </tr>\n",
       "  </thead>\n",
       "  <tbody>\n",
       "    <tr>\n",
       "      <th>0</th>\n",
       "      <td>tt0063540</td>\n",
       "      <td>Sunghursh</td>\n",
       "      <td>Sunghursh</td>\n",
       "      <td>2013</td>\n",
       "      <td>175.0</td>\n",
       "      <td>Action,Crime,Drama</td>\n",
       "    </tr>\n",
       "    <tr>\n",
       "      <th>1</th>\n",
       "      <td>tt0066787</td>\n",
       "      <td>One Day Before the Rainy Season</td>\n",
       "      <td>Ashad Ka Ek Din</td>\n",
       "      <td>2019</td>\n",
       "      <td>114.0</td>\n",
       "      <td>Biography,Drama</td>\n",
       "    </tr>\n",
       "    <tr>\n",
       "      <th>2</th>\n",
       "      <td>tt0069049</td>\n",
       "      <td>The Other Side of the Wind</td>\n",
       "      <td>The Other Side of the Wind</td>\n",
       "      <td>2018</td>\n",
       "      <td>122.0</td>\n",
       "      <td>Drama</td>\n",
       "    </tr>\n",
       "    <tr>\n",
       "      <th>3</th>\n",
       "      <td>tt0069204</td>\n",
       "      <td>Sabse Bada Sukh</td>\n",
       "      <td>Sabse Bada Sukh</td>\n",
       "      <td>2018</td>\n",
       "      <td>NaN</td>\n",
       "      <td>Comedy,Drama</td>\n",
       "    </tr>\n",
       "    <tr>\n",
       "      <th>4</th>\n",
       "      <td>tt0100275</td>\n",
       "      <td>The Wandering Soap Opera</td>\n",
       "      <td>La Telenovela Errante</td>\n",
       "      <td>2017</td>\n",
       "      <td>80.0</td>\n",
       "      <td>Comedy,Drama,Fantasy</td>\n",
       "    </tr>\n",
       "    <tr>\n",
       "      <th>...</th>\n",
       "      <td>...</td>\n",
       "      <td>...</td>\n",
       "      <td>...</td>\n",
       "      <td>...</td>\n",
       "      <td>...</td>\n",
       "      <td>...</td>\n",
       "    </tr>\n",
       "    <tr>\n",
       "      <th>146139</th>\n",
       "      <td>tt9916538</td>\n",
       "      <td>Kuambil Lagi Hatiku</td>\n",
       "      <td>Kuambil Lagi Hatiku</td>\n",
       "      <td>2019</td>\n",
       "      <td>123.0</td>\n",
       "      <td>Drama</td>\n",
       "    </tr>\n",
       "    <tr>\n",
       "      <th>146140</th>\n",
       "      <td>tt9916622</td>\n",
       "      <td>Rodolpho Teóphilo - O Legado de um Pioneiro</td>\n",
       "      <td>Rodolpho Teóphilo - O Legado de um Pioneiro</td>\n",
       "      <td>2015</td>\n",
       "      <td>NaN</td>\n",
       "      <td>Documentary</td>\n",
       "    </tr>\n",
       "    <tr>\n",
       "      <th>146141</th>\n",
       "      <td>tt9916706</td>\n",
       "      <td>Dankyavar Danka</td>\n",
       "      <td>Dankyavar Danka</td>\n",
       "      <td>2013</td>\n",
       "      <td>NaN</td>\n",
       "      <td>Comedy</td>\n",
       "    </tr>\n",
       "    <tr>\n",
       "      <th>146142</th>\n",
       "      <td>tt9916730</td>\n",
       "      <td>6 Gunn</td>\n",
       "      <td>6 Gunn</td>\n",
       "      <td>2017</td>\n",
       "      <td>116.0</td>\n",
       "      <td>NaN</td>\n",
       "    </tr>\n",
       "    <tr>\n",
       "      <th>146143</th>\n",
       "      <td>tt9916754</td>\n",
       "      <td>Chico Albuquerque - Revelações</td>\n",
       "      <td>Chico Albuquerque - Revelações</td>\n",
       "      <td>2013</td>\n",
       "      <td>NaN</td>\n",
       "      <td>Documentary</td>\n",
       "    </tr>\n",
       "  </tbody>\n",
       "</table>\n",
       "<p>146144 rows × 6 columns</p>\n",
       "</div>"
      ],
      "text/plain": [
       "           tconst                                primary_title  \\\n",
       "0       tt0063540                                    Sunghursh   \n",
       "1       tt0066787              One Day Before the Rainy Season   \n",
       "2       tt0069049                   The Other Side of the Wind   \n",
       "3       tt0069204                              Sabse Bada Sukh   \n",
       "4       tt0100275                     The Wandering Soap Opera   \n",
       "...           ...                                          ...   \n",
       "146139  tt9916538                          Kuambil Lagi Hatiku   \n",
       "146140  tt9916622  Rodolpho Teóphilo - O Legado de um Pioneiro   \n",
       "146141  tt9916706                              Dankyavar Danka   \n",
       "146142  tt9916730                                       6 Gunn   \n",
       "146143  tt9916754               Chico Albuquerque - Revelações   \n",
       "\n",
       "                                     original_title  start_year  \\\n",
       "0                                         Sunghursh        2013   \n",
       "1                                   Ashad Ka Ek Din        2019   \n",
       "2                        The Other Side of the Wind        2018   \n",
       "3                                   Sabse Bada Sukh        2018   \n",
       "4                             La Telenovela Errante        2017   \n",
       "...                                             ...         ...   \n",
       "146139                          Kuambil Lagi Hatiku        2019   \n",
       "146140  Rodolpho Teóphilo - O Legado de um Pioneiro        2015   \n",
       "146141                              Dankyavar Danka        2013   \n",
       "146142                                       6 Gunn        2017   \n",
       "146143               Chico Albuquerque - Revelações        2013   \n",
       "\n",
       "        runtime_minutes                genres  \n",
       "0                 175.0    Action,Crime,Drama  \n",
       "1                 114.0       Biography,Drama  \n",
       "2                 122.0                 Drama  \n",
       "3                   NaN          Comedy,Drama  \n",
       "4                  80.0  Comedy,Drama,Fantasy  \n",
       "...                 ...                   ...  \n",
       "146139            123.0                 Drama  \n",
       "146140              NaN           Documentary  \n",
       "146141              NaN                Comedy  \n",
       "146142            116.0                   NaN  \n",
       "146143              NaN           Documentary  \n",
       "\n",
       "[146144 rows x 6 columns]"
      ]
     },
     "execution_count": 118,
     "metadata": {},
     "output_type": "execute_result"
    }
   ],
   "source": [
    "df2"
   ]
  },
  {
   "cell_type": "code",
   "execution_count": 119,
   "metadata": {},
   "outputs": [],
   "source": [
    "genres_col = df2['genres'].dropna()"
   ]
  },
  {
   "cell_type": "code",
   "execution_count": 120,
   "metadata": {},
   "outputs": [
    {
     "name": "stdout",
     "output_type": "stream",
     "text": [
      "<class 'pandas.core.frame.DataFrame'>\n",
      "RangeIndex: 146144 entries, 0 to 146143\n",
      "Data columns (total 6 columns):\n",
      "tconst             146144 non-null object\n",
      "primary_title      146144 non-null object\n",
      "original_title     146123 non-null object\n",
      "start_year         146144 non-null int64\n",
      "runtime_minutes    114405 non-null float64\n",
      "genres             140736 non-null object\n",
      "dtypes: float64(1), int64(1), object(4)\n",
      "memory usage: 6.7+ MB\n"
     ]
    }
   ],
   "source": [
    "df2.info()"
   ]
  },
  {
   "cell_type": "code",
   "execution_count": 121,
   "metadata": {},
   "outputs": [
    {
     "data": {
      "text/html": [
       "<div>\n",
       "<style scoped>\n",
       "    .dataframe tbody tr th:only-of-type {\n",
       "        vertical-align: middle;\n",
       "    }\n",
       "\n",
       "    .dataframe tbody tr th {\n",
       "        vertical-align: top;\n",
       "    }\n",
       "\n",
       "    .dataframe thead th {\n",
       "        text-align: right;\n",
       "    }\n",
       "</style>\n",
       "<table border=\"1\" class=\"dataframe\">\n",
       "  <thead>\n",
       "    <tr style=\"text-align: right;\">\n",
       "      <th></th>\n",
       "      <th>tconst</th>\n",
       "      <th>averagerating</th>\n",
       "      <th>numvotes</th>\n",
       "    </tr>\n",
       "  </thead>\n",
       "  <tbody>\n",
       "    <tr>\n",
       "      <th>0</th>\n",
       "      <td>tt10356526</td>\n",
       "      <td>8.3</td>\n",
       "      <td>31</td>\n",
       "    </tr>\n",
       "    <tr>\n",
       "      <th>1</th>\n",
       "      <td>tt10384606</td>\n",
       "      <td>8.9</td>\n",
       "      <td>559</td>\n",
       "    </tr>\n",
       "    <tr>\n",
       "      <th>2</th>\n",
       "      <td>tt1042974</td>\n",
       "      <td>6.4</td>\n",
       "      <td>20</td>\n",
       "    </tr>\n",
       "    <tr>\n",
       "      <th>3</th>\n",
       "      <td>tt1043726</td>\n",
       "      <td>4.2</td>\n",
       "      <td>50352</td>\n",
       "    </tr>\n",
       "    <tr>\n",
       "      <th>4</th>\n",
       "      <td>tt1060240</td>\n",
       "      <td>6.5</td>\n",
       "      <td>21</td>\n",
       "    </tr>\n",
       "  </tbody>\n",
       "</table>\n",
       "</div>"
      ],
      "text/plain": [
       "       tconst  averagerating  numvotes\n",
       "0  tt10356526            8.3        31\n",
       "1  tt10384606            8.9       559\n",
       "2   tt1042974            6.4        20\n",
       "3   tt1043726            4.2     50352\n",
       "4   tt1060240            6.5        21"
      ]
     },
     "execution_count": 121,
     "metadata": {},
     "output_type": "execute_result"
    }
   ],
   "source": [
    "df3 = pd.read_csv('imdb.title.ratings.csv.gz')\n",
    "df3.head()"
   ]
  },
  {
   "cell_type": "code",
   "execution_count": 122,
   "metadata": {},
   "outputs": [
    {
     "name": "stdout",
     "output_type": "stream",
     "text": [
      "<class 'pandas.core.frame.DataFrame'>\n",
      "RangeIndex: 73856 entries, 0 to 73855\n",
      "Data columns (total 3 columns):\n",
      "tconst           73856 non-null object\n",
      "averagerating    73856 non-null float64\n",
      "numvotes         73856 non-null int64\n",
      "dtypes: float64(1), int64(1), object(1)\n",
      "memory usage: 1.7+ MB\n"
     ]
    }
   ],
   "source": [
    "df3.info()"
   ]
  },
  {
   "cell_type": "markdown",
   "metadata": {},
   "source": [
    "### Merging Datasets"
   ]
  },
  {
   "cell_type": "markdown",
   "metadata": {},
   "source": [
    "I am merging the two IMDB datasets on `tconst`, a unique identifier for each movie."
   ]
  },
  {
   "cell_type": "code",
   "execution_count": 123,
   "metadata": {},
   "outputs": [],
   "source": [
    "df2 = df2.set_index('tconst')\n",
    "df3 = df3.set_index('tconst')"
   ]
  },
  {
   "cell_type": "code",
   "execution_count": 124,
   "metadata": {
    "scrolled": false
   },
   "outputs": [],
   "source": [
    "imdb_df = pd.concat([df2, df3], axis=1, sort=True)"
   ]
  },
  {
   "cell_type": "code",
   "execution_count": 125,
   "metadata": {
    "scrolled": true
   },
   "outputs": [
    {
     "data": {
      "text/html": [
       "<div>\n",
       "<style scoped>\n",
       "    .dataframe tbody tr th:only-of-type {\n",
       "        vertical-align: middle;\n",
       "    }\n",
       "\n",
       "    .dataframe tbody tr th {\n",
       "        vertical-align: top;\n",
       "    }\n",
       "\n",
       "    .dataframe thead th {\n",
       "        text-align: right;\n",
       "    }\n",
       "</style>\n",
       "<table border=\"1\" class=\"dataframe\">\n",
       "  <thead>\n",
       "    <tr style=\"text-align: right;\">\n",
       "      <th></th>\n",
       "      <th>primary_title</th>\n",
       "      <th>original_title</th>\n",
       "      <th>start_year</th>\n",
       "      <th>runtime_minutes</th>\n",
       "      <th>genres</th>\n",
       "      <th>averagerating</th>\n",
       "      <th>numvotes</th>\n",
       "    </tr>\n",
       "  </thead>\n",
       "  <tbody>\n",
       "    <tr>\n",
       "      <th>tt0063540</th>\n",
       "      <td>Sunghursh</td>\n",
       "      <td>Sunghursh</td>\n",
       "      <td>2013</td>\n",
       "      <td>175.0</td>\n",
       "      <td>Action,Crime,Drama</td>\n",
       "      <td>7.0</td>\n",
       "      <td>77.0</td>\n",
       "    </tr>\n",
       "    <tr>\n",
       "      <th>tt0066787</th>\n",
       "      <td>One Day Before the Rainy Season</td>\n",
       "      <td>Ashad Ka Ek Din</td>\n",
       "      <td>2019</td>\n",
       "      <td>114.0</td>\n",
       "      <td>Biography,Drama</td>\n",
       "      <td>7.2</td>\n",
       "      <td>43.0</td>\n",
       "    </tr>\n",
       "    <tr>\n",
       "      <th>tt0069049</th>\n",
       "      <td>The Other Side of the Wind</td>\n",
       "      <td>The Other Side of the Wind</td>\n",
       "      <td>2018</td>\n",
       "      <td>122.0</td>\n",
       "      <td>Drama</td>\n",
       "      <td>6.9</td>\n",
       "      <td>4517.0</td>\n",
       "    </tr>\n",
       "    <tr>\n",
       "      <th>tt0069204</th>\n",
       "      <td>Sabse Bada Sukh</td>\n",
       "      <td>Sabse Bada Sukh</td>\n",
       "      <td>2018</td>\n",
       "      <td>NaN</td>\n",
       "      <td>Comedy,Drama</td>\n",
       "      <td>6.1</td>\n",
       "      <td>13.0</td>\n",
       "    </tr>\n",
       "    <tr>\n",
       "      <th>tt0100275</th>\n",
       "      <td>The Wandering Soap Opera</td>\n",
       "      <td>La Telenovela Errante</td>\n",
       "      <td>2017</td>\n",
       "      <td>80.0</td>\n",
       "      <td>Comedy,Drama,Fantasy</td>\n",
       "      <td>6.5</td>\n",
       "      <td>119.0</td>\n",
       "    </tr>\n",
       "  </tbody>\n",
       "</table>\n",
       "</div>"
      ],
      "text/plain": [
       "                             primary_title              original_title  \\\n",
       "tt0063540                        Sunghursh                   Sunghursh   \n",
       "tt0066787  One Day Before the Rainy Season             Ashad Ka Ek Din   \n",
       "tt0069049       The Other Side of the Wind  The Other Side of the Wind   \n",
       "tt0069204                  Sabse Bada Sukh             Sabse Bada Sukh   \n",
       "tt0100275         The Wandering Soap Opera       La Telenovela Errante   \n",
       "\n",
       "           start_year  runtime_minutes                genres  averagerating  \\\n",
       "tt0063540        2013            175.0    Action,Crime,Drama            7.0   \n",
       "tt0066787        2019            114.0       Biography,Drama            7.2   \n",
       "tt0069049        2018            122.0                 Drama            6.9   \n",
       "tt0069204        2018              NaN          Comedy,Drama            6.1   \n",
       "tt0100275        2017             80.0  Comedy,Drama,Fantasy            6.5   \n",
       "\n",
       "           numvotes  \n",
       "tt0063540      77.0  \n",
       "tt0066787      43.0  \n",
       "tt0069049    4517.0  \n",
       "tt0069204      13.0  \n",
       "tt0100275     119.0  "
      ]
     },
     "execution_count": 125,
     "metadata": {},
     "output_type": "execute_result"
    }
   ],
   "source": [
    "imdb_df.head()"
   ]
  },
  {
   "cell_type": "markdown",
   "metadata": {},
   "source": [
    " "
   ]
  },
  {
   "cell_type": "markdown",
   "metadata": {},
   "source": [
    "I want to join the Box Office Mojo dataset (`df1`) to the joined IMDB dataset (`imdb_df`). I need to examine and standardize the columns before joining. I will rename the `primary_title` and `start_year` columns and set them both as the indices for the IMDB dataset."
   ]
  },
  {
   "cell_type": "code",
   "execution_count": 126,
   "metadata": {},
   "outputs": [
    {
     "data": {
      "text/html": [
       "<div>\n",
       "<style scoped>\n",
       "    .dataframe tbody tr th:only-of-type {\n",
       "        vertical-align: middle;\n",
       "    }\n",
       "\n",
       "    .dataframe tbody tr th {\n",
       "        vertical-align: top;\n",
       "    }\n",
       "\n",
       "    .dataframe thead th {\n",
       "        text-align: right;\n",
       "    }\n",
       "</style>\n",
       "<table border=\"1\" class=\"dataframe\">\n",
       "  <thead>\n",
       "    <tr style=\"text-align: right;\">\n",
       "      <th></th>\n",
       "      <th>title</th>\n",
       "      <th>studio</th>\n",
       "      <th>domestic_gross</th>\n",
       "      <th>foreign_gross</th>\n",
       "      <th>year</th>\n",
       "    </tr>\n",
       "  </thead>\n",
       "  <tbody>\n",
       "    <tr>\n",
       "      <th>0</th>\n",
       "      <td>Toy Story 3</td>\n",
       "      <td>BV</td>\n",
       "      <td>415000000.0</td>\n",
       "      <td>652000000</td>\n",
       "      <td>2010</td>\n",
       "    </tr>\n",
       "    <tr>\n",
       "      <th>1</th>\n",
       "      <td>Alice in Wonderland (2010)</td>\n",
       "      <td>BV</td>\n",
       "      <td>334200000.0</td>\n",
       "      <td>691300000</td>\n",
       "      <td>2010</td>\n",
       "    </tr>\n",
       "    <tr>\n",
       "      <th>2</th>\n",
       "      <td>Harry Potter and the Deathly Hallows Part 1</td>\n",
       "      <td>WB</td>\n",
       "      <td>296000000.0</td>\n",
       "      <td>664300000</td>\n",
       "      <td>2010</td>\n",
       "    </tr>\n",
       "    <tr>\n",
       "      <th>3</th>\n",
       "      <td>Inception</td>\n",
       "      <td>WB</td>\n",
       "      <td>292600000.0</td>\n",
       "      <td>535700000</td>\n",
       "      <td>2010</td>\n",
       "    </tr>\n",
       "    <tr>\n",
       "      <th>4</th>\n",
       "      <td>Shrek Forever After</td>\n",
       "      <td>P/DW</td>\n",
       "      <td>238700000.0</td>\n",
       "      <td>513900000</td>\n",
       "      <td>2010</td>\n",
       "    </tr>\n",
       "  </tbody>\n",
       "</table>\n",
       "</div>"
      ],
      "text/plain": [
       "                                         title studio  domestic_gross  \\\n",
       "0                                  Toy Story 3     BV     415000000.0   \n",
       "1                   Alice in Wonderland (2010)     BV     334200000.0   \n",
       "2  Harry Potter and the Deathly Hallows Part 1     WB     296000000.0   \n",
       "3                                    Inception     WB     292600000.0   \n",
       "4                          Shrek Forever After   P/DW     238700000.0   \n",
       "\n",
       "  foreign_gross  year  \n",
       "0     652000000  2010  \n",
       "1     691300000  2010  \n",
       "2     664300000  2010  \n",
       "3     535700000  2010  \n",
       "4     513900000  2010  "
      ]
     },
     "execution_count": 126,
     "metadata": {},
     "output_type": "execute_result"
    }
   ],
   "source": [
    "df1.head()"
   ]
  },
  {
   "cell_type": "code",
   "execution_count": 127,
   "metadata": {},
   "outputs": [],
   "source": [
    "imdb_df.rename(columns = {'primary_title': 'title', 'start_year': 'year'}, inplace = True)"
   ]
  },
  {
   "cell_type": "code",
   "execution_count": 128,
   "metadata": {},
   "outputs": [],
   "source": [
    "imdb_df.set_index(['title', 'year'], inplace=True)"
   ]
  },
  {
   "cell_type": "code",
   "execution_count": 129,
   "metadata": {},
   "outputs": [
    {
     "data": {
      "text/html": [
       "<div>\n",
       "<style scoped>\n",
       "    .dataframe tbody tr th:only-of-type {\n",
       "        vertical-align: middle;\n",
       "    }\n",
       "\n",
       "    .dataframe tbody tr th {\n",
       "        vertical-align: top;\n",
       "    }\n",
       "\n",
       "    .dataframe thead th {\n",
       "        text-align: right;\n",
       "    }\n",
       "</style>\n",
       "<table border=\"1\" class=\"dataframe\">\n",
       "  <thead>\n",
       "    <tr style=\"text-align: right;\">\n",
       "      <th></th>\n",
       "      <th></th>\n",
       "      <th>original_title</th>\n",
       "      <th>runtime_minutes</th>\n",
       "      <th>genres</th>\n",
       "      <th>averagerating</th>\n",
       "      <th>numvotes</th>\n",
       "    </tr>\n",
       "    <tr>\n",
       "      <th>title</th>\n",
       "      <th>year</th>\n",
       "      <th></th>\n",
       "      <th></th>\n",
       "      <th></th>\n",
       "      <th></th>\n",
       "      <th></th>\n",
       "    </tr>\n",
       "  </thead>\n",
       "  <tbody>\n",
       "    <tr>\n",
       "      <th>Sunghursh</th>\n",
       "      <th>2013</th>\n",
       "      <td>Sunghursh</td>\n",
       "      <td>175.0</td>\n",
       "      <td>Action,Crime,Drama</td>\n",
       "      <td>7.0</td>\n",
       "      <td>77.0</td>\n",
       "    </tr>\n",
       "    <tr>\n",
       "      <th>One Day Before the Rainy Season</th>\n",
       "      <th>2019</th>\n",
       "      <td>Ashad Ka Ek Din</td>\n",
       "      <td>114.0</td>\n",
       "      <td>Biography,Drama</td>\n",
       "      <td>7.2</td>\n",
       "      <td>43.0</td>\n",
       "    </tr>\n",
       "    <tr>\n",
       "      <th>The Other Side of the Wind</th>\n",
       "      <th>2018</th>\n",
       "      <td>The Other Side of the Wind</td>\n",
       "      <td>122.0</td>\n",
       "      <td>Drama</td>\n",
       "      <td>6.9</td>\n",
       "      <td>4517.0</td>\n",
       "    </tr>\n",
       "    <tr>\n",
       "      <th>Sabse Bada Sukh</th>\n",
       "      <th>2018</th>\n",
       "      <td>Sabse Bada Sukh</td>\n",
       "      <td>NaN</td>\n",
       "      <td>Comedy,Drama</td>\n",
       "      <td>6.1</td>\n",
       "      <td>13.0</td>\n",
       "    </tr>\n",
       "    <tr>\n",
       "      <th>The Wandering Soap Opera</th>\n",
       "      <th>2017</th>\n",
       "      <td>La Telenovela Errante</td>\n",
       "      <td>80.0</td>\n",
       "      <td>Comedy,Drama,Fantasy</td>\n",
       "      <td>6.5</td>\n",
       "      <td>119.0</td>\n",
       "    </tr>\n",
       "    <tr>\n",
       "      <th>...</th>\n",
       "      <th>...</th>\n",
       "      <td>...</td>\n",
       "      <td>...</td>\n",
       "      <td>...</td>\n",
       "      <td>...</td>\n",
       "      <td>...</td>\n",
       "    </tr>\n",
       "    <tr>\n",
       "      <th>Kuambil Lagi Hatiku</th>\n",
       "      <th>2019</th>\n",
       "      <td>Kuambil Lagi Hatiku</td>\n",
       "      <td>123.0</td>\n",
       "      <td>Drama</td>\n",
       "      <td>NaN</td>\n",
       "      <td>NaN</td>\n",
       "    </tr>\n",
       "    <tr>\n",
       "      <th>Rodolpho Teóphilo - O Legado de um Pioneiro</th>\n",
       "      <th>2015</th>\n",
       "      <td>Rodolpho Teóphilo - O Legado de um Pioneiro</td>\n",
       "      <td>NaN</td>\n",
       "      <td>Documentary</td>\n",
       "      <td>NaN</td>\n",
       "      <td>NaN</td>\n",
       "    </tr>\n",
       "    <tr>\n",
       "      <th>Dankyavar Danka</th>\n",
       "      <th>2013</th>\n",
       "      <td>Dankyavar Danka</td>\n",
       "      <td>NaN</td>\n",
       "      <td>Comedy</td>\n",
       "      <td>NaN</td>\n",
       "      <td>NaN</td>\n",
       "    </tr>\n",
       "    <tr>\n",
       "      <th>6 Gunn</th>\n",
       "      <th>2017</th>\n",
       "      <td>6 Gunn</td>\n",
       "      <td>116.0</td>\n",
       "      <td>NaN</td>\n",
       "      <td>NaN</td>\n",
       "      <td>NaN</td>\n",
       "    </tr>\n",
       "    <tr>\n",
       "      <th>Chico Albuquerque - Revelações</th>\n",
       "      <th>2013</th>\n",
       "      <td>Chico Albuquerque - Revelações</td>\n",
       "      <td>NaN</td>\n",
       "      <td>Documentary</td>\n",
       "      <td>NaN</td>\n",
       "      <td>NaN</td>\n",
       "    </tr>\n",
       "  </tbody>\n",
       "</table>\n",
       "<p>146144 rows × 5 columns</p>\n",
       "</div>"
      ],
      "text/plain": [
       "                                                                               original_title  \\\n",
       "title                                       year                                                \n",
       "Sunghursh                                   2013                                    Sunghursh   \n",
       "One Day Before the Rainy Season             2019                              Ashad Ka Ek Din   \n",
       "The Other Side of the Wind                  2018                   The Other Side of the Wind   \n",
       "Sabse Bada Sukh                             2018                              Sabse Bada Sukh   \n",
       "The Wandering Soap Opera                    2017                        La Telenovela Errante   \n",
       "...                                                                                       ...   \n",
       "Kuambil Lagi Hatiku                         2019                          Kuambil Lagi Hatiku   \n",
       "Rodolpho Teóphilo - O Legado de um Pioneiro 2015  Rodolpho Teóphilo - O Legado de um Pioneiro   \n",
       "Dankyavar Danka                             2013                              Dankyavar Danka   \n",
       "6 Gunn                                      2017                                       6 Gunn   \n",
       "Chico Albuquerque - Revelações              2013               Chico Albuquerque - Revelações   \n",
       "\n",
       "                                                  runtime_minutes  \\\n",
       "title                                       year                    \n",
       "Sunghursh                                   2013            175.0   \n",
       "One Day Before the Rainy Season             2019            114.0   \n",
       "The Other Side of the Wind                  2018            122.0   \n",
       "Sabse Bada Sukh                             2018              NaN   \n",
       "The Wandering Soap Opera                    2017             80.0   \n",
       "...                                                           ...   \n",
       "Kuambil Lagi Hatiku                         2019            123.0   \n",
       "Rodolpho Teóphilo - O Legado de um Pioneiro 2015              NaN   \n",
       "Dankyavar Danka                             2013              NaN   \n",
       "6 Gunn                                      2017            116.0   \n",
       "Chico Albuquerque - Revelações              2013              NaN   \n",
       "\n",
       "                                                                genres  \\\n",
       "title                                       year                         \n",
       "Sunghursh                                   2013    Action,Crime,Drama   \n",
       "One Day Before the Rainy Season             2019       Biography,Drama   \n",
       "The Other Side of the Wind                  2018                 Drama   \n",
       "Sabse Bada Sukh                             2018          Comedy,Drama   \n",
       "The Wandering Soap Opera                    2017  Comedy,Drama,Fantasy   \n",
       "...                                                                ...   \n",
       "Kuambil Lagi Hatiku                         2019                 Drama   \n",
       "Rodolpho Teóphilo - O Legado de um Pioneiro 2015           Documentary   \n",
       "Dankyavar Danka                             2013                Comedy   \n",
       "6 Gunn                                      2017                   NaN   \n",
       "Chico Albuquerque - Revelações              2013           Documentary   \n",
       "\n",
       "                                                  averagerating  numvotes  \n",
       "title                                       year                           \n",
       "Sunghursh                                   2013            7.0      77.0  \n",
       "One Day Before the Rainy Season             2019            7.2      43.0  \n",
       "The Other Side of the Wind                  2018            6.9    4517.0  \n",
       "Sabse Bada Sukh                             2018            6.1      13.0  \n",
       "The Wandering Soap Opera                    2017            6.5     119.0  \n",
       "...                                                         ...       ...  \n",
       "Kuambil Lagi Hatiku                         2019            NaN       NaN  \n",
       "Rodolpho Teóphilo - O Legado de um Pioneiro 2015            NaN       NaN  \n",
       "Dankyavar Danka                             2013            NaN       NaN  \n",
       "6 Gunn                                      2017            NaN       NaN  \n",
       "Chico Albuquerque - Revelações              2013            NaN       NaN  \n",
       "\n",
       "[146144 rows x 5 columns]"
      ]
     },
     "execution_count": 129,
     "metadata": {},
     "output_type": "execute_result"
    }
   ],
   "source": [
    "imdb_df"
   ]
  },
  {
   "cell_type": "markdown",
   "metadata": {},
   "source": [
    " "
   ]
  },
  {
   "cell_type": "markdown",
   "metadata": {},
   "source": [
    "I will also set `title` and `year` as the indices for the Box Office Mojo dataset so they can join to the IMDB dataset."
   ]
  },
  {
   "cell_type": "code",
   "execution_count": 130,
   "metadata": {},
   "outputs": [],
   "source": [
    "df1.set_index(['title', 'year'], inplace=True)"
   ]
  },
  {
   "cell_type": "code",
   "execution_count": 131,
   "metadata": {},
   "outputs": [
    {
     "data": {
      "text/html": [
       "<div>\n",
       "<style scoped>\n",
       "    .dataframe tbody tr th:only-of-type {\n",
       "        vertical-align: middle;\n",
       "    }\n",
       "\n",
       "    .dataframe tbody tr th {\n",
       "        vertical-align: top;\n",
       "    }\n",
       "\n",
       "    .dataframe thead th {\n",
       "        text-align: right;\n",
       "    }\n",
       "</style>\n",
       "<table border=\"1\" class=\"dataframe\">\n",
       "  <thead>\n",
       "    <tr style=\"text-align: right;\">\n",
       "      <th></th>\n",
       "      <th></th>\n",
       "      <th>studio</th>\n",
       "      <th>domestic_gross</th>\n",
       "      <th>foreign_gross</th>\n",
       "    </tr>\n",
       "    <tr>\n",
       "      <th>title</th>\n",
       "      <th>year</th>\n",
       "      <th></th>\n",
       "      <th></th>\n",
       "      <th></th>\n",
       "    </tr>\n",
       "  </thead>\n",
       "  <tbody>\n",
       "    <tr>\n",
       "      <th>Toy Story 3</th>\n",
       "      <th>2010</th>\n",
       "      <td>BV</td>\n",
       "      <td>415000000.0</td>\n",
       "      <td>652000000</td>\n",
       "    </tr>\n",
       "    <tr>\n",
       "      <th>Alice in Wonderland (2010)</th>\n",
       "      <th>2010</th>\n",
       "      <td>BV</td>\n",
       "      <td>334200000.0</td>\n",
       "      <td>691300000</td>\n",
       "    </tr>\n",
       "    <tr>\n",
       "      <th>Harry Potter and the Deathly Hallows Part 1</th>\n",
       "      <th>2010</th>\n",
       "      <td>WB</td>\n",
       "      <td>296000000.0</td>\n",
       "      <td>664300000</td>\n",
       "    </tr>\n",
       "    <tr>\n",
       "      <th>Inception</th>\n",
       "      <th>2010</th>\n",
       "      <td>WB</td>\n",
       "      <td>292600000.0</td>\n",
       "      <td>535700000</td>\n",
       "    </tr>\n",
       "    <tr>\n",
       "      <th>Shrek Forever After</th>\n",
       "      <th>2010</th>\n",
       "      <td>P/DW</td>\n",
       "      <td>238700000.0</td>\n",
       "      <td>513900000</td>\n",
       "    </tr>\n",
       "    <tr>\n",
       "      <th>...</th>\n",
       "      <th>...</th>\n",
       "      <td>...</td>\n",
       "      <td>...</td>\n",
       "      <td>...</td>\n",
       "    </tr>\n",
       "    <tr>\n",
       "      <th>The Quake</th>\n",
       "      <th>2018</th>\n",
       "      <td>Magn.</td>\n",
       "      <td>6200.0</td>\n",
       "      <td>NaN</td>\n",
       "    </tr>\n",
       "    <tr>\n",
       "      <th>Edward II (2018 re-release)</th>\n",
       "      <th>2018</th>\n",
       "      <td>FM</td>\n",
       "      <td>4800.0</td>\n",
       "      <td>NaN</td>\n",
       "    </tr>\n",
       "    <tr>\n",
       "      <th>El Pacto</th>\n",
       "      <th>2018</th>\n",
       "      <td>Sony</td>\n",
       "      <td>2500.0</td>\n",
       "      <td>NaN</td>\n",
       "    </tr>\n",
       "    <tr>\n",
       "      <th>The Swan</th>\n",
       "      <th>2018</th>\n",
       "      <td>Synergetic</td>\n",
       "      <td>2400.0</td>\n",
       "      <td>NaN</td>\n",
       "    </tr>\n",
       "    <tr>\n",
       "      <th>An Actor Prepares</th>\n",
       "      <th>2018</th>\n",
       "      <td>Grav.</td>\n",
       "      <td>1700.0</td>\n",
       "      <td>NaN</td>\n",
       "    </tr>\n",
       "  </tbody>\n",
       "</table>\n",
       "<p>3387 rows × 3 columns</p>\n",
       "</div>"
      ],
      "text/plain": [
       "                                                      studio  domestic_gross  \\\n",
       "title                                       year                               \n",
       "Toy Story 3                                 2010          BV     415000000.0   \n",
       "Alice in Wonderland (2010)                  2010          BV     334200000.0   \n",
       "Harry Potter and the Deathly Hallows Part 1 2010          WB     296000000.0   \n",
       "Inception                                   2010          WB     292600000.0   \n",
       "Shrek Forever After                         2010        P/DW     238700000.0   \n",
       "...                                                      ...             ...   \n",
       "The Quake                                   2018       Magn.          6200.0   \n",
       "Edward II (2018 re-release)                 2018          FM          4800.0   \n",
       "El Pacto                                    2018        Sony          2500.0   \n",
       "The Swan                                    2018  Synergetic          2400.0   \n",
       "An Actor Prepares                           2018       Grav.          1700.0   \n",
       "\n",
       "                                                 foreign_gross  \n",
       "title                                       year                \n",
       "Toy Story 3                                 2010     652000000  \n",
       "Alice in Wonderland (2010)                  2010     691300000  \n",
       "Harry Potter and the Deathly Hallows Part 1 2010     664300000  \n",
       "Inception                                   2010     535700000  \n",
       "Shrek Forever After                         2010     513900000  \n",
       "...                                                        ...  \n",
       "The Quake                                   2018           NaN  \n",
       "Edward II (2018 re-release)                 2018           NaN  \n",
       "El Pacto                                    2018           NaN  \n",
       "The Swan                                    2018           NaN  \n",
       "An Actor Prepares                           2018           NaN  \n",
       "\n",
       "[3387 rows x 3 columns]"
      ]
     },
     "execution_count": 131,
     "metadata": {},
     "output_type": "execute_result"
    }
   ],
   "source": [
    "df1"
   ]
  },
  {
   "cell_type": "markdown",
   "metadata": {},
   "source": [
    "I use an `outer` join to include all data from both datasets. I have named my new working dataset `joined_df`."
   ]
  },
  {
   "cell_type": "code",
   "execution_count": 132,
   "metadata": {},
   "outputs": [],
   "source": [
    "joined_df = imdb_df.join(df1, how='outer')"
   ]
  },
  {
   "cell_type": "markdown",
   "metadata": {},
   "source": [
    "### Data Cleaning\n",
    "\n",
    "The majority of the analyses pertain to movie genre. As shown below, because over 96% of genre data is *not* null, I will drop all null values from the `genres` column."
   ]
  },
  {
   "cell_type": "code",
   "execution_count": 133,
   "metadata": {},
   "outputs": [
    {
     "name": "stdout",
     "output_type": "stream",
     "text": [
      "<class 'pandas.core.frame.DataFrame'>\n",
      "MultiIndex: 147698 entries, (!Women Art Revolution, 2010) to (Šiška Deluxe, 2015)\n",
      "Data columns (total 8 columns):\n",
      "original_title     146123 non-null object\n",
      "runtime_minutes    114405 non-null float64\n",
      "genres             140736 non-null object\n",
      "averagerating      73856 non-null float64\n",
      "numvotes           73856 non-null float64\n",
      "studio             3422 non-null object\n",
      "domestic_gross     3399 non-null float64\n",
      "foreign_gross      2061 non-null object\n",
      "dtypes: float64(4), object(4)\n",
      "memory usage: 10.8+ MB\n"
     ]
    }
   ],
   "source": [
    "joined_df.info()"
   ]
  },
  {
   "cell_type": "code",
   "execution_count": 134,
   "metadata": {
    "scrolled": true
   },
   "outputs": [
    {
     "data": {
      "text/plain": [
       "0.9631337982384703"
      ]
     },
     "execution_count": 134,
     "metadata": {},
     "output_type": "execute_result"
    }
   ],
   "source": [
    "140736/146123"
   ]
  },
  {
   "cell_type": "code",
   "execution_count": 135,
   "metadata": {},
   "outputs": [],
   "source": [
    "joined_df = joined_df[joined_df['genres'].notna()]"
   ]
  },
  {
   "cell_type": "code",
   "execution_count": 136,
   "metadata": {
    "scrolled": true
   },
   "outputs": [
    {
     "data": {
      "text/html": [
       "<div>\n",
       "<style scoped>\n",
       "    .dataframe tbody tr th:only-of-type {\n",
       "        vertical-align: middle;\n",
       "    }\n",
       "\n",
       "    .dataframe tbody tr th {\n",
       "        vertical-align: top;\n",
       "    }\n",
       "\n",
       "    .dataframe thead th {\n",
       "        text-align: right;\n",
       "    }\n",
       "</style>\n",
       "<table border=\"1\" class=\"dataframe\">\n",
       "  <thead>\n",
       "    <tr style=\"text-align: right;\">\n",
       "      <th></th>\n",
       "      <th></th>\n",
       "      <th>original_title</th>\n",
       "      <th>runtime_minutes</th>\n",
       "      <th>genres</th>\n",
       "      <th>averagerating</th>\n",
       "      <th>numvotes</th>\n",
       "      <th>studio</th>\n",
       "      <th>domestic_gross</th>\n",
       "      <th>foreign_gross</th>\n",
       "    </tr>\n",
       "    <tr>\n",
       "      <th>title</th>\n",
       "      <th>year</th>\n",
       "      <th></th>\n",
       "      <th></th>\n",
       "      <th></th>\n",
       "      <th></th>\n",
       "      <th></th>\n",
       "      <th></th>\n",
       "      <th></th>\n",
       "      <th></th>\n",
       "    </tr>\n",
       "  </thead>\n",
       "  <tbody>\n",
       "    <tr>\n",
       "      <th>!Women Art Revolution</th>\n",
       "      <th>2010</th>\n",
       "      <td>Women Art Revolution</td>\n",
       "      <td>83.0</td>\n",
       "      <td>Documentary</td>\n",
       "      <td>6.9</td>\n",
       "      <td>196.0</td>\n",
       "      <td>NaN</td>\n",
       "      <td>NaN</td>\n",
       "      <td>NaN</td>\n",
       "    </tr>\n",
       "    <tr>\n",
       "      <th>#1 Serial Killer</th>\n",
       "      <th>2013</th>\n",
       "      <td>#1 Serial Killer</td>\n",
       "      <td>87.0</td>\n",
       "      <td>Horror</td>\n",
       "      <td>5.6</td>\n",
       "      <td>40.0</td>\n",
       "      <td>NaN</td>\n",
       "      <td>NaN</td>\n",
       "      <td>NaN</td>\n",
       "    </tr>\n",
       "    <tr>\n",
       "      <th rowspan=\"2\" valign=\"top\">#5</th>\n",
       "      <th>2013</th>\n",
       "      <td>#5</td>\n",
       "      <td>68.0</td>\n",
       "      <td>Biography,Comedy,Fantasy</td>\n",
       "      <td>6.8</td>\n",
       "      <td>6.0</td>\n",
       "      <td>NaN</td>\n",
       "      <td>NaN</td>\n",
       "      <td>NaN</td>\n",
       "    </tr>\n",
       "    <tr>\n",
       "      <th>2018</th>\n",
       "      <td>#5</td>\n",
       "      <td>NaN</td>\n",
       "      <td>Documentary</td>\n",
       "      <td>NaN</td>\n",
       "      <td>NaN</td>\n",
       "      <td>NaN</td>\n",
       "      <td>NaN</td>\n",
       "      <td>NaN</td>\n",
       "    </tr>\n",
       "    <tr>\n",
       "      <th>#50Fathers</th>\n",
       "      <th>2015</th>\n",
       "      <td>#50Fathers</td>\n",
       "      <td>132.0</td>\n",
       "      <td>Comedy</td>\n",
       "      <td>NaN</td>\n",
       "      <td>NaN</td>\n",
       "      <td>NaN</td>\n",
       "      <td>NaN</td>\n",
       "      <td>NaN</td>\n",
       "    </tr>\n",
       "  </tbody>\n",
       "</table>\n",
       "</div>"
      ],
      "text/plain": [
       "                                  original_title  runtime_minutes  \\\n",
       "title                 year                                          \n",
       "!Women Art Revolution 2010  Women Art Revolution             83.0   \n",
       "#1 Serial Killer      2013      #1 Serial Killer             87.0   \n",
       "#5                    2013                    #5             68.0   \n",
       "                      2018                    #5              NaN   \n",
       "#50Fathers            2015            #50Fathers            132.0   \n",
       "\n",
       "                                              genres  averagerating  numvotes  \\\n",
       "title                 year                                                      \n",
       "!Women Art Revolution 2010               Documentary            6.9     196.0   \n",
       "#1 Serial Killer      2013                    Horror            5.6      40.0   \n",
       "#5                    2013  Biography,Comedy,Fantasy            6.8       6.0   \n",
       "                      2018               Documentary            NaN       NaN   \n",
       "#50Fathers            2015                    Comedy            NaN       NaN   \n",
       "\n",
       "                           studio  domestic_gross foreign_gross  \n",
       "title                 year                                       \n",
       "!Women Art Revolution 2010    NaN             NaN           NaN  \n",
       "#1 Serial Killer      2013    NaN             NaN           NaN  \n",
       "#5                    2013    NaN             NaN           NaN  \n",
       "                      2018    NaN             NaN           NaN  \n",
       "#50Fathers            2015    NaN             NaN           NaN  "
      ]
     },
     "execution_count": 136,
     "metadata": {},
     "output_type": "execute_result"
    }
   ],
   "source": [
    "joined_df.head()"
   ]
  },
  {
   "cell_type": "markdown",
   "metadata": {},
   "source": [
    "I will drop `studio` and `foreign_gross`, since they are not relevant to my analyis."
   ]
  },
  {
   "cell_type": "code",
   "execution_count": 137,
   "metadata": {},
   "outputs": [],
   "source": [
    "joined_df.drop(columns = ['studio', 'foreign_gross'], inplace=True)"
   ]
  },
  {
   "cell_type": "markdown",
   "metadata": {},
   "source": [
    "I am creating a list of a set of genres to iterate over in a function that will return data from other columns respective to each genre. "
   ]
  },
  {
   "cell_type": "code",
   "execution_count": 138,
   "metadata": {},
   "outputs": [
    {
     "name": "stdout",
     "output_type": "stream",
     "text": [
      "<class 'pandas.core.frame.DataFrame'>\n",
      "MultiIndex: 140736 entries, (!Women Art Revolution, 2010) to (Šiška Deluxe, 2015)\n",
      "Data columns (total 6 columns):\n",
      "original_title     140734 non-null object\n",
      "runtime_minutes    112233 non-null float64\n",
      "genres             140736 non-null object\n",
      "averagerating      73052 non-null float64\n",
      "numvotes           73052 non-null float64\n",
      "domestic_gross     1861 non-null float64\n",
      "dtypes: float64(4), object(2)\n",
      "memory usage: 8.2+ MB\n"
     ]
    }
   ],
   "source": [
    "joined_df.info()"
   ]
  },
  {
   "cell_type": "code",
   "execution_count": 139,
   "metadata": {},
   "outputs": [],
   "source": [
    "new_genres_col = joined_df['genres'].dropna()"
   ]
  },
  {
   "cell_type": "code",
   "execution_count": 140,
   "metadata": {},
   "outputs": [],
   "source": [
    "new_genres_col = new_genres_col.str.split(',')"
   ]
  },
  {
   "cell_type": "code",
   "execution_count": 141,
   "metadata": {},
   "outputs": [],
   "source": [
    "list_of_genres = []\n",
    "for row in new_genres_col:\n",
    "    for x in row:\n",
    "        list_of_genres.append(x)"
   ]
  },
  {
   "cell_type": "code",
   "execution_count": 142,
   "metadata": {},
   "outputs": [],
   "source": [
    "list_of_genres = list(set(list_of_genres))"
   ]
  },
  {
   "cell_type": "code",
   "execution_count": 143,
   "metadata": {},
   "outputs": [],
   "source": [
    "genres_df = pd.DataFrame(new_genres_col)"
   ]
  },
  {
   "cell_type": "code",
   "execution_count": 144,
   "metadata": {},
   "outputs": [
    {
     "data": {
      "text/html": [
       "<div>\n",
       "<style scoped>\n",
       "    .dataframe tbody tr th:only-of-type {\n",
       "        vertical-align: middle;\n",
       "    }\n",
       "\n",
       "    .dataframe tbody tr th {\n",
       "        vertical-align: top;\n",
       "    }\n",
       "\n",
       "    .dataframe thead th {\n",
       "        text-align: right;\n",
       "    }\n",
       "</style>\n",
       "<table border=\"1\" class=\"dataframe\">\n",
       "  <thead>\n",
       "    <tr style=\"text-align: right;\">\n",
       "      <th></th>\n",
       "      <th></th>\n",
       "      <th>genres</th>\n",
       "    </tr>\n",
       "    <tr>\n",
       "      <th>title</th>\n",
       "      <th>year</th>\n",
       "      <th></th>\n",
       "    </tr>\n",
       "  </thead>\n",
       "  <tbody>\n",
       "    <tr>\n",
       "      <th>!Women Art Revolution</th>\n",
       "      <th>2010</th>\n",
       "      <td>[Documentary]</td>\n",
       "    </tr>\n",
       "    <tr>\n",
       "      <th>#1 Serial Killer</th>\n",
       "      <th>2013</th>\n",
       "      <td>[Horror]</td>\n",
       "    </tr>\n",
       "    <tr>\n",
       "      <th rowspan=\"2\" valign=\"top\">#5</th>\n",
       "      <th>2013</th>\n",
       "      <td>[Biography, Comedy, Fantasy]</td>\n",
       "    </tr>\n",
       "    <tr>\n",
       "      <th>2018</th>\n",
       "      <td>[Documentary]</td>\n",
       "    </tr>\n",
       "    <tr>\n",
       "      <th>#50Fathers</th>\n",
       "      <th>2015</th>\n",
       "      <td>[Comedy]</td>\n",
       "    </tr>\n",
       "    <tr>\n",
       "      <th>...</th>\n",
       "      <th>...</th>\n",
       "      <td>...</td>\n",
       "    </tr>\n",
       "    <tr>\n",
       "      <th>è solo questione di punti di vista</th>\n",
       "      <th>2012</th>\n",
       "      <td>[Action, Adventure, Comedy]</td>\n",
       "    </tr>\n",
       "    <tr>\n",
       "      <th>è solo questione di tempo</th>\n",
       "      <th>2013</th>\n",
       "      <td>[Comedy]</td>\n",
       "    </tr>\n",
       "    <tr>\n",
       "      <th>élèctions piege à cons</th>\n",
       "      <th>2014</th>\n",
       "      <td>[Comedy]</td>\n",
       "    </tr>\n",
       "    <tr>\n",
       "      <th>împetu</th>\n",
       "      <th>2017</th>\n",
       "      <td>[Documentary]</td>\n",
       "    </tr>\n",
       "    <tr>\n",
       "      <th>Šiška Deluxe</th>\n",
       "      <th>2015</th>\n",
       "      <td>[Comedy, Drama]</td>\n",
       "    </tr>\n",
       "  </tbody>\n",
       "</table>\n",
       "<p>140736 rows × 1 columns</p>\n",
       "</div>"
      ],
      "text/plain": [
       "                                                               genres\n",
       "title                              year                              \n",
       "!Women Art Revolution              2010                 [Documentary]\n",
       "#1 Serial Killer                   2013                      [Horror]\n",
       "#5                                 2013  [Biography, Comedy, Fantasy]\n",
       "                                   2018                 [Documentary]\n",
       "#50Fathers                         2015                      [Comedy]\n",
       "...                                                               ...\n",
       "è solo questione di punti di vista 2012   [Action, Adventure, Comedy]\n",
       "è solo questione di tempo          2013                      [Comedy]\n",
       "élèctions piege à cons             2014                      [Comedy]\n",
       "împetu                             2017                 [Documentary]\n",
       "Šiška Deluxe                       2015               [Comedy, Drama]\n",
       "\n",
       "[140736 rows x 1 columns]"
      ]
     },
     "execution_count": 144,
     "metadata": {},
     "output_type": "execute_result"
    }
   ],
   "source": [
    "genres_df"
   ]
  },
  {
   "cell_type": "code",
   "execution_count": 145,
   "metadata": {},
   "outputs": [
    {
     "name": "stdout",
     "output_type": "stream",
     "text": [
      "<class 'pandas.core.frame.DataFrame'>\n",
      "MultiIndex: 140736 entries, (!Women Art Revolution, 2010) to (Šiška Deluxe, 2015)\n",
      "Data columns (total 6 columns):\n",
      "original_title     140734 non-null object\n",
      "runtime_minutes    112233 non-null float64\n",
      "genres             140736 non-null object\n",
      "averagerating      73052 non-null float64\n",
      "numvotes           73052 non-null float64\n",
      "domestic_gross     1861 non-null float64\n",
      "dtypes: float64(4), object(2)\n",
      "memory usage: 8.2+ MB\n"
     ]
    }
   ],
   "source": [
    "joined_df.info()"
   ]
  },
  {
   "cell_type": "markdown",
   "metadata": {},
   "source": [
    "Because `domestic_gross` contains a significant amount of null values, I will create a new dataframe called `dom_gross_df` that examines the relationship between domestic gross and genre."
   ]
  },
  {
   "cell_type": "code",
   "execution_count": 146,
   "metadata": {},
   "outputs": [],
   "source": [
    "dom_gross_df = joined_df[joined_df['domestic_gross'].notna()]"
   ]
  },
  {
   "cell_type": "code",
   "execution_count": 147,
   "metadata": {},
   "outputs": [
    {
     "name": "stdout",
     "output_type": "stream",
     "text": [
      "<class 'pandas.core.frame.DataFrame'>\n",
      "MultiIndex: 1861 entries, (10 Cloverfield Lane, 2016) to (Zootopia, 2016)\n",
      "Data columns (total 6 columns):\n",
      "original_title     1861 non-null object\n",
      "runtime_minutes    1852 non-null float64\n",
      "genres             1861 non-null object\n",
      "averagerating      1835 non-null float64\n",
      "numvotes           1835 non-null float64\n",
      "domestic_gross     1861 non-null float64\n",
      "dtypes: float64(4), object(2)\n",
      "memory usage: 1.1+ MB\n"
     ]
    }
   ],
   "source": [
    "dom_gross_df.info()"
   ]
  },
  {
   "cell_type": "markdown",
   "metadata": {},
   "source": [
    "I'll remove the nulls from `runtime_minutes` and from `averagerating`, which should correspond with the nulls from `numvotes`."
   ]
  },
  {
   "cell_type": "code",
   "execution_count": 148,
   "metadata": {},
   "outputs": [],
   "source": [
    "dom_gross_df = dom_gross_df[dom_gross_df['averagerating'].notna()]"
   ]
  },
  {
   "cell_type": "code",
   "execution_count": 149,
   "metadata": {},
   "outputs": [
    {
     "name": "stdout",
     "output_type": "stream",
     "text": [
      "<class 'pandas.core.frame.DataFrame'>\n",
      "MultiIndex: 1835 entries, (10 Cloverfield Lane, 2016) to (Zootopia, 2016)\n",
      "Data columns (total 6 columns):\n",
      "original_title     1835 non-null object\n",
      "runtime_minutes    1832 non-null float64\n",
      "genres             1835 non-null object\n",
      "averagerating      1835 non-null float64\n",
      "numvotes           1835 non-null float64\n",
      "domestic_gross     1835 non-null float64\n",
      "dtypes: float64(4), object(2)\n",
      "memory usage: 1.1+ MB\n"
     ]
    }
   ],
   "source": [
    "dom_gross_df.info()"
   ]
  },
  {
   "cell_type": "code",
   "execution_count": 150,
   "metadata": {},
   "outputs": [],
   "source": [
    "dom_gross_df = dom_gross_df[dom_gross_df['runtime_minutes'].notna()]"
   ]
  },
  {
   "cell_type": "code",
   "execution_count": 151,
   "metadata": {},
   "outputs": [
    {
     "name": "stdout",
     "output_type": "stream",
     "text": [
      "<class 'pandas.core.frame.DataFrame'>\n",
      "MultiIndex: 1832 entries, (10 Cloverfield Lane, 2016) to (Zootopia, 2016)\n",
      "Data columns (total 6 columns):\n",
      "original_title     1832 non-null object\n",
      "runtime_minutes    1832 non-null float64\n",
      "genres             1832 non-null object\n",
      "averagerating      1832 non-null float64\n",
      "numvotes           1832 non-null float64\n",
      "domestic_gross     1832 non-null float64\n",
      "dtypes: float64(4), object(2)\n",
      "memory usage: 1.1+ MB\n"
     ]
    }
   ],
   "source": [
    "dom_gross_df.info()"
   ]
  },
  {
   "cell_type": "markdown",
   "metadata": {},
   "source": [
    "Examine the duplicated titles in the `joined_df` before I decide if I want to duplicate it (which turns out to be yes)"
   ]
  },
  {
   "cell_type": "code",
   "execution_count": 152,
   "metadata": {},
   "outputs": [
    {
     "data": {
      "text/html": [
       "<div>\n",
       "<style scoped>\n",
       "    .dataframe tbody tr th:only-of-type {\n",
       "        vertical-align: middle;\n",
       "    }\n",
       "\n",
       "    .dataframe tbody tr th {\n",
       "        vertical-align: top;\n",
       "    }\n",
       "\n",
       "    .dataframe thead th {\n",
       "        text-align: right;\n",
       "    }\n",
       "</style>\n",
       "<table border=\"1\" class=\"dataframe\">\n",
       "  <thead>\n",
       "    <tr style=\"text-align: right;\">\n",
       "      <th></th>\n",
       "      <th></th>\n",
       "      <th>original_title</th>\n",
       "      <th>runtime_minutes</th>\n",
       "      <th>genres</th>\n",
       "      <th>averagerating</th>\n",
       "      <th>numvotes</th>\n",
       "      <th>domestic_gross</th>\n",
       "    </tr>\n",
       "    <tr>\n",
       "      <th>title</th>\n",
       "      <th>year</th>\n",
       "      <th></th>\n",
       "      <th></th>\n",
       "      <th></th>\n",
       "      <th></th>\n",
       "      <th></th>\n",
       "      <th></th>\n",
       "    </tr>\n",
       "  </thead>\n",
       "  <tbody>\n",
       "    <tr>\n",
       "      <th>#5</th>\n",
       "      <th>2018</th>\n",
       "      <td>#5</td>\n",
       "      <td>NaN</td>\n",
       "      <td>Documentary</td>\n",
       "      <td>NaN</td>\n",
       "      <td>NaN</td>\n",
       "      <td>NaN</td>\n",
       "    </tr>\n",
       "    <tr>\n",
       "      <th>(aguirre)</th>\n",
       "      <th>2016</th>\n",
       "      <td>(aguirre)</td>\n",
       "      <td>98.0</td>\n",
       "      <td>Biography,Comedy,Documentary</td>\n",
       "      <td>NaN</td>\n",
       "      <td>NaN</td>\n",
       "      <td>NaN</td>\n",
       "    </tr>\n",
       "    <tr>\n",
       "      <th rowspan=\"2\" valign=\"top\">1</th>\n",
       "      <th>2016</th>\n",
       "      <td>1</td>\n",
       "      <td>22.0</td>\n",
       "      <td>Documentary</td>\n",
       "      <td>NaN</td>\n",
       "      <td>NaN</td>\n",
       "      <td>NaN</td>\n",
       "    </tr>\n",
       "    <tr>\n",
       "      <th>2019</th>\n",
       "      <td>1</td>\n",
       "      <td>100.0</td>\n",
       "      <td>Drama</td>\n",
       "      <td>9.2</td>\n",
       "      <td>13.0</td>\n",
       "      <td>NaN</td>\n",
       "    </tr>\n",
       "    <tr>\n",
       "      <th>10</th>\n",
       "      <th>2012</th>\n",
       "      <td>10</td>\n",
       "      <td>76.0</td>\n",
       "      <td>Thriller</td>\n",
       "      <td>NaN</td>\n",
       "      <td>NaN</td>\n",
       "      <td>NaN</td>\n",
       "    </tr>\n",
       "    <tr>\n",
       "      <th>...</th>\n",
       "      <th>...</th>\n",
       "      <td>...</td>\n",
       "      <td>...</td>\n",
       "      <td>...</td>\n",
       "      <td>...</td>\n",
       "      <td>...</td>\n",
       "      <td>...</td>\n",
       "    </tr>\n",
       "    <tr>\n",
       "      <th rowspan=\"3\" valign=\"top\">Ângelo de Sousa - Tudo o Que Sou Capaz</th>\n",
       "      <th>2010</th>\n",
       "      <td>Ângelo de Sousa - Tudo o Que Sou Capaz</td>\n",
       "      <td>60.0</td>\n",
       "      <td>Biography,Documentary</td>\n",
       "      <td>NaN</td>\n",
       "      <td>NaN</td>\n",
       "      <td>NaN</td>\n",
       "    </tr>\n",
       "    <tr>\n",
       "      <th>2010</th>\n",
       "      <td>Ângelo de Sousa - Tudo o Que Sou Capaz</td>\n",
       "      <td>60.0</td>\n",
       "      <td>Biography,Documentary</td>\n",
       "      <td>NaN</td>\n",
       "      <td>NaN</td>\n",
       "      <td>NaN</td>\n",
       "    </tr>\n",
       "    <tr>\n",
       "      <th>2010</th>\n",
       "      <td>Ângelo de Sousa - Tudo o Que Sou Capaz</td>\n",
       "      <td>60.0</td>\n",
       "      <td>Biography,Documentary</td>\n",
       "      <td>NaN</td>\n",
       "      <td>NaN</td>\n",
       "      <td>NaN</td>\n",
       "    </tr>\n",
       "    <tr>\n",
       "      <th>Éden</th>\n",
       "      <th>2013</th>\n",
       "      <td>Éden</td>\n",
       "      <td>73.0</td>\n",
       "      <td>Drama</td>\n",
       "      <td>6.1</td>\n",
       "      <td>50.0</td>\n",
       "      <td>NaN</td>\n",
       "    </tr>\n",
       "    <tr>\n",
       "      <th>Ódio</th>\n",
       "      <th>2017</th>\n",
       "      <td>Ódio</td>\n",
       "      <td>NaN</td>\n",
       "      <td>Action</td>\n",
       "      <td>NaN</td>\n",
       "      <td>NaN</td>\n",
       "      <td>NaN</td>\n",
       "    </tr>\n",
       "  </tbody>\n",
       "</table>\n",
       "<p>7713 rows × 6 columns</p>\n",
       "</div>"
      ],
      "text/plain": [
       "                                                                     original_title  \\\n",
       "title                                  year                                           \n",
       "#5                                     2018                                      #5   \n",
       "(aguirre)                              2016                               (aguirre)   \n",
       "1                                      2016                                       1   \n",
       "                                       2019                                       1   \n",
       "10                                     2012                                      10   \n",
       "...                                                                             ...   \n",
       "Ângelo de Sousa - Tudo o Que Sou Capaz 2010  Ângelo de Sousa - Tudo o Que Sou Capaz   \n",
       "                                       2010  Ângelo de Sousa - Tudo o Que Sou Capaz   \n",
       "                                       2010  Ângelo de Sousa - Tudo o Que Sou Capaz   \n",
       "Éden                                   2013                                    Éden   \n",
       "Ódio                                   2017                                    Ódio   \n",
       "\n",
       "                                             runtime_minutes  \\\n",
       "title                                  year                    \n",
       "#5                                     2018              NaN   \n",
       "(aguirre)                              2016             98.0   \n",
       "1                                      2016             22.0   \n",
       "                                       2019            100.0   \n",
       "10                                     2012             76.0   \n",
       "...                                                      ...   \n",
       "Ângelo de Sousa - Tudo o Que Sou Capaz 2010             60.0   \n",
       "                                       2010             60.0   \n",
       "                                       2010             60.0   \n",
       "Éden                                   2013             73.0   \n",
       "Ódio                                   2017              NaN   \n",
       "\n",
       "                                                                   genres  \\\n",
       "title                                  year                                 \n",
       "#5                                     2018                   Documentary   \n",
       "(aguirre)                              2016  Biography,Comedy,Documentary   \n",
       "1                                      2016                   Documentary   \n",
       "                                       2019                         Drama   \n",
       "10                                     2012                      Thriller   \n",
       "...                                                                   ...   \n",
       "Ângelo de Sousa - Tudo o Que Sou Capaz 2010         Biography,Documentary   \n",
       "                                       2010         Biography,Documentary   \n",
       "                                       2010         Biography,Documentary   \n",
       "Éden                                   2013                         Drama   \n",
       "Ódio                                   2017                        Action   \n",
       "\n",
       "                                             averagerating  numvotes  \\\n",
       "title                                  year                            \n",
       "#5                                     2018            NaN       NaN   \n",
       "(aguirre)                              2016            NaN       NaN   \n",
       "1                                      2016            NaN       NaN   \n",
       "                                       2019            9.2      13.0   \n",
       "10                                     2012            NaN       NaN   \n",
       "...                                                    ...       ...   \n",
       "Ângelo de Sousa - Tudo o Que Sou Capaz 2010            NaN       NaN   \n",
       "                                       2010            NaN       NaN   \n",
       "                                       2010            NaN       NaN   \n",
       "Éden                                   2013            6.1      50.0   \n",
       "Ódio                                   2017            NaN       NaN   \n",
       "\n",
       "                                             domestic_gross  \n",
       "title                                  year                  \n",
       "#5                                     2018             NaN  \n",
       "(aguirre)                              2016             NaN  \n",
       "1                                      2016             NaN  \n",
       "                                       2019             NaN  \n",
       "10                                     2012             NaN  \n",
       "...                                                     ...  \n",
       "Ângelo de Sousa - Tudo o Que Sou Capaz 2010             NaN  \n",
       "                                       2010             NaN  \n",
       "                                       2010             NaN  \n",
       "Éden                                   2013             NaN  \n",
       "Ódio                                   2017             NaN  \n",
       "\n",
       "[7713 rows x 6 columns]"
      ]
     },
     "execution_count": 152,
     "metadata": {},
     "output_type": "execute_result"
    }
   ],
   "source": [
    "joined_df.loc[joined_df['original_title'].duplicated()]"
   ]
  },
  {
   "cell_type": "markdown",
   "metadata": {},
   "source": [
    "Total amount of duplicates is 7713."
   ]
  },
  {
   "cell_type": "code",
   "execution_count": 153,
   "metadata": {},
   "outputs": [
    {
     "data": {
      "text/plain": [
       "7713"
      ]
     },
     "execution_count": 153,
     "metadata": {},
     "output_type": "execute_result"
    }
   ],
   "source": [
    "joined_df['original_title'].duplicated().sum()"
   ]
  },
  {
   "cell_type": "code",
   "execution_count": 154,
   "metadata": {},
   "outputs": [
    {
     "name": "stdout",
     "output_type": "stream",
     "text": [
      "<class 'pandas.core.frame.DataFrame'>\n",
      "MultiIndex: 140736 entries, (!Women Art Revolution, 2010) to (Šiška Deluxe, 2015)\n",
      "Data columns (total 6 columns):\n",
      "original_title     140734 non-null object\n",
      "runtime_minutes    112233 non-null float64\n",
      "genres             140736 non-null object\n",
      "averagerating      73052 non-null float64\n",
      "numvotes           73052 non-null float64\n",
      "domestic_gross     1861 non-null float64\n",
      "dtypes: float64(4), object(2)\n",
      "memory usage: 13.2+ MB\n"
     ]
    }
   ],
   "source": [
    "joined_df.info()"
   ]
  },
  {
   "cell_type": "markdown",
   "metadata": {},
   "source": [
    "See how much data I would be losing:"
   ]
  },
  {
   "cell_type": "code",
   "execution_count": 155,
   "metadata": {
    "scrolled": true
   },
   "outputs": [
    {
     "data": {
      "text/plain": [
       "0.054805519632782414"
      ]
     },
     "execution_count": 155,
     "metadata": {},
     "output_type": "execute_result"
    }
   ],
   "source": [
    "7713/140734"
   ]
  },
  {
   "cell_type": "markdown",
   "metadata": {},
   "source": [
    "I'll drop the duplicates, which make up about 5% of the data."
   ]
  },
  {
   "cell_type": "code",
   "execution_count": 156,
   "metadata": {},
   "outputs": [],
   "source": [
    "joined_df = joined_df.drop_duplicates(subset=['original_title'])"
   ]
  },
  {
   "cell_type": "markdown",
   "metadata": {},
   "source": [
    "Double check to see if I have any duplicate titles left."
   ]
  },
  {
   "cell_type": "code",
   "execution_count": 157,
   "metadata": {},
   "outputs": [
    {
     "data": {
      "text/plain": [
       "0"
      ]
     },
     "execution_count": 157,
     "metadata": {},
     "output_type": "execute_result"
    }
   ],
   "source": [
    "joined_df.duplicated().sum()"
   ]
  },
  {
   "cell_type": "markdown",
   "metadata": {},
   "source": [
    "### Null Values"
   ]
  },
  {
   "cell_type": "markdown",
   "metadata": {},
   "source": [
    "Now moving onto null values for each column. Let's jump to with `averagerating`."
   ]
  },
  {
   "cell_type": "code",
   "execution_count": 158,
   "metadata": {},
   "outputs": [
    {
     "name": "stdout",
     "output_type": "stream",
     "text": [
      "<class 'pandas.core.frame.DataFrame'>\n",
      "MultiIndex: 133023 entries, (!Women Art Revolution, 2010) to (Šiška Deluxe, 2015)\n",
      "Data columns (total 6 columns):\n",
      "original_title     133022 non-null object\n",
      "runtime_minutes    106282 non-null float64\n",
      "genres             133023 non-null object\n",
      "averagerating      69281 non-null float64\n",
      "numvotes           69281 non-null float64\n",
      "domestic_gross     1702 non-null float64\n",
      "dtypes: float64(4), object(2)\n",
      "memory usage: 7.8+ MB\n"
     ]
    }
   ],
   "source": [
    "joined_df.info()"
   ]
  },
  {
   "cell_type": "code",
   "execution_count": 159,
   "metadata": {},
   "outputs": [
    {
     "data": {
      "text/plain": [
       "63742"
      ]
     },
     "execution_count": 159,
     "metadata": {},
     "output_type": "execute_result"
    }
   ],
   "source": [
    "joined_df['averagerating'].isna().sum()"
   ]
  },
  {
   "cell_type": "code",
   "execution_count": 160,
   "metadata": {},
   "outputs": [
    {
     "data": {
      "text/plain": [
       "0.4791802921299324"
      ]
     },
     "execution_count": 160,
     "metadata": {},
     "output_type": "execute_result"
    }
   ],
   "source": [
    "63742/133023"
   ]
  },
  {
   "cell_type": "markdown",
   "metadata": {},
   "source": [
    "I want to create new subset dataframes to slice the data pertaining to each variable. I am using the descriptive data to gauge where I will cut out necessary outliers."
   ]
  },
  {
   "cell_type": "code",
   "execution_count": 161,
   "metadata": {},
   "outputs": [
    {
     "data": {
      "text/html": [
       "<div>\n",
       "<style scoped>\n",
       "    .dataframe tbody tr th:only-of-type {\n",
       "        vertical-align: middle;\n",
       "    }\n",
       "\n",
       "    .dataframe tbody tr th {\n",
       "        vertical-align: top;\n",
       "    }\n",
       "\n",
       "    .dataframe thead th {\n",
       "        text-align: right;\n",
       "    }\n",
       "</style>\n",
       "<table border=\"1\" class=\"dataframe\">\n",
       "  <thead>\n",
       "    <tr style=\"text-align: right;\">\n",
       "      <th></th>\n",
       "      <th>runtime_minutes</th>\n",
       "      <th>averagerating</th>\n",
       "      <th>numvotes</th>\n",
       "      <th>domestic_gross</th>\n",
       "    </tr>\n",
       "  </thead>\n",
       "  <tbody>\n",
       "    <tr>\n",
       "      <th>count</th>\n",
       "      <td>106282.000000</td>\n",
       "      <td>69281.000000</td>\n",
       "      <td>6.928100e+04</td>\n",
       "      <td>1.702000e+03</td>\n",
       "    </tr>\n",
       "    <tr>\n",
       "      <th>mean</th>\n",
       "      <td>86.304238</td>\n",
       "      <td>6.338566</td>\n",
       "      <td>3.460881e+03</td>\n",
       "      <td>4.302755e+07</td>\n",
       "    </tr>\n",
       "    <tr>\n",
       "      <th>std</th>\n",
       "      <td>172.337955</td>\n",
       "      <td>1.475097</td>\n",
       "      <td>3.023482e+04</td>\n",
       "      <td>7.793753e+07</td>\n",
       "    </tr>\n",
       "    <tr>\n",
       "      <th>min</th>\n",
       "      <td>1.000000</td>\n",
       "      <td>1.000000</td>\n",
       "      <td>5.000000e+00</td>\n",
       "      <td>3.000000e+02</td>\n",
       "    </tr>\n",
       "    <tr>\n",
       "      <th>25%</th>\n",
       "      <td>70.000000</td>\n",
       "      <td>5.500000</td>\n",
       "      <td>1.400000e+01</td>\n",
       "      <td>5.440000e+05</td>\n",
       "    </tr>\n",
       "    <tr>\n",
       "      <th>50%</th>\n",
       "      <td>87.000000</td>\n",
       "      <td>6.500000</td>\n",
       "      <td>5.000000e+01</td>\n",
       "      <td>1.045000e+07</td>\n",
       "    </tr>\n",
       "    <tr>\n",
       "      <th>75%</th>\n",
       "      <td>99.000000</td>\n",
       "      <td>7.400000</td>\n",
       "      <td>2.820000e+02</td>\n",
       "      <td>5.232500e+07</td>\n",
       "    </tr>\n",
       "    <tr>\n",
       "      <th>max</th>\n",
       "      <td>51420.000000</td>\n",
       "      <td>10.000000</td>\n",
       "      <td>1.841066e+06</td>\n",
       "      <td>7.001000e+08</td>\n",
       "    </tr>\n",
       "  </tbody>\n",
       "</table>\n",
       "</div>"
      ],
      "text/plain": [
       "       runtime_minutes  averagerating      numvotes  domestic_gross\n",
       "count    106282.000000   69281.000000  6.928100e+04    1.702000e+03\n",
       "mean         86.304238       6.338566  3.460881e+03    4.302755e+07\n",
       "std         172.337955       1.475097  3.023482e+04    7.793753e+07\n",
       "min           1.000000       1.000000  5.000000e+00    3.000000e+02\n",
       "25%          70.000000       5.500000  1.400000e+01    5.440000e+05\n",
       "50%          87.000000       6.500000  5.000000e+01    1.045000e+07\n",
       "75%          99.000000       7.400000  2.820000e+02    5.232500e+07\n",
       "max       51420.000000      10.000000  1.841066e+06    7.001000e+08"
      ]
     },
     "execution_count": 161,
     "metadata": {},
     "output_type": "execute_result"
    }
   ],
   "source": [
    "joined_df.describe()"
   ]
  },
  {
   "cell_type": "code",
   "execution_count": 162,
   "metadata": {},
   "outputs": [],
   "source": [
    "avg_rate_df = joined_df[(joined_df['numvotes'] >=10)]"
   ]
  },
  {
   "cell_type": "code",
   "execution_count": 163,
   "metadata": {},
   "outputs": [
    {
     "data": {
      "text/html": [
       "<div>\n",
       "<style scoped>\n",
       "    .dataframe tbody tr th:only-of-type {\n",
       "        vertical-align: middle;\n",
       "    }\n",
       "\n",
       "    .dataframe tbody tr th {\n",
       "        vertical-align: top;\n",
       "    }\n",
       "\n",
       "    .dataframe thead th {\n",
       "        text-align: right;\n",
       "    }\n",
       "</style>\n",
       "<table border=\"1\" class=\"dataframe\">\n",
       "  <thead>\n",
       "    <tr style=\"text-align: right;\">\n",
       "      <th></th>\n",
       "      <th></th>\n",
       "      <th>original_title</th>\n",
       "      <th>runtime_minutes</th>\n",
       "      <th>genres</th>\n",
       "      <th>averagerating</th>\n",
       "      <th>numvotes</th>\n",
       "      <th>domestic_gross</th>\n",
       "    </tr>\n",
       "    <tr>\n",
       "      <th>title</th>\n",
       "      <th>year</th>\n",
       "      <th></th>\n",
       "      <th></th>\n",
       "      <th></th>\n",
       "      <th></th>\n",
       "      <th></th>\n",
       "      <th></th>\n",
       "    </tr>\n",
       "  </thead>\n",
       "  <tbody>\n",
       "    <tr>\n",
       "      <th>!Women Art Revolution</th>\n",
       "      <th>2010</th>\n",
       "      <td>Women Art Revolution</td>\n",
       "      <td>83.0</td>\n",
       "      <td>Documentary</td>\n",
       "      <td>6.9</td>\n",
       "      <td>196.0</td>\n",
       "      <td>NaN</td>\n",
       "    </tr>\n",
       "    <tr>\n",
       "      <th>#1 Serial Killer</th>\n",
       "      <th>2013</th>\n",
       "      <td>#1 Serial Killer</td>\n",
       "      <td>87.0</td>\n",
       "      <td>Horror</td>\n",
       "      <td>5.6</td>\n",
       "      <td>40.0</td>\n",
       "      <td>NaN</td>\n",
       "    </tr>\n",
       "    <tr>\n",
       "      <th>#66</th>\n",
       "      <th>2015</th>\n",
       "      <td>#66</td>\n",
       "      <td>116.0</td>\n",
       "      <td>Action</td>\n",
       "      <td>5.3</td>\n",
       "      <td>18.0</td>\n",
       "      <td>NaN</td>\n",
       "    </tr>\n",
       "    <tr>\n",
       "      <th>#ALLMYMOVIES</th>\n",
       "      <th>2015</th>\n",
       "      <td>#ALLMYMOVIES</td>\n",
       "      <td>NaN</td>\n",
       "      <td>Documentary</td>\n",
       "      <td>8.3</td>\n",
       "      <td>21.0</td>\n",
       "      <td>NaN</td>\n",
       "    </tr>\n",
       "    <tr>\n",
       "      <th>#BKKY</th>\n",
       "      <th>2016</th>\n",
       "      <td>#BKKY</td>\n",
       "      <td>75.0</td>\n",
       "      <td>Drama</td>\n",
       "      <td>7.4</td>\n",
       "      <td>23.0</td>\n",
       "      <td>NaN</td>\n",
       "    </tr>\n",
       "  </tbody>\n",
       "</table>\n",
       "</div>"
      ],
      "text/plain": [
       "                                  original_title  runtime_minutes  \\\n",
       "title                 year                                          \n",
       "!Women Art Revolution 2010  Women Art Revolution             83.0   \n",
       "#1 Serial Killer      2013      #1 Serial Killer             87.0   \n",
       "#66                   2015                   #66            116.0   \n",
       "#ALLMYMOVIES          2015          #ALLMYMOVIES              NaN   \n",
       "#BKKY                 2016                 #BKKY             75.0   \n",
       "\n",
       "                                 genres  averagerating  numvotes  \\\n",
       "title                 year                                         \n",
       "!Women Art Revolution 2010  Documentary            6.9     196.0   \n",
       "#1 Serial Killer      2013       Horror            5.6      40.0   \n",
       "#66                   2015       Action            5.3      18.0   \n",
       "#ALLMYMOVIES          2015  Documentary            8.3      21.0   \n",
       "#BKKY                 2016        Drama            7.4      23.0   \n",
       "\n",
       "                            domestic_gross  \n",
       "title                 year                  \n",
       "!Women Art Revolution 2010             NaN  \n",
       "#1 Serial Killer      2013             NaN  \n",
       "#66                   2015             NaN  \n",
       "#ALLMYMOVIES          2015             NaN  \n",
       "#BKKY                 2016             NaN  "
      ]
     },
     "execution_count": 163,
     "metadata": {},
     "output_type": "execute_result"
    }
   ],
   "source": [
    "avg_rate_df.head()"
   ]
  },
  {
   "cell_type": "code",
   "execution_count": 164,
   "metadata": {},
   "outputs": [
    {
     "data": {
      "text/plain": [
       "[(0, ('!Women Art Revolution', 2010)),\n",
       " (1, ('#1 Serial Killer', 2013)),\n",
       " (2, ('#66', 2015)),\n",
       " (3, ('#ALLMYMOVIES', 2015)),\n",
       " (4, ('#BKKY', 2016)),\n",
       " (5, ('#BeRobin the Movie', 2015)),\n",
       " (6, ('#Beings', 2015)),\n",
       " (7, ('#Captured', 2017)),\n",
       " (8, ('#DigitalLivesMatter', 2016)),\n",
       " (9, ('#Female Pleasure', 2018)),\n",
       " (10, ('#FollowFriday', 2016)),\n",
       " (11, ('#Followme', 2019)),\n",
       " (12, ('#Horror', 2015)),\n",
       " (13, ('#Lucky Number', 2015)),\n",
       " (14, ('#Malam Jumat: The Movie', 2019)),\n",
       " (15, ('#Nerealnaya lyubov', 2014)),\n",
       " (16, ('#O2LForever', 2015)),\n",
       " (17, ('#OntheShouldersofGiants', 2017)),\n",
       " (18, ('#Powerplant', 2019)),\n",
       " (19, ('#REALITYHIGH', 2017)),\n",
       " (20, ('#Realmovie', 2013)),\n",
       " (21, ('#Resistayol', 2016)),\n",
       " (22, ('#Roxy', 2018)),\n",
       " (23, ('#Rucker50', 2016)),\n",
       " (24, ('#Screamers', 2016)),\n",
       " (25, ('#Selfieparty', 2016)),\n",
       " (26, ('#Sequence', 2013)),\n",
       " (27, ('#Slaughterhouse', 2017)),\n",
       " (28, ('#Sohavégetnemérös', 2016)),\n",
       " (29, ('#SquadGoals', 2018)),\n",
       " (30, ('#Starvecrow', 2017)),\n",
       " (31, ('#Stuck', 2014)),\n",
       " (32, ('#TAKEMEANYWHERE', 2018)),\n",
       " (33, ('#TemanTapiMenikah', 2018)),\n",
       " (34, ('#Thosegirls', 2015)),\n",
       " (35, ('#Uploading_Holocaust', 2016)),\n",
       " (36, ('#Walang Forever', 2015)),\n",
       " (37, ('#WszystkoGra', 2016)),\n",
       " (38, ('#Y', 2014)),\n",
       " (39, ('#babynymph', 2016)),\n",
       " (40, ('#chicagoGirl: The Social Network Takes on a Dictator', 2013)),\n",
       " (41, ('#whilewewatch', 2011)),\n",
       " (42, ('$50K and a Call Girl: A Love Story', 2014)),\n",
       " (43, ('$elfie Shootout', 2016)),\n",
       " (44, ('$ellebrity', 2012)),\n",
       " (45, ('$kumbagz', 2015)),\n",
       " (46, ('& Jara Hatke', 2016)),\n",
       " (47, ('&Me', 2013)),\n",
       " (48, (\"'51 Dons\", 2014)),\n",
       " (49, (\"'71\", 2014)),\n",
       " (50, (\"'76\", 2016)),\n",
       " (51, (\"'85: The Greatest Team in Pro Football History\", 2016)),\n",
       " (52, (\"'He's Watching'\", 2018)),\n",
       " (53, (\"'Master Harold' ... And the Boys\", 2010)),\n",
       " (54, (\"'The Day of the Purple Sun': Part I\", 2017)),\n",
       " (55, (\"'This Is Not an American Movie'\", 2011)),\n",
       " (56, (\"'Til Madness Do Us Part\", 2013)),\n",
       " (57, (\"'n Man Soos My Pa\", 2015)),\n",
       " (58, (\"'n Pawpaw Vir My Darling\", 2015)),\n",
       " (59, (\"'n Saak van Geloof\", 2011)),\n",
       " (60, ('(09)', 2014)),\n",
       " (61, ('(A)sexual', 2011)),\n",
       " (62, ('(Dis)Honesty: The Truth About Lies', 2015)),\n",
       " (63, ('(Girl)Friend', 2018)),\n",
       " (64, ('(No) Laughing Matter', 2010)),\n",
       " (65, ('(Q)üfür', 2013)),\n",
       " (66, ('(Romance) in the Digital Age', 2017)),\n",
       " (67, ('(Sex) Appeal', 2014)),\n",
       " (68, ('(T)ERROR', 2015)),\n",
       " (69, ('* Cemetery', 2010)),\n",
       " (70, ('*69', 2016)),\n",
       " (71, ('*MEI [MEIG] Voci migranti', 2010)),\n",
       " (72, ('+1', 2013)),\n",
       " (73, ('... E fuori nevica!', 2014)),\n",
       " (74, ('... Re: yakshaprashne', 2016)),\n",
       " (75, ('...And Suddenly the Dawn', 2017)),\n",
       " (76, ('...And Then I Helped', 2010)),\n",
       " (77, ('...But Film is My Mistress', 2010)),\n",
       " (78, ('...Mama ei de tranzitie!?!', 2012)),\n",
       " (79, ('...Moddhikhane Char', 2012)),\n",
       " (80, ('...Vanities...', 2012)),\n",
       " (81, ('.357', 2013)),\n",
       " (82, ('.Hack//The Movie', 2012)),\n",
       " (83, ('/afk: Away from Keyboard', 2011)),\n",
       " (84, ('0,03 Seconde', 2017)),\n",
       " (85, ('0-41*', 2016)),\n",
       " (86, ('0.5 Mm', 2014)),\n",
       " (87, ('0.56% ¿Qué le pasó a México?', 2010)),\n",
       " (88, ('00 - Zero Zero 3D', 2011)),\n",
       " (89, ('00 Schneider - Im Wendekreis der Eidechse', 2013)),\n",
       " (90, ('0000: A Shark Odyssey', 2018)),\n",
       " (91, ('0009: The Sharks Make Contact', 2019)),\n",
       " (92, ('001 Trolling', 2017)),\n",
       " (93, ('006 kaçis', 2014)),\n",
       " (94, ('009 Re: Cyborg', 2012)),\n",
       " (95, ('009-1: The End of the Beginning', 2013)),\n",
       " (96, ('03.ByPass', 2016)),\n",
       " (97, ('03:34 Terremoto en Chile', 2011)),\n",
       " (98, ('080817.mp4', 2017)),\n",
       " (99, ('090', 2014)),\n",
       " (100, ('0:22:43', 2010)),\n",
       " (101, ('0s & 1s', 2011)),\n",
       " (102, ('1', 2013)),\n",
       " (103, ('1 - Nenokkadine', 2014)),\n",
       " (104, ('1 0 0 (173 Alexandras Ave., Athens)', 2012)),\n",
       " (105, ('1 1/2 Hours', 2017)),\n",
       " (106, ('1 Billion Orgasms', 2018)),\n",
       " (107, ('1 Buck', 2017)),\n",
       " (108, ('1 Chance 2 Dance', 2014)),\n",
       " (109, ('1 Dead Party', 2013)),\n",
       " (110, ('1 Kezban 1 Mahmut: Adana Yollarinda', 2016)),\n",
       " (111, ('1 Message', 2011)),\n",
       " (112, ('1 Mile to You', 2017)),\n",
       " (113, ('1 Night', 2016)),\n",
       " (114, ('1 Nighter', 2012)),\n",
       " (115, ('1 Out of 7', 2011)),\n",
       " (116, ('1 Way Up: The Story of Peckham BMX', 2014)),\n",
       " (117, ('1 a Minute', 2010)),\n",
       " (118, ('1 by Two', 2014)),\n",
       " (119, ('1 in 3', 2010)),\n",
       " (120, ('1 para 1', 2013)),\n",
       " (121, ('1,000 Times Good Night', 2013)),\n",
       " (122, ('1,000 Times More Brutal', 2012)),\n",
       " (123, ('1,001 Ways to Enjoy the Missionary Position', 2010)),\n",
       " (124, ('1,778 Stories of Me and My Wife', 2011)),\n",
       " (125, ('1.7 Alpha', 2015)),\n",
       " (126, ('1/1', 2018)),\n",
       " (127, ('10 000 timmar', 2014)),\n",
       " (128, ('10 1/2', 2010)),\n",
       " (129, (\"10 Billion - What's on your plate?\", 2015)),\n",
       " (130, ('10 Cent Pistol', 2014)),\n",
       " (131, ('10 Cloverfield Lane', 2016)),\n",
       " (132, ('10 Days Before the Wedding', 2018)),\n",
       " (133, ('10 Days in a Madhouse', 2015)),\n",
       " (134, ('10 Days to Die', 2010)),\n",
       " (135, ('10 Endrathukulla', 2015)),\n",
       " (136, ('10 Grams', 2015)),\n",
       " (137, ('10 Kalpanakal', 2016)),\n",
       " (138, ('10 Metres', 2012)),\n",
       " (139, ('10 Minutes', 2013)),\n",
       " (140, ('10 Mountains 10 Years', 2010)),\n",
       " (141, ('10 Rules', 2014)),\n",
       " (142, ('10 Rules for Falling in Love', 2012)),\n",
       " (143, ('10 Rules for Sleeping Around', 2013)),\n",
       " (144, ('10 Seconds to Run', 2016)),\n",
       " (145, ('10 Segundos para Vencer', 2018)),\n",
       " (146, ('10 Things I Hate About Life', 2014)),\n",
       " (147, ('10 Years', 2011)),\n",
       " (148, ('10 Years Later', 2010)),\n",
       " (149, ('10 años con Bebe', 2016)),\n",
       " (150, ('10 jours en or', 2012)),\n",
       " (151, ('10 pelis', 2011)),\n",
       " (152, ('10 ragazze', 2011)),\n",
       " (153, ('10 timer til Paradis', 2012)),\n",
       " (154, ('10% My Child', 2014)),\n",
       " (155, ('10%: What Makes a Hero?', 2013)),\n",
       " (156, ('10+10', 2011)),\n",
       " (157, ('10,000 Days', 2014)),\n",
       " (158, ('10,000 Miles', 2016)),\n",
       " (159, ('10,000 Saints', 2015)),\n",
       " (160, ('10. Köy Teyatora', 2014)),\n",
       " (161, ('10.0 Earthquake', 2014)),\n",
       " (162, ('10.000 Km', 2014)),\n",
       " (163, ('10.000 noches en ninguna parte', 2013)),\n",
       " (164, ('10/10', 2011)),\n",
       " (165, ('10/31', 2017)),\n",
       " (166, ('100', 2019)),\n",
       " (167, ('100 Blocks', 2017)),\n",
       " (168, ('100 Bloody Acres', 2012)),\n",
       " (169, ('100 Bullets', 2016)),\n",
       " (170, ('100 Days', 2013)),\n",
       " (171, ('100 Days of Loneliness', 2018)),\n",
       " (172, ('100 Days of Love', 2015)),\n",
       " (173, ('100 Days of Sunshine', 2018)),\n",
       " (174, ('100 Degree Celsius', 2014)),\n",
       " (175, ('100 Degrees Below Zero', 2013)),\n",
       " (176, ('100 Ghost Street: The Return of Richard Speck', 2012)),\n",
       " (177, ('100 Men', 2017)),\n",
       " (178, ('100 Meter Leeuloop', 2013)),\n",
       " (179, ('100 Proof', 2010)),\n",
       " (180, ('100 Streets', 2016)),\n",
       " (181, ('100 Things', 2018)),\n",
       " (182, ('100 Voices: A Journey Home', 2010)),\n",
       " (183, ('100 Yards', 2018)),\n",
       " (184, ('100 Years of Evil', 2010)),\n",
       " (185, ('100 Yen Love', 2014)),\n",
       " (186, ('100 Yen: The Japanese Arcade Experience', 2012)),\n",
       " (187, ('100 metri dal paradiso', 2012)),\n",
       " (188, ('100 metros', 2016)),\n",
       " (189, ('100 metu kartu', 2018)),\n",
       " (190, ('100 tula para kay Stella', 2017)),\n",
       " (191, ('100 år med Rosenborg', 2017)),\n",
       " (192, ('100% Coco', 2017)),\n",
       " (193, ('100% Love', 2011)),\n",
       " (194, ('100,000', 2010)),\n",
       " (195, ('100,000 Zombie Heads', 2012)),\n",
       " (196, ('1000 Kilometer', 2016)),\n",
       " (197, ('10000 Hours', 2013)),\n",
       " (198, ('10000 Years Later', 2015)),\n",
       " (199, ('1001 Apples', 2013)),\n",
       " (200, ('1001 Grams', 2014)),\n",
       " (201, ('100: Head/Heart/Feet', 2014)),\n",
       " (202, ('101 Chodhyangal?', 2013)),\n",
       " (203, ('101 Proposals', 2013)),\n",
       " (204, ('101 Reasons: Liberty Lives in New Hampshire', 2014)),\n",
       " (205, ('101 Weddings', 2012)),\n",
       " (206, ('101: Modern Los Angeles Vampires', 2014)),\n",
       " (207, ('102 Not Out', 2018)),\n",
       " (208, ('1040 Not So EZ', 2017)),\n",
       " (209, ('1040: Christianity in the New Asia', 2010)),\n",
       " (210, ('1048 lunes', 2017)),\n",
       " (211, ('108', 2010)),\n",
       " (212, ('108 Stitches', 2014)),\n",
       " (213, ('10: The Secret Mission', 2017)),\n",
       " (214, ('10:30 A.M. Local Call', 2013)),\n",
       " (215, ('10Terrorists', 2012)),\n",
       " (216, ('10ml LOVE', 2010)),\n",
       " (217, ('10th Day', 2012)),\n",
       " (218, ('10th July', 2014)),\n",
       " (219, ('10x10', 2018)),\n",
       " (220, ('11 A.M.', 2013)),\n",
       " (221, ('11 Blocks', 2015)),\n",
       " (222, ('11 Days', 2018)),\n",
       " (223, ('11 Flowers', 2011)),\n",
       " (224, ('11 Freundinnen', 2013)),\n",
       " (225, ('11 Meetings with My Father', 2012)),\n",
       " (226, ('11 Metri', 2011)),\n",
       " (227, ('11 Minutes', 2015)),\n",
       " (228, ('11 ditey z Morshyna', 2019)),\n",
       " (229, ('11-11-11', 2011)),\n",
       " (230, ('11-12-13 Rak Kan Ja Tai', 2016)),\n",
       " (231, ('11. lipnja - Prvi splitski Pride', 2011)),\n",
       " (232, ('11.25: The Day He Chose His Own Fate', 2012)),\n",
       " (233, ('11.6', 2013)),\n",
       " (234, ('11/11/11', 2011)),\n",
       " (235, ('11/4/08', 2010)),\n",
       " (236, ('11/8/16', 2017)),\n",
       " (237, ('111 Girls', 2012)),\n",
       " (238, ('116 Cameras', 2017)),\n",
       " (239, ('118', 2019)),\n",
       " (240, ('11:23-09:59 Projekt Angst', 2014)),\n",
       " (241, ('11:55', 2016)),\n",
       " (242, ('11:58', 2010)),\n",
       " (243, ('12', 2017)),\n",
       " (244, ('12 12 12', 2014)),\n",
       " (245, ('12 Chairs', 2016)),\n",
       " (246, ('12 Chòm Sao: Ve Duong Cho Yêu Chay', 2015)),\n",
       " (247, ('12 Citizens', 2014)),\n",
       " (248, ('12 Counts of Deception', 2011)),\n",
       " (249, ('12 Days', 2017)),\n",
       " (250, ('12 Dog Days Till Christmas', 2014)),\n",
       " (251, ('12 Dogs of Christmas: Great Puppy Rescue', 2012)),\n",
       " (252, ('12 Feet Deep', 2017)),\n",
       " (253, ('12 Golden Ducks', 2015)),\n",
       " (254, ('12 Menit', 2014)),\n",
       " (255, ('12 Monate Deutschland', 2010)),\n",
       " (256, ('12 Months in 1 Day', 2015)),\n",
       " (257, (\"12 O'Clock Boys\", 2013)),\n",
       " (258, ('12 Onzas', 2010)),\n",
       " (259, ('12 Pound Balls', 2017)),\n",
       " (260, ('12 Round Gun', 2017)),\n",
       " (261, ('12 Rounds', 2017)),\n",
       " (262, ('12 Rounds 2: Reloaded', 2013)),\n",
       " (263, ('12 Rounds 3: Lockdown', 2015)),\n",
       " (264, ('12 Segundos', 2013)),\n",
       " (265, ('12 Strong', 2018)),\n",
       " (266, ('12 Suicidal Teens', 2019)),\n",
       " (267, ('12 Years a Slave', 2013)),\n",
       " (268, ('12 Years of DFA: Too Old To Be New, Too New To Be Classic', 2013)),\n",
       " (269, ('12 de Junho de 93 - O Dia da Paixão Palmeirense', 2014)),\n",
       " (270, ('12 mesyatsev', 2013)),\n",
       " (271, ('12 mesyatsev. Novaya skazka', 2015)),\n",
       " (272, ('12 näkökulmaa', 2011)),\n",
       " (273, ('12+1, una comedia metafísica', 2012)),\n",
       " (274, ('12-12-12', 2013)),\n",
       " (275, ('12/12/12', 2012)),\n",
       " (276, ('120 Days', 2013)),\n",
       " (277, ('1210', 2012)),\n",
       " (278, ('122', 2019)),\n",
       " (279, ('127 B', 2017)),\n",
       " (280, ('127 Hours', 2010)),\n",
       " (281, ('12:06 Rumah Kucing', 2017)),\n",
       " (282, ('12th & Delaware', 2010)),\n",
       " (283, ('12th and Clairmount', 2017)),\n",
       " (284, ('13', 2010)),\n",
       " (285, ('13 Assassins', 2010)),\n",
       " (286, ('13 Cameras', 2015)),\n",
       " (287, ('13 Days', 2016)),\n",
       " (288, ('13 Dolls in Darkness', 2017)),\n",
       " (289, ('13 Eerie', 2013)),\n",
       " (290, ('13 Factors That Saved Apollo 13', 2014)),\n",
       " (291, ('13 Hours', 2016)),\n",
       " (292, ('13 Score', 2014)),\n",
       " (293, ('13 Shades of Romanian', 2016)),\n",
       " (294, ('13 Sins', 2014)),\n",
       " (295, ('13 Times Evil', 2016)),\n",
       " (296, ('13 Weird Stories', 2015)),\n",
       " (297, ('13 cara memanggil setan', 2011)),\n",
       " (298, ('13/13/13', 2013)),\n",
       " (299, ('1395 Days Without Red', 2011)),\n",
       " (300, ('13: The Haunted', 2018)),\n",
       " (301, ('13th', 2016)),\n",
       " (302, ('13th Sign', 2011)),\n",
       " (303, ('14 Apples', 2018)),\n",
       " (304, ('14 Blades', 2010)),\n",
       " (305, ('14 Cameras', 2018)),\n",
       " (306, ('14 Days', 2014)),\n",
       " (307, ('14 Days with Victor', 2010)),\n",
       " (308, ('14 Minutes from Earth', 2016)),\n",
       " (309, ('14 That Night', 2016)),\n",
       " (310, ('14+', 2015)),\n",
       " (311, ('14-18 Spektakel-Musical', 2014)),\n",
       " (312, ('141 A.D. Mission in Dacia', 2018)),\n",
       " (313, ('1410. Known Unknown Zalgiris (Grunwald)', 2013)),\n",
       " (314, ('144', 2015)),\n",
       " (315, ('1448 Love Among Us', 2014)),\n",
       " (316, (\"148 Stefano: Mostri dell'inerzia\", 2011)),\n",
       " (317, ('15 August', 2019)),\n",
       " (318, ('15 Corners of the World', 2014)),\n",
       " (319, ('15 Lads', 2011)),\n",
       " (320, ('15 Minutes - The Dvor Massacre', 2015)),\n",
       " (321, ('15 Minutes of War', 2019)),\n",
       " (322, ('15 North', 2013)),\n",
       " (323, ('15 Reasons to Live', 2013)),\n",
       " (324, ('15 Septembers Later', 2016)),\n",
       " (325, ('15 Till Midnight', 2010)),\n",
       " (326, ('15 Years and One Day', 2013)),\n",
       " (327, (\"15 to Life: Kenneth's Story\", 2013)),\n",
       " (328, ('15+ Coming of Age', 2017)),\n",
       " (329, ('150 Milligrams', 2016)),\n",
       " (330, ('1500 Steps', 2014)),\n",
       " (331, ('1533 Km. to Home', 2015)),\n",
       " (332, ('15: Inside the Mind of a Serial Killer', 2011)),\n",
       " (333, ('16 Acres', 2012)),\n",
       " (334, ('16 Photographs at Ohrdruf', 2013)),\n",
       " (335, ('16 Stones', 2014)),\n",
       " (336, ('16 Sunrises', 2018)),\n",
       " (337, ('16 Tons', 2011)),\n",
       " (338, ('16 Years till Summer', 2015)),\n",
       " (339, ('16 and Missing', 2015)),\n",
       " (340, ('16-Love', 2012)),\n",
       " (341, ('16/03', 2017)),\n",
       " (342, ('160 metros: una historia del rock en Bizkaia', 2013)),\n",
       " (343, ('17 Girls', 2011)),\n",
       " (344, ('17 Miracles', 2011)),\n",
       " (345, ('17 Seconds', 2013)),\n",
       " (346, ('17 a mezzanotte', 2014)),\n",
       " (347, ('170 Hz', 2011)),\n",
       " (348, ('18 Bilder/Sek', 2010)),\n",
       " (349, ('18 Days', 2011)),\n",
       " (350, ('18 Hours', 2017)),\n",
       " (351, ('18 Meals', 2010)),\n",
       " (352, ('18 Vayasu', 2012)),\n",
       " (353, ('18 Years Later', 2010)),\n",
       " (354, ('18 Years Old and Rising', 2011)),\n",
       " (355, ('18+', 2010)),\n",
       " (356, ('180', 2011)),\n",
       " (357, ('180 Graus', 2010)),\n",
       " (358, ('180 Segundos', 2012)),\n",
       " (359, ('180 °', 2010)),\n",
       " (360, ('1804: The Hidden History of Haiti', 2017)),\n",
       " (361, ('180° South', 2010)),\n",
       " (362, ('180° moires', 2010)),\n",
       " (363, ('180º', 2010)),\n",
       " (364, ('1812. Ulanskaya ballada', 2012)),\n",
       " (365, ('186 Dollars to Freedom', 2012)),\n",
       " (366, ('1898. Los últimos de Filipinas', 2016)),\n",
       " (367, ('18: Eighteen Noir', 2014)),\n",
       " (368, ('19 Doors', 2011)),\n",
       " (369, ('1906', 2019)),\n",
       " (370, ('1911', 2011)),\n",
       " (371, ('1913 Massacre', 2011)),\n",
       " (372, ('1915 Armenian Genocide', 2010)),\n",
       " (373, ('1917 - Der wahre Oktober', 2017)),\n",
       " (374, ('1920 London', 2016)),\n",
       " (375, ('1920: Evil Returns', 2012)),\n",
       " (376, ('1921', 2018)),\n",
       " (377, ('1922', 2017)),\n",
       " (378, ('1938 - Diversi', 2018)),\n",
       " (379, ('1939 Battle of Westerplatte', 2013)),\n",
       " (380, ('1944', 2015)),\n",
       " (381, ('1945', 2017)),\n",
       " (382, ('1945 From This Day', 2018)),\n",
       " (383, ('1948: Creation & Catastrophe', 2017)),\n",
       " (384, ('1959', 2016)),\n",
       " (385, ('1960', 2010)),\n",
       " (386, ('1964: O Brasil entre armas e livros', 2019)),\n",
       " (387, ('1965', 2015)),\n",
       " (388, ('1968', 2018)),\n",
       " (389, ('1971: Beyond Borders', 2017)),\n",
       " (390, ('1974: La posesión de Altair', 2016)),\n",
       " (391, ('1982', 2013)),\n",
       " (392, ('1982 - A Love Marriage', 2017)),\n",
       " (393, ('1983', 2014)),\n",
       " (394, ('1985', 2016)),\n",
       " (395, ('1987', 2014)),\n",
       " (396, ('1991', 2018)),\n",
       " (397, ('19th January', 2014)),\n",
       " (398, ('1:1 Thierry Henry', 2011)),\n",
       " (399, ('1:13:7 Ek Tera Saath', 2016)),\n",
       " (400, ('1:54', 2016)),\n",
       " (401, ('1MC: Something of Vengeance', 2010)),\n",
       " (402, ('1er amour', 2013)),\n",
       " (403, ('1st Born', 2018)),\n",
       " (404, ('1st Date', 2015)),\n",
       " (405, ('1st Night', 2010)),\n",
       " (406, ('1st Sem', 2016)),\n",
       " (407, ('1st Strike', 2016)),\n",
       " (408, ('1st Summoning', 2018)),\n",
       " (409, ('2 + 2', 2012)),\n",
       " (410, ('2 Autumns, 3 Winters', 2013)),\n",
       " (411, ('2 Bedroom 1 Bath', 2014)),\n",
       " (412, ('2 Cool 2 Be 4gotten', 2016)),\n",
       " (413, ('2 Countries', 2017)),\n",
       " (414, ('2 Days in New York', 2012)),\n",
       " (415, ('2 Dead 2 Kill', 2013)),\n",
       " (416, ('2 Die For', 2018)),\n",
       " (417, ('2 Francs, 40 Pesetas', 2014)),\n",
       " (418, (\"2 Frogs dans l'Ouest\", 2010)),\n",
       " (419, ('2 Gisht Mjaltë', 2019)),\n",
       " (420, ('2 Guns', 2013)),\n",
       " (421, ('2 Jacks', 2012)),\n",
       " (422, ('2 Jennifer', 2016)),\n",
       " (423, ('2 Lanes', 2017)),\n",
       " (424, ('2 Little Indians', 2013)),\n",
       " (425, ('2 Night', 2011)),\n",
       " (426, ('2 Nights Till Morning', 2015)),\n",
       " (427, ('2 Nights in Soul Valley', 2012)),\n",
       " (428, ('2 Penkuttikal', 2016)),\n",
       " (429, ('2 States', 2014)),\n",
       " (430, ('2 Years of Love', 2017)),\n",
       " (431, ('2 alam', 2010)),\n",
       " (432, ('2 mal', 2018)),\n",
       " (433, ('2 steg från Håkan', 2011)),\n",
       " (434, ('2 to Tangle', 2013)),\n",
       " (435, ('2+2', 2014)),\n",
       " (436, ('2+2=22: The Alphabet', 2017)),\n",
       " (437, ('2,215', 2018)),\n",
       " (438, ('2.0', 2018)),\n",
       " (439, ('2/11 Het spel van de wolf', 2014)),\n",
       " (440, ('2/11: Day of the Dead', 2012)),\n",
       " (441, ('20 Centavos', 2014)),\n",
       " (442, ('20 Cigarettes', 2010)),\n",
       " (443, ('20 Feet from Stardom', 2013)),\n",
       " (444, ('20 Forever', 2017)),\n",
       " (445, ('20 Ft Below: The Darkness Descending', 2014)),\n",
       " (446, ('20 Moves', 2014)),\n",
       " (447, ('20 Rules!', 2014)),\n",
       " (448, ('20 Weeks', 2017)),\n",
       " (449, ('20 Year Old Virgins', 2011)),\n",
       " (450, ('20 Years of Madness', 2015)),\n",
       " (451, ('20 dana na Tibetu', 2012)),\n",
       " (452, ('20,000 Days on Earth', 2014)),\n",
       " (453, ('20,000 Reasons', 2016)),\n",
       " (454, ('20.000 Besos', 2013)),\n",
       " (455, ('20/20 Deserted Country', 2018)),\n",
       " (456, ('200 Degrees', 2017)),\n",
       " (457, ('2001 Maniacs: Field of Screams', 2010)),\n",
       " (458, ('2001: mientras Kubrick estaba en el espacio', 2016)),\n",
       " (459, ('2012 Countdown', 2012)),\n",
       " (460, ('2012 Crossing Over: A New Beginning', 2012)),\n",
       " (461, ('2012: Curse of the Xtabai', 2012)),\n",
       " (462, ('2012: The Beginning', 2012)),\n",
       " (463, ('2012: Time for Change', 2010)),\n",
       " (464, ('2013 Menos 1', 2012)),\n",
       " (465, ('2014', 2014)),\n",
       " (466, ('2016', 2017)),\n",
       " (467, ('2016 the End', 2017)),\n",
       " (468, (\"2016: Obama's America\", 2012)),\n",
       " (469, ('2020', 2017)),\n",
       " (470, ('2021', 2013)),\n",
       " (471, ('2025', 2015)),\n",
       " (472, ('2030', 2014)),\n",
       " (473, ('2036 Origin Unknown', 2018)),\n",
       " (474, ('2040', 2019)),\n",
       " (475, ('2045 Carnival Folklore', 2015)),\n",
       " (476, ('2047: Sights of Death', 2014)),\n",
       " (477, ('2047: Virtual Revolution', 2016)),\n",
       " (478, ('204: Getting Away with Murder', 2014)),\n",
       " (479, ('2050', 2018)),\n",
       " (480, ('2056 Escape from Zombie Island', 2012)),\n",
       " (481, ('2057: Return to Zombie Island', 2013)),\n",
       " (482, ('205: Room of Fear', 2011)),\n",
       " (483, ('20th Century Women', 2016)),\n",
       " (484, ('20th Circuit Suspects', 2017)),\n",
       " (485, ('21', 2016)),\n",
       " (486, ('21 & Over', 2013)),\n",
       " (487, ('21 Brothers', 2011)),\n",
       " (488, ('21 Days', 2014)),\n",
       " (489, ('21 Days Later', 2017)),\n",
       " (490, ('21 Days Under the Sky', 2016)),\n",
       " (491, ('21 Jump Street', 2012)),\n",
       " (492, ('21 Karat', 2018)),\n",
       " (493, ('21 Nights with Pattie', 2015)),\n",
       " (494, ('21 Ways to Ruin a Marriage', 2013)),\n",
       " (495, ('21 X New York', 2016)),\n",
       " (496, ('21 Years: Richard Linklater', 2014)),\n",
       " (497, ('2101', 2014)),\n",
       " (498, ('211', 2018)),\n",
       " (499, ('212: The Power of Love', 2018)),\n",
       " (500, ('22 After', 2014)),\n",
       " (501, ('22 Bullets', 2010)),\n",
       " (502, ('22 Chaser', 2018)),\n",
       " (503, ('22 Female Kottayam', 2012)),\n",
       " (504, ('22 July', 2018)),\n",
       " (505, ('22 Jump Street', 2014)),\n",
       " (506, ('22 Menit', 2018)),\n",
       " (507, ('22 Yards', 2019)),\n",
       " (508, ('22 minuty', 2014)),\n",
       " (509, ('22.12.2012 Posle kontsa sveta', 2012)),\n",
       " (510, ('22:43', 2010)),\n",
       " (511, ('22G Tussi Ghaint Ho', 2015)),\n",
       " (512, ('22nd of May', 2010)),\n",
       " (513, ('23', 2010)),\n",
       " (514, ('23 Blast', 2014)),\n",
       " (515, ('23 Kilometres', 2015)),\n",
       " (516, ('23 Minutes to Sunrise', 2012)),\n",
       " (517, ('23 Segundos', 2014)),\n",
       " (518, ('23-F: la película', 2011)),\n",
       " (519, (\"2307: Winter's Dream\", 2016)),\n",
       " (520, ('23:59', 2011)),\n",
       " (521, ('23:59: The Haunting Hour', 2018)),\n",
       " (522, ('23rd Psalm: Redemption', 2011)),\n",
       " (523, ('24', 2016)),\n",
       " (524, ('24 Days', 2014)),\n",
       " (525, ('24 Exposures', 2013)),\n",
       " (526, ('24 Frames', 2017)),\n",
       " (527, ('24 Hour Comic', 2017)),\n",
       " (528, ('24 Hour Love', 2013)),\n",
       " (529, ('24 Hours - One Team. One Target.', 2011)),\n",
       " (530, ('24 Hours Movie', 2014)),\n",
       " (531, ('24 Hours to Die', 2016)),\n",
       " (532, ('24 Hours to Live', 2017)),\n",
       " (533, ('24 Hrs', 2010)),\n",
       " (534, ('24 Kisses', 2018)),\n",
       " (535, ('24 Snow', 2016)),\n",
       " (536, ('24 Weeks', 2016)),\n",
       " (537, ('24/7 in Love', 2012)),\n",
       " (538, ('24/7/365: The Evolution of Emergency Medicine', 2013)),\n",
       " (539, ('247°F', 2011)),\n",
       " (540, ('249. La noche en que una becaria encontró a Emiliano Revilla', 2016)),\n",
       " (541, ('24x36: A Movie About Movie Posters', 2016)),\n",
       " (542, ('25 April', 2015)),\n",
       " (543, ('25 Hill', 2011)),\n",
       " (544, ('25 IN 24', 2018)),\n",
       " (545, ('25 Kille', 2016)),\n",
       " (546, ('25 km/h', 2018)),\n",
       " (547, ('25 to Life', 2012)),\n",
       " (548, ('250 Stepenika', 2017)),\n",
       " (549, ('2557', 2017)),\n",
       " (550, ('26 Years', 2012)),\n",
       " (551, ('27 Steps of May', 2019)),\n",
       " (552, ('27, Memory Lane', 2014)),\n",
       " (553, ('27: Gone Too Soon', 2018)),\n",
       " (554, ('27: The Cursed Club', 2018)),\n",
       " (555, ('27°C: Loaf Rock', 2013)),\n",
       " (556, ('28', 2014)),\n",
       " (557, ('28 Hotel Rooms', 2012)),\n",
       " (558, ('28 Hours Later: The Zombie Movie', 2010)),\n",
       " (559, ('28:94 Local Time', 2015)),\n",
       " (560, ('29 Februari', 2012)),\n",
       " (561, ('29 kilometr', 2012)),\n",
       " (562, ('29 to Life', 2018)),\n",
       " (563, ('29+1', 2017)),\n",
       " (564, ('29000 Wishes. 1 Regret.', 2012)),\n",
       " (565, ('2917: Back to the Top', 2018)),\n",
       " (566, ('2: Voodoo Academy', 2012)),\n",
       " (567, ('2:22', 2017)),\n",
       " (568, ('2:Hrs', 2018)),\n",
       " (569, ('2Close2U', 2017)),\n",
       " (570, ('2Eleven', 2015)),\n",
       " (571, ('2Fik: Reinterpreting Bukovac', 2014)),\n",
       " (572, ('2ND Take', 2011)),\n",
       " (573, ('2Survive', 2015)),\n",
       " (574, ('2nd Greatest', 2016)),\n",
       " (575, ('2nd Serve', 2012)),\n",
       " (576, ('2night', 2016)),\n",
       " (577, ('2xUno', 2013)),\n",
       " (578, ('3', 2010)),\n",
       " (579, ('3 A.M. 3D', 2012)),\n",
       " (580, ('3 A.M. 3D: Part 2', 2014)),\n",
       " (581, ('3 AM: A Paranormal Experience', 2014)),\n",
       " (582, ('3 AM: Part 3', 2018)),\n",
       " (583, ('3 Bachelors', 2012)),\n",
       " (584, ('3 Backyards', 2010)),\n",
       " (585, ('3 Bahadur', 2015)),\n",
       " (586, ('3 Bahadur: Rise of the Warriors', 2018)),\n",
       " (587, ('3 Bahadur: The Revenge of Baba Balaam', 2016)),\n",
       " (588, ('3 Bellezas', 2014)),\n",
       " (589, ('3 Billion and Counting', 2010)),\n",
       " (590, ('3 Blind Saints', 2011)),\n",
       " (591, ('3 Champions', 2011)),\n",
       " (592, ('3 Dana', 2011)),\n",
       " (593, ('3 Dara 2', 2018)),\n",
       " (594, ('3 Day Test', 2012)),\n",
       " (595, ('3 Days in Quiberon', 2018)),\n",
       " (596, ('3 Days of Normal', 2012)),\n",
       " (597, ('3 Days on the Cross', 2017)),\n",
       " (598, ('3 Days to Kill', 2014)),\n",
       " (599, ('3 Dead Trick or Treaters', 2016)),\n",
       " (600, ('3 Degrees of Fever', 2011)),\n",
       " (601, ('3 Dev', 2019)),\n",
       " (602, ('3 Doors of Horrors', 2013)),\n",
       " (603, ('3 Dots', 2013)),\n",
       " (604, ('3 Faces', 2018)),\n",
       " (605, ('3 Feet Ball & Souls', 2017)),\n",
       " (606, (\"3 Flies in a Widow's Web\", 2016)),\n",
       " (607, ('3 Gante 30 Dina 30 Second', 2018)),\n",
       " (608, ('3 Geezers!', 2013)),\n",
       " (609, ('3 Generations', 2015)),\n",
       " (610, ('3 Hati, Dua Dunia, Satu Cinta', 2010)),\n",
       " (611, ('3 Hearts', 2014)),\n",
       " (612, ('3 Hikers', 2015)),\n",
       " (613, ('3 Holes and a Smoking Gun', 2014)),\n",
       " (614, ('3 Hours till Dead', 2016)),\n",
       " (615, ('3 Kadin 3 Kader', 2013)),\n",
       " (616, ('3 Knee Deep', 2016)),\n",
       " (617, ('3 Little Pigs and the Magic Lamp', 2015)),\n",
       " (618, ('3 Magic Words', 2010)),\n",
       " (619, ('3 Mile Limit', 2014)),\n",
       " (620, ('3 Millones', 2011)),\n",
       " (621, ('3 Minute Gaps', 2011)),\n",
       " (622, ('3 Minutos', 2014)),\n",
       " (623, ('3 Nafas Likas', 2014)),\n",
       " (624, ('3 Nights in the Desert', 2014)),\n",
       " (625, ('3 Peas in a Pod', 2013)),\n",
       " (626, ('3 Scream Queens', 2014)),\n",
       " (627, ('3 Sisters', 2015)),\n",
       " (628, ('3 Srikandi', 2016)),\n",
       " (629, ('3 Still Standing', 2014)),\n",
       " (630, ('3 Storeys', 2018)),\n",
       " (631, ('3 Things', 2017)),\n",
       " (632, ('3 Times a Charm', 2011)),\n",
       " (633, ('3 Türken & ein Baby', 2015)),\n",
       " (634, ('3 Weeks in Yerevan', 2016)),\n",
       " (635, ('3 Weeks to Daytona', 2011)),\n",
       " (636, ('3 Wheeling', 2017)),\n",
       " (637, ('3 Wicked Witches', 2014)),\n",
       " (638, ('3 Years in Pakistan: The Erik Aude Story', 2018)),\n",
       " (639, ('3 Zene or (Waking Up from My Bosnian Dream)', 2017)),\n",
       " (640, ('3 al Rescate', 2011)),\n",
       " (641, ('3 days of cinema', 2013)),\n",
       " (642, ('3 harfliler: Marid', 2010)),\n",
       " (643, (\"3 histoires d'Indiens\", 2014)),\n",
       " (644, ('3 idiotas', 2017)),\n",
       " (645, ('3 in a Bed', 2014)),\n",
       " (646, ('3 mukhi', 2018)),\n",
       " (647, ('3 of a Kind', 2012)),\n",
       " (648, ('3 pejantan tanggung', 2010)),\n",
       " (649, ('3 pocong idiot', 2012)),\n",
       " (650, ('3 vakte kadar', 2018)),\n",
       " (651, ('3+3', 2015)),\n",
       " (652, ('3, 2, 1... Frankie Go Boom', 2012)),\n",
       " (653, ('3-D Rarities', 2015)),\n",
       " (654, ('3-D Sex and Zen: Extreme Ecstasy', 2011)),\n",
       " (655, ('3.11 Sense of Home', 2011)),\n",
       " (656, ('3.11: Surviving Japan', 2013)),\n",
       " (657, ('3.14...', 2014)),\n",
       " (658, ('3.50', 2013)),\n",
       " (659, ('30 Beats', 2012)),\n",
       " (660, ('30 Day Promise', 2017)),\n",
       " (661, ('30 Days in Atlanta', 2014)),\n",
       " (662, ('30 Days with My Brother', 2016)),\n",
       " (663, ('30 Girls 30 Days', 2012)),\n",
       " (664, ('30 Miles from Nowhere', 2018)),\n",
       " (665, ('30 Milligram', 2014)),\n",
       " (666, ('30 Minutes', 2016)),\n",
       " (667, ('30 Minutes or Less', 2011)),\n",
       " (668, ('30 Monedas', 2014)),\n",
       " (669, ('30 Nights', 2018)),\n",
       " (670,\n",
       "  ('30 Nights of Paranormal Activity with the Devil Inside the Girl with the Dragon Tattoo',\n",
       "   2013)),\n",
       " (671, ('30 Seconds Away: Breaking the Cycle', 2015)),\n",
       " (672, ('30 Years Ago', 2016)),\n",
       " (673, ('30 Years Behind the Mic: Maurice the VOICE Watts', 2013)),\n",
       " (674, ('30 Years of Garbage: The Garbage Pail Kids Story', 2017)),\n",
       " (675, ('30 años de oscuridad', 2012)),\n",
       " (676, ('30 svidaniy', 2016)),\n",
       " (677, ('30+ (Single On Sale)', 2011)),\n",
       " (678, ('30-Love', 2017)),\n",
       " (679, ('300 Killers', 2010)),\n",
       " (680, ('300 Miles', 2016)),\n",
       " (681, ('300 Souls', 2014)),\n",
       " (682, ('300 Worte Deutsch', 2013)),\n",
       " (683, ('3000 Nights', 2015)),\n",
       " (684, ('300: Rise of an Empire', 2014)),\n",
       " (685, ('3022 Ft.', 2015)),\n",
       " (686, ('303', 2018)),\n",
       " (687, ('306 Hollywood', 2018)),\n",
       " (688, ('308', 2013)),\n",
       " (689, ('3096 Days', 2013)),\n",
       " (690, ('30° couleur', 2012)),\n",
       " (691, ('31', 2016)),\n",
       " (692, ('31 Million Reasons', 2011)),\n",
       " (693, ('31 días', 2013)),\n",
       " (694, ('3100: Run and Become', 2018)),\n",
       " (695, ('311 Revival', 2017)),\n",
       " (696, ('316', 2014)),\n",
       " (697, ('31st October', 2015)),\n",
       " (698, ('32 Hours 7 minutes', 2013)),\n",
       " (699, (\"32 Pills: My Sister's Suicide\", 2017)),\n",
       " (700, ('321 días en Michigan', 2014)),\n",
       " (701, ('327 Cuadernos', 2015)),\n",
       " (702, ('32aam Adhyayam 23aam Vaakyam', 2015)),\n",
       " (703, ('33 & Beyond: The Royal Art of Freemasonry', 2017)),\n",
       " (704, ('33 Days', 2012)),\n",
       " (705, ('33 Postcards', 2011)),\n",
       " (706, ('339 Amin Abel Hasbun. Memoria de un crimen.', 2014)),\n",
       " (707, ('35 Cows and a Kalashnikov', 2014)),\n",
       " (708, ('35 and Ticking', 2011)),\n",
       " (709, ('350 Days', 2018)),\n",
       " (710, ('36', 2012)),\n",
       " (711, ('36 Saints', 2013)),\n",
       " (712, ('36 Vayadhinile', 2015)),\n",
       " (713, ('360', 2011)),\n",
       " (714, ('360 Degree', 2015)),\n",
       " (715, ('3600 Detik', 2014)),\n",
       " (716, ('365 Days', 2015)),\n",
       " (717, ('365 Days of Happiness', 2011)),\n",
       " (718, ('365 Days: A Year in Happy Valley', 2013)),\n",
       " (719, ('3688', 2015)),\n",
       " (720, ('37 Seconds', 2019)),\n",
       " (721, ('377 AbNormal', 2019)),\n",
       " (722, ('38', 2014)),\n",
       " (723, ('3801 Lancaster: American Tragedy', 2015)),\n",
       " (724, ('388 Arletta Avenue', 2011)),\n",
       " (725, ('3: Alif, Lam, Mim', 2015)),\n",
       " (726, ('3:13 Three Thirteen', 2014)),\n",
       " (727, ('3:15 am', 2018)),\n",
       " (728, ('3:33 a.m.', 2015)),\n",
       " (729, ('3D Bikini Beach Babes Issue #1', 2012)),\n",
       " (730, ('3D Bikini Beach Babes Issue #2', 2012)),\n",
       " (731, ('3Doc: Who the Fuck Is Jett Rebel', 2014)),\n",
       " (732, ('3G - A Killer Connection', 2013)),\n",
       " (733, ('3faltig', 2010)),\n",
       " (734, ('3rd Night', 2017)),\n",
       " (735, ('3rd Street Blackout', 2015)),\n",
       " (736, ('3x3D', 2013)),\n",
       " (737, ('3½ Minutes, Ten Bullets', 2015)),\n",
       " (738, ('4 Days', 2016)),\n",
       " (739, ('4 Days in France', 2016)),\n",
       " (740, ('4 Days in May', 2011)),\n",
       " (741, ('4 Dead Girls: The Soul Taker', 2012)),\n",
       " (742, ('4 Kings', 2014)),\n",
       " (743, ('4 Kings', 2015)),\n",
       " (744, ('4 Minute Mile', 2014)),\n",
       " (745, ('4 Moons', 2014)),\n",
       " (746, ('4 Nights in the Hamptons', 2014)),\n",
       " (747, ('4 Wedding Planners', 2011)),\n",
       " (748, ('4 histoires fantastiques', 2018)),\n",
       " (749, ('4 latas', 2019)),\n",
       " (750, ('4 years in 10 minutes', 2018)),\n",
       " (751, ('4.3.2.1.', 2010)),\n",
       " (752, ('4/20 Massacre', 2018)),\n",
       " (753, ('40 Days and Nights', 2012)),\n",
       " (754, ('40 Days at Base Camp', 2011)),\n",
       " (755, ('40 Nights', 2016)),\n",
       " (756, ('40 Point Plan', 2012)),\n",
       " (757, ('40 West', 2011)),\n",
       " (758, ('40 Years in the Making: The Magic Music Movie', 2017)),\n",
       " (759, ('40-Life', 2011)),\n",
       " (760, ('40-Love', 2014)),\n",
       " (761, ('400 Contra 1: Uma História do Crime Organizado', 2010)),\n",
       " (762, ('400 Days', 2015)),\n",
       " (763, ('404: Error Not Found', 2011)),\n",
       " (764, ('407 Dark Flight 3D', 2012)),\n",
       " (765, ('41', 2012)),\n",
       " (766, ('41 on 41', 2014)),\n",
       " (767, ('411', 2015)),\n",
       " (768, ('419', 2012)),\n",
       " (769, ('4192: The Crowning of the Hit King', 2010)),\n",
       " (770, ('42', 2013)),\n",
       " (771, ('42 - 66 Le origini del Male', 2017)),\n",
       " (772, ('42 Grams', 2017)),\n",
       " (773, ('42 Seconds of Happiness', 2016)),\n",
       " (774, ('420 High Desert Way', 2010)),\n",
       " (775, ('420: The Documentary', 2013)),\n",
       " (776,\n",
       "  (\"42nd Street Memories: The Rise and Fall of America's Most Notorious Street\",\n",
       "   2015)),\n",
       " (777, ('42nd Street: The Musical', 2019)),\n",
       " (778, ('43', 2015)),\n",
       " (779, ('44 Pages', 2017)),\n",
       " (780, ('4426', 2016)),\n",
       " (781, ('442: Live with Honor, Die with Dignity', 2010)),\n",
       " (782, ('45 Days Away from You', 2018)),\n",
       " (783, ('45 Jokes About My Dead Dad', 2016)),\n",
       " (784, ('45 Minutes to Ramallah', 2013)),\n",
       " (785, ('45 Years', 2015)),\n",
       " (786, ('45RPM', 2013)),\n",
       " (787, ('45m2', 2010)),\n",
       " (788, ('45th Parallel', 2013)),\n",
       " (789, ('47 Meters Down', 2017)),\n",
       " (790, ('47 Ronin', 2013)),\n",
       " (791, ('475', 2013)),\n",
       " (792, ('476 A.D. Chapter One: The Last Light of Aries', 2014)),\n",
       " (793, ('48', 2010)),\n",
       " (794, ('48 Below', 2010)),\n",
       " (795, ('48 Hours to Live', 2016)),\n",
       " (796, ('48 Minutes', 2013)),\n",
       " (797, ('49 Angels', 2016)),\n",
       " (798, ('49 Ngày', 2015)),\n",
       " (799, ('49 Pulses', 2017)),\n",
       " (800, ('49-o', 2015)),\n",
       " (801, ('492', 2017)),\n",
       " (802, ('498A-The Wedding Gift', 2012)),\n",
       " (803, ('4: GO', 2017)),\n",
       " (804, ('4:44 Last Day on Earth', 2011)),\n",
       " (805, ('4:48', 2014)),\n",
       " (806, ('4All', 2016)),\n",
       " (807, ('4Ever', 2011)),\n",
       " (808, ('4Got10', 2015)),\n",
       " (809, ('4K Fireplace', 2015)),\n",
       " (810, ('4N1K', 2017)),\n",
       " (811, ('4N1K 2', 2018)),\n",
       " (812, ('4Play', 2014)),\n",
       " (813, ('4Some', 2012)),\n",
       " (814, ('4th Man Out', 2015)),\n",
       " (815, ('4th and Goal', 2010)),\n",
       " (816, ('4x4', 2019)),\n",
       " (817, ('5', 2014)),\n",
       " (818, ('5 (Cinque)', 2011)),\n",
       " (819, ('5 A.M.', 2016)),\n",
       " (820, ('5 Dakkada Degisir Bütün Isler', 2016)),\n",
       " (821, ('5 Days of War', 2011)),\n",
       " (822, ('5 Doctors', 2016)),\n",
       " (823, ('5 Flights Up', 2014)),\n",
       " (824, ('5 Ghantey Mien 5 Crore', 2012)),\n",
       " (825, ('5 Greedy Bankers', 2016)),\n",
       " (826, ('5 Hour Friends', 2013)),\n",
       " (827, ('5 Masks', 2015)),\n",
       " (828, ('5 Minutes', 2012)),\n",
       " (829, ('5 Pointz: An Historical Journey', 2014)),\n",
       " (830, ('5 Samath', 2017)),\n",
       " (831, ('5 Seasons', 2015)),\n",
       " (832, ('5 Seasons: The Movie', 2013)),\n",
       " (833, ('5 Seconds of Summer: So Perfect', 2014)),\n",
       " (834, ('5 Shells', 2012)),\n",
       " (835, ('5 Souls', 2013)),\n",
       " (836, ('5 Star Day', 2010)),\n",
       " (837, ('5 Sundarikal', 2013)),\n",
       " (838, ('5 Time Champion', 2011)),\n",
       " (839, ('5 Weddings', 2018)),\n",
       " (840, ('5 Women', 2016)),\n",
       " (841, ('5 cm', 2012)),\n",
       " (842, ('5 in the Afternoon', 2017)),\n",
       " (843, ('5 terapiya', 2017)),\n",
       " (844, ('5 to 7', 2014)),\n",
       " (845, ('5 x Favela, Now by Ourselves', 2010)),\n",
       " (846, ('5-tsu kazoereba kimi no yume', 2014)),\n",
       " (847, ('5. október', 2016)),\n",
       " (848, ('5.5.5', 2013)),\n",
       " (849, ('50 50', 2016)),\n",
       " (850, ('50 Children: The Rescue Mission of Mr. And Mrs. Kraus', 2013)),\n",
       " (851, ('50 First Kisses', 2017)),\n",
       " (852, ('50 Kilos of Sour Cherries', 2016)),\n",
       " (853, ('50 Kisses', 2014)),\n",
       " (854, ('50 Shades of Scarlett', 2015)),\n",
       " (855, ('50 Years Legal', 2017)),\n",
       " (856, ('50 for Izzy', 2010)),\n",
       " (857, ('50 to 1', 2014)),\n",
       " (858, ('50/50', 2010)),\n",
       " (859, ('500 MPH Storm', 2013)),\n",
       " (860, ('500 Miles', 2014)),\n",
       " (861, ('500 Miles North', 2014)),\n",
       " (862, ('500 Years', 2017)),\n",
       " (863, ('51', 2011)),\n",
       " (864, ('51 Degrees North', 2015)),\n",
       " (865, ('51 Nevada', 2018)),\n",
       " (866, ('5150', 2016)),\n",
       " (867, ('52 Tuesdays', 2013)),\n",
       " (868, ('52Hz, I Love You', 2017)),\n",
       " (869, ('53 Wars', 2018)),\n",
       " (870, ('54 Days', 2014)),\n",
       " (871, ('54321', 2016)),\n",
       " (872, ('55 Steps', 2017)),\n",
       " (873, ('55 and Older', 2013)),\n",
       " (874, ('59', 2015)),\n",
       " (875, ('59 Middle Lane', 2012)),\n",
       " (876, ('59 Seconds', 2016)),\n",
       " (877, ('5B', 2018)),\n",
       " (878, ('5K1', 2018)),\n",
       " (879, ('5ters: Castle of Dark Master', 2011)),\n",
       " (880, ('5th & Alameda', 2011)),\n",
       " (881, ('5th Passenger', 2018)),\n",
       " (882, ('5th Street', 2013)),\n",
       " (883, ('5th of a Degree', 2012)),\n",
       " (884, ('6 Athiyayam', 2018)),\n",
       " (885, ('6 Balloons', 2018)),\n",
       " (886, ('6 Below', 2016)),\n",
       " (887, ('6 Below: Miracle on the Mountain', 2017)),\n",
       " (888, ('6 Bullets', 2012)),\n",
       " (889, ('6 Bullets to Hell', 2016)),\n",
       " (890, ('6 Candles', 2013)),\n",
       " (891, ('6 Children & 1 Grandfather', 2018)),\n",
       " (892, ('6 Days', 2017)),\n",
       " (893, ('6 Days Dark', 2014)),\n",
       " (894, ('6 Degrees of Hell', 2012)),\n",
       " (895, ('6 Desires: DH Lawrence and Sardinia', 2014)),\n",
       " (896, ('6 Dynamic Laws for Success (in Life, Love & Money)', 2017)),\n",
       " (897, ('6 Feet Below Hell', 2017)),\n",
       " (898, ('6 Minutes of Death', 2013)),\n",
       " (899, ('6 Models in Hell', 2012)),\n",
       " (900, ('6 Month Rule', 2011)),\n",
       " (901, ('6 Nonsmokers', 2011)),\n",
       " (902, ('6 Plots', 2012)),\n",
       " (903, ('6 Points About Emma', 2011)),\n",
       " (904, ('6 Souls', 2010)),\n",
       " (905, ('6 Ways to Die', 2015)),\n",
       " (906, ('6 Years', 2015)),\n",
       " (907, ('6 elementov vremeni', 2016)),\n",
       " (908, ('6-5=2', 2013)),\n",
       " (909, ('6.5 Toman Per Meter', 2019)),\n",
       " (910, ('6.9 pe scara Richter', 2016)),\n",
       " (911, ('60 Going on 12', 2013)),\n",
       " (912, ('60 Seconds 2 Die: 60 Seconds to Die 2', 2018)),\n",
       " (913, ('60 Seconds of Solitude in Year Zero', 2011)),\n",
       " (914, ('60 Seconds to Die', 2017)),\n",
       " (915, ('60 Vayadu Maaniram', 2018)),\n",
       " (916, ('600 Miles', 2015)),\n",
       " (917, ('61 Days', 2016)),\n",
       " (918, ('61. Bölge', 2015)),\n",
       " (919, ('616: Paranormal Incident', 2013)),\n",
       " (920, ('61: Highway to Hell', 2017)),\n",
       " (921, ('626 Evolution', 2017)),\n",
       " (922, ('63 Boycott', 2017)),\n",
       " (923, ('64 Mayam', 2016)),\n",
       " (924, ('64: Part 2', 2016)),\n",
       " (925, ('64: Part I', 2016)),\n",
       " (926, ('65th', 2017)),\n",
       " (927, ('66 & Nowhere', 2017)),\n",
       " (928, ('66 Kinos', 2016)),\n",
       " (929, ('666', 2010)),\n",
       " (930, ('666 Cin Musallati', 2017)),\n",
       " (931, (\"666 the Devil's Child\", 2014)),\n",
       " (932, ('666: Kreepy Kerry', 2014)),\n",
       " (933, ('678', 2010)),\n",
       " (934, ('67th Street, New York, NY', 2011)),\n",
       " (935, ('68 Kill', 2017)),\n",
       " (936, ('69 Minutes of 86 Days', 2017)),\n",
       " (937, ('6954 Kilometres to Home', 2013)),\n",
       " (938, ('69: Love Sex Senior', 2013)),\n",
       " (939, ('6:66 PM', 2017)),\n",
       " (940, ('6A', 2016)),\n",
       " (941, ('6ft Hick: Notes from the Underground', 2010)),\n",
       " (942, ('6ne Maili', 2018)),\n",
       " (943, ('7 Assassins', 2013)),\n",
       " (944, ('7 Aum Arivu', 2011)),\n",
       " (945, ('7 Años', 2016)),\n",
       " (946, ('7 Años de Matrimonio', 2013)),\n",
       " (947, ('7 Below', 2012)),\n",
       " (948, ('7 Boxes', 2012)),\n",
       " (949, ('7 Cases', 2015)),\n",
       " (950, ('7 Chinese Brothers', 2015)),\n",
       " (951, ('7 Cuvinte', 2015)),\n",
       " (952, ('7 Days', 2010)),\n",
       " (953, ('7 Days', 2015)),\n",
       " (954, ('7 Days', 2016)),\n",
       " (955, ('7 Days 2 Guys 1 Juicer', 2015)),\n",
       " (956, ('7 Days Adventure with God', 2017)),\n",
       " (957, ('7 Days in Entebbe', 2018)),\n",
       " (958, ('7 Days in Havana', 2012)),\n",
       " (959, ('7 Days in Heaven', 2010)),\n",
       " (960, ('7 Days in Syria', 2015)),\n",
       " (961, ('7 Faces of Jack the Ripper', 2014)),\n",
       " (962, ('7 Guardians of the Tomb', 2018)),\n",
       " (963, ('7 Hari 24 Jam', 2014)),\n",
       " (964, ('7 Hours to Go', 2016)),\n",
       " (965, ('7 Kinds of Wrath', 2014)),\n",
       " (966, ('7 Letters', 2015)),\n",
       " (967, ('7 Lives', 2011)),\n",
       " (968, ('7 Miljardi Gadu Pirms Pasaules Gala', 2018)),\n",
       " (969, ('7 Minutes', 2014)),\n",
       " (970, ('7 Minutes', 2016)),\n",
       " (971, ('7 Months Pregnant', 2016)),\n",
       " (972, ('7 Naatkal', 2017)),\n",
       " (973, ('7 Nights of Darkness', 2011)),\n",
       " (974, ('7 Pecados Rurais', 2013)),\n",
       " (975, ('7 Petala Cinta', 2012)),\n",
       " (976, ('7 Reasons to Run Away (from Society)', 2019)),\n",
       " (977, ('7 Sea Pirates', 2012)),\n",
       " (978, ('7 Semanas', 2016)),\n",
       " (979, ('7 Sins of the Vampire', 2013)),\n",
       " (980, ('7 Splinters in Time', 2018)),\n",
       " (981, ('7 Stones', 2012)),\n",
       " (982, ('7 Welcome to London', 2012)),\n",
       " (983, ('7 Witches', 2017)),\n",
       " (984, ('7 from Etheria', 2017)),\n",
       " (985, ('7 glavnykh zhelaniy', 2013)),\n",
       " (986, ('7 jours pas plus', 2017)),\n",
       " (987, ('7 minut', 2010)),\n",
       " (988, ('7 rzeczy, których nie wiecie o facetach', 2016)),\n",
       " (989, ('7 seX 7', 2011)),\n",
       " (990, ('7 uczuc', 2018)),\n",
       " (991, ('7, Roshan Villa', 2016)),\n",
       " (992, ('70 80 90', 2016)),\n",
       " (993, ('70 Acres in Chicago: Cabrini Green', 2014)),\n",
       " (994, ('70 Big Ones', 2018)),\n",
       " (995, ('702 Dixits', 2016)),\n",
       " (996, ('706', 2019)),\n",
       " (997, ('71: Into the Fire', 2010)),\n",
       " (998, ('72 Hours', 2015)),\n",
       " (999, ('72 Hours', 2016)),\n",
       " ...]"
      ]
     },
     "execution_count": 164,
     "metadata": {},
     "output_type": "execute_result"
    }
   ],
   "source": [
    "list(enumerate(avg_rate_df.index))"
   ]
  },
  {
   "cell_type": "code",
   "execution_count": 165,
   "metadata": {},
   "outputs": [
    {
     "data": {
      "text/html": [
       "<div>\n",
       "<style scoped>\n",
       "    .dataframe tbody tr th:only-of-type {\n",
       "        vertical-align: middle;\n",
       "    }\n",
       "\n",
       "    .dataframe tbody tr th {\n",
       "        vertical-align: top;\n",
       "    }\n",
       "\n",
       "    .dataframe thead th {\n",
       "        text-align: right;\n",
       "    }\n",
       "</style>\n",
       "<table border=\"1\" class=\"dataframe\">\n",
       "  <thead>\n",
       "    <tr style=\"text-align: right;\">\n",
       "      <th></th>\n",
       "      <th>title</th>\n",
       "      <th>year</th>\n",
       "      <th>original_title</th>\n",
       "      <th>runtime_minutes</th>\n",
       "      <th>genres</th>\n",
       "      <th>averagerating</th>\n",
       "      <th>numvotes</th>\n",
       "      <th>domestic_gross</th>\n",
       "    </tr>\n",
       "  </thead>\n",
       "  <tbody>\n",
       "    <tr>\n",
       "      <th>0</th>\n",
       "      <td>!Women Art Revolution</td>\n",
       "      <td>2010</td>\n",
       "      <td>Women Art Revolution</td>\n",
       "      <td>83.0</td>\n",
       "      <td>Documentary</td>\n",
       "      <td>6.9</td>\n",
       "      <td>196.0</td>\n",
       "      <td>NaN</td>\n",
       "    </tr>\n",
       "    <tr>\n",
       "      <th>1</th>\n",
       "      <td>#1 Serial Killer</td>\n",
       "      <td>2013</td>\n",
       "      <td>#1 Serial Killer</td>\n",
       "      <td>87.0</td>\n",
       "      <td>Horror</td>\n",
       "      <td>5.6</td>\n",
       "      <td>40.0</td>\n",
       "      <td>NaN</td>\n",
       "    </tr>\n",
       "    <tr>\n",
       "      <th>2</th>\n",
       "      <td>#66</td>\n",
       "      <td>2015</td>\n",
       "      <td>#66</td>\n",
       "      <td>116.0</td>\n",
       "      <td>Action</td>\n",
       "      <td>5.3</td>\n",
       "      <td>18.0</td>\n",
       "      <td>NaN</td>\n",
       "    </tr>\n",
       "    <tr>\n",
       "      <th>3</th>\n",
       "      <td>#ALLMYMOVIES</td>\n",
       "      <td>2015</td>\n",
       "      <td>#ALLMYMOVIES</td>\n",
       "      <td>NaN</td>\n",
       "      <td>Documentary</td>\n",
       "      <td>8.3</td>\n",
       "      <td>21.0</td>\n",
       "      <td>NaN</td>\n",
       "    </tr>\n",
       "    <tr>\n",
       "      <th>4</th>\n",
       "      <td>#BKKY</td>\n",
       "      <td>2016</td>\n",
       "      <td>#BKKY</td>\n",
       "      <td>75.0</td>\n",
       "      <td>Drama</td>\n",
       "      <td>7.4</td>\n",
       "      <td>23.0</td>\n",
       "      <td>NaN</td>\n",
       "    </tr>\n",
       "    <tr>\n",
       "      <th>...</th>\n",
       "      <td>...</td>\n",
       "      <td>...</td>\n",
       "      <td>...</td>\n",
       "      <td>...</td>\n",
       "      <td>...</td>\n",
       "      <td>...</td>\n",
       "      <td>...</td>\n",
       "      <td>...</td>\n",
       "    </tr>\n",
       "    <tr>\n",
       "      <th>58030</th>\n",
       "      <td>Üç Harfliler: Adak</td>\n",
       "      <td>2019</td>\n",
       "      <td>Üç Harfliler: Adak</td>\n",
       "      <td>91.0</td>\n",
       "      <td>Horror,Thriller</td>\n",
       "      <td>7.2</td>\n",
       "      <td>212.0</td>\n",
       "      <td>NaN</td>\n",
       "    </tr>\n",
       "    <tr>\n",
       "      <th>58031</th>\n",
       "      <td>Üç Harflilerin Musallat Oldugu Büyülü Konakta ...</td>\n",
       "      <td>2018</td>\n",
       "      <td>Üç Harflilerin Musallat Oldugu Büyülü Konakta ...</td>\n",
       "      <td>80.0</td>\n",
       "      <td>Comedy,Horror,Thriller</td>\n",
       "      <td>4.8</td>\n",
       "      <td>51.0</td>\n",
       "      <td>NaN</td>\n",
       "    </tr>\n",
       "    <tr>\n",
       "      <th>58032</th>\n",
       "      <td>Üç, Iki, Bir... Kestik!</td>\n",
       "      <td>2014</td>\n",
       "      <td>Üç, Iki, Bir... Kestik!</td>\n",
       "      <td>92.0</td>\n",
       "      <td>Comedy</td>\n",
       "      <td>4.3</td>\n",
       "      <td>88.0</td>\n",
       "      <td>NaN</td>\n",
       "    </tr>\n",
       "    <tr>\n",
       "      <th>58033</th>\n",
       "      <td>ärtico</td>\n",
       "      <td>2014</td>\n",
       "      <td>ärtico</td>\n",
       "      <td>78.0</td>\n",
       "      <td>Drama</td>\n",
       "      <td>6.6</td>\n",
       "      <td>101.0</td>\n",
       "      <td>NaN</td>\n",
       "    </tr>\n",
       "    <tr>\n",
       "      <th>58034</th>\n",
       "      <td>Šiška Deluxe</td>\n",
       "      <td>2015</td>\n",
       "      <td>Siska Deluxe</td>\n",
       "      <td>108.0</td>\n",
       "      <td>Comedy,Drama</td>\n",
       "      <td>6.3</td>\n",
       "      <td>384.0</td>\n",
       "      <td>NaN</td>\n",
       "    </tr>\n",
       "  </tbody>\n",
       "</table>\n",
       "<p>58035 rows × 8 columns</p>\n",
       "</div>"
      ],
      "text/plain": [
       "                                                   title  year  \\\n",
       "0                                  !Women Art Revolution  2010   \n",
       "1                                       #1 Serial Killer  2013   \n",
       "2                                                    #66  2015   \n",
       "3                                           #ALLMYMOVIES  2015   \n",
       "4                                                  #BKKY  2016   \n",
       "...                                                  ...   ...   \n",
       "58030                                 Üç Harfliler: Adak  2019   \n",
       "58031  Üç Harflilerin Musallat Oldugu Büyülü Konakta ...  2018   \n",
       "58032                            Üç, Iki, Bir... Kestik!  2014   \n",
       "58033                                             ärtico  2014   \n",
       "58034                                       Šiška Deluxe  2015   \n",
       "\n",
       "                                          original_title  runtime_minutes  \\\n",
       "0                                   Women Art Revolution             83.0   \n",
       "1                                       #1 Serial Killer             87.0   \n",
       "2                                                    #66            116.0   \n",
       "3                                           #ALLMYMOVIES              NaN   \n",
       "4                                                  #BKKY             75.0   \n",
       "...                                                  ...              ...   \n",
       "58030                                 Üç Harfliler: Adak             91.0   \n",
       "58031  Üç Harflilerin Musallat Oldugu Büyülü Konakta ...             80.0   \n",
       "58032                            Üç, Iki, Bir... Kestik!             92.0   \n",
       "58033                                             ärtico             78.0   \n",
       "58034                                       Siska Deluxe            108.0   \n",
       "\n",
       "                       genres  averagerating  numvotes  domestic_gross  \n",
       "0                 Documentary            6.9     196.0             NaN  \n",
       "1                      Horror            5.6      40.0             NaN  \n",
       "2                      Action            5.3      18.0             NaN  \n",
       "3                 Documentary            8.3      21.0             NaN  \n",
       "4                       Drama            7.4      23.0             NaN  \n",
       "...                       ...            ...       ...             ...  \n",
       "58030         Horror,Thriller            7.2     212.0             NaN  \n",
       "58031  Comedy,Horror,Thriller            4.8      51.0             NaN  \n",
       "58032                  Comedy            4.3      88.0             NaN  \n",
       "58033                   Drama            6.6     101.0             NaN  \n",
       "58034            Comedy,Drama            6.3     384.0             NaN  \n",
       "\n",
       "[58035 rows x 8 columns]"
      ]
     },
     "execution_count": 165,
     "metadata": {},
     "output_type": "execute_result"
    }
   ],
   "source": [
    "avg_rate_df.reset_index()"
   ]
  },
  {
   "cell_type": "code",
   "execution_count": 166,
   "metadata": {},
   "outputs": [
    {
     "name": "stdout",
     "output_type": "stream",
     "text": [
      "<class 'pandas.core.frame.DataFrame'>\n",
      "MultiIndex: 58035 entries, (!Women Art Revolution, 2010) to (Šiška Deluxe, 2015)\n",
      "Data columns (total 6 columns):\n",
      "original_title     58035 non-null object\n",
      "runtime_minutes    53274 non-null float64\n",
      "genres             58035 non-null object\n",
      "averagerating      58035 non-null float64\n",
      "numvotes           58035 non-null float64\n",
      "domestic_gross     1702 non-null float64\n",
      "dtypes: float64(4), object(2)\n",
      "memory usage: 4.0+ MB\n"
     ]
    }
   ],
   "source": [
    "avg_rate_df.info()"
   ]
  },
  {
   "cell_type": "code",
   "execution_count": 167,
   "metadata": {},
   "outputs": [],
   "source": [
    "avg_rate_df = avg_rate_df.dropna(subset=['genres'])"
   ]
  },
  {
   "cell_type": "code",
   "execution_count": 168,
   "metadata": {},
   "outputs": [
    {
     "data": {
      "text/plain": [
       "True"
      ]
     },
     "execution_count": 168,
     "metadata": {},
     "output_type": "execute_result"
    }
   ],
   "source": [
    "'Action' in avg_rate_df['genres'][2]"
   ]
  },
  {
   "cell_type": "code",
   "execution_count": 169,
   "metadata": {},
   "outputs": [],
   "source": [
    "def avg_genre_rating(genre):\n",
    "    \"\"\"\n",
    "    Finds the average rating for a genre.\n",
    "    Input: Genre as a string.\n",
    "    Output: Average rating for genre as a float.\n",
    "    \"\"\"\n",
    "    genre_rating = []\n",
    "    for x in avg_rate_df.index:\n",
    "        if genre in avg_rate_df['genres'][x]:\n",
    "            genre_rating.append(avg_rate_df['averagerating'][x])\n",
    "    return(np.mean(genre_rating)).round(2)"
   ]
  },
  {
   "cell_type": "code",
   "execution_count": 170,
   "metadata": {
    "scrolled": true
   },
   "outputs": [
    {
     "data": {
      "text/plain": [
       "5.75"
      ]
     },
     "execution_count": 170,
     "metadata": {},
     "output_type": "execute_result"
    }
   ],
   "source": [
    "avg_genre_rating('Action')"
   ]
  },
  {
   "cell_type": "code",
   "execution_count": 171,
   "metadata": {},
   "outputs": [
    {
     "name": "stdout",
     "output_type": "stream",
     "text": [
      "Western 5.7\n"
     ]
    },
    {
     "name": "stderr",
     "output_type": "stream",
     "text": [
      "/Users/jerpagirsky/opt/anaconda3/envs/learn-env/lib/python3.6/site-packages/numpy/core/fromnumeric.py:3373: RuntimeWarning:\n",
      "\n",
      "Mean of empty slice.\n",
      "\n",
      "/Users/jerpagirsky/opt/anaconda3/envs/learn-env/lib/python3.6/site-packages/numpy/core/_methods.py:170: RuntimeWarning:\n",
      "\n",
      "invalid value encountered in double_scalars\n",
      "\n"
     ]
    },
    {
     "name": "stdout",
     "output_type": "stream",
     "text": [
      "Short nan\n",
      "Animation 6.24\n",
      "Comedy 5.92\n",
      "Music 6.88\n",
      "Game-Show nan\n",
      "Crime 6.06\n",
      "Talk-Show nan\n",
      "Sci-Fi 5.41\n",
      "Thriller 5.57\n",
      "Mystery 5.84\n",
      "Drama 6.35\n",
      "Romance 6.1\n",
      "Action 5.75\n",
      "Adult 2.7\n",
      "Horror 4.93\n",
      "Musical 6.46\n",
      "Fantasy 5.84\n",
      "News 7.26\n",
      "Family 6.29\n",
      "Sport 6.89\n",
      "Adventure 6.1\n",
      "History 6.98\n",
      "Reality-TV 6.27\n",
      "Biography 7.11\n",
      "War 6.49\n",
      "Documentary 7.3\n"
     ]
    }
   ],
   "source": [
    "rating_of_genre = []\n",
    "for genre in list_of_genres:\n",
    "    print(genre, avg_genre_rating(genre))"
   ]
  },
  {
   "cell_type": "markdown",
   "metadata": {},
   "source": [
    "My list returned null ratings for three genres: Game-Show, Short, and Talk-Show. Let's look at the shape of our `avg_rate_df` and compare that to how many movies belong to each of the null genres."
   ]
  },
  {
   "cell_type": "code",
   "execution_count": 172,
   "metadata": {},
   "outputs": [
    {
     "name": "stdout",
     "output_type": "stream",
     "text": [
      "<class 'pandas.core.frame.DataFrame'>\n",
      "MultiIndex: 58035 entries, (!Women Art Revolution, 2010) to (Šiška Deluxe, 2015)\n",
      "Data columns (total 6 columns):\n",
      "original_title     58035 non-null object\n",
      "runtime_minutes    53274 non-null float64\n",
      "genres             58035 non-null object\n",
      "averagerating      58035 non-null float64\n",
      "numvotes           58035 non-null float64\n",
      "domestic_gross     1702 non-null float64\n",
      "dtypes: float64(4), object(2)\n",
      "memory usage: 11.5+ MB\n"
     ]
    }
   ],
   "source": [
    "avg_rate_df.info()"
   ]
  },
  {
   "cell_type": "code",
   "execution_count": 173,
   "metadata": {
    "scrolled": true
   },
   "outputs": [
    {
     "data": {
      "text/plain": [
       "39"
      ]
     },
     "execution_count": 173,
     "metadata": {},
     "output_type": "execute_result"
    }
   ],
   "source": [
    "len(joined_df[joined_df['genres'] == 'Talk-Show'])"
   ]
  },
  {
   "cell_type": "code",
   "execution_count": 174,
   "metadata": {},
   "outputs": [
    {
     "data": {
      "text/plain": [
       "0"
      ]
     },
     "execution_count": 174,
     "metadata": {},
     "output_type": "execute_result"
    }
   ],
   "source": [
    "len(joined_df.loc[joined_df['genres'] == 'Short'])"
   ]
  },
  {
   "cell_type": "code",
   "execution_count": 175,
   "metadata": {},
   "outputs": [
    {
     "data": {
      "text/plain": [
       "2"
      ]
     },
     "execution_count": 175,
     "metadata": {},
     "output_type": "execute_result"
    }
   ],
   "source": [
    "len(joined_df.loc[joined_df['genres'] == 'Game-Show'])"
   ]
  },
  {
   "cell_type": "markdown",
   "metadata": {},
   "source": [
    "Because they are negligible amounts, I can remove them without having a major effect on the genre analyses."
   ]
  },
  {
   "cell_type": "code",
   "execution_count": 176,
   "metadata": {
    "scrolled": false
   },
   "outputs": [],
   "source": [
    "list_of_genres.remove('Talk-Show')"
   ]
  },
  {
   "cell_type": "code",
   "execution_count": 177,
   "metadata": {},
   "outputs": [],
   "source": [
    "list_of_genres.remove('Short')"
   ]
  },
  {
   "cell_type": "code",
   "execution_count": 178,
   "metadata": {},
   "outputs": [],
   "source": [
    "list_of_genres.remove('Game-Show')"
   ]
  },
  {
   "cell_type": "markdown",
   "metadata": {},
   "source": [
    "Double-check to see if all nulls have been removed."
   ]
  },
  {
   "cell_type": "code",
   "execution_count": 179,
   "metadata": {},
   "outputs": [
    {
     "name": "stdout",
     "output_type": "stream",
     "text": [
      "Western 5.7\n",
      "Animation 6.24\n",
      "Comedy 5.92\n",
      "Music 6.88\n",
      "Crime 6.06\n",
      "Sci-Fi 5.41\n",
      "Thriller 5.57\n",
      "Mystery 5.84\n",
      "Drama 6.35\n",
      "Romance 6.1\n",
      "Action 5.75\n",
      "Adult 2.7\n",
      "Horror 4.93\n",
      "Musical 6.46\n",
      "Fantasy 5.84\n",
      "News 7.26\n",
      "Family 6.29\n",
      "Sport 6.89\n",
      "Adventure 6.1\n",
      "History 6.98\n",
      "Reality-TV 6.27\n",
      "Biography 7.11\n",
      "War 6.49\n",
      "Documentary 7.3\n"
     ]
    }
   ],
   "source": [
    "rating_of_genre = []\n",
    "for genre in list_of_genres:\n",
    "    print(genre, avg_genre_rating(genre))"
   ]
  },
  {
   "cell_type": "code",
   "execution_count": 180,
   "metadata": {},
   "outputs": [],
   "source": [
    "rating_of_genre = []\n",
    "for genre in list_of_genres:\n",
    "    rating_of_genre.append(avg_genre_rating(genre))"
   ]
  },
  {
   "cell_type": "markdown",
   "metadata": {},
   "source": [
    "Re-run the for loop to get rid of the genres that originally returned null values."
   ]
  },
  {
   "cell_type": "code",
   "execution_count": 181,
   "metadata": {},
   "outputs": [
    {
     "data": {
      "text/plain": [
       "[5.7,\n",
       " 6.24,\n",
       " 5.92,\n",
       " 6.88,\n",
       " 6.06,\n",
       " 5.41,\n",
       " 5.57,\n",
       " 5.84,\n",
       " 6.35,\n",
       " 6.1,\n",
       " 5.75,\n",
       " 2.7,\n",
       " 4.93,\n",
       " 6.46,\n",
       " 5.84,\n",
       " 7.26,\n",
       " 6.29,\n",
       " 6.89,\n",
       " 6.1,\n",
       " 6.98,\n",
       " 6.27,\n",
       " 7.11,\n",
       " 6.49,\n",
       " 7.3]"
      ]
     },
     "execution_count": 181,
     "metadata": {},
     "output_type": "execute_result"
    }
   ],
   "source": [
    "rating_of_genre"
   ]
  },
  {
   "cell_type": "code",
   "execution_count": 182,
   "metadata": {},
   "outputs": [],
   "source": [
    "genre_rating_df = pd.DataFrame({\"genres\":list_of_genres,\n",
    "                  \"avg_rating\":rating_of_genre})"
   ]
  },
  {
   "cell_type": "code",
   "execution_count": 183,
   "metadata": {},
   "outputs": [
    {
     "data": {
      "text/html": [
       "<div>\n",
       "<style scoped>\n",
       "    .dataframe tbody tr th:only-of-type {\n",
       "        vertical-align: middle;\n",
       "    }\n",
       "\n",
       "    .dataframe tbody tr th {\n",
       "        vertical-align: top;\n",
       "    }\n",
       "\n",
       "    .dataframe thead th {\n",
       "        text-align: right;\n",
       "    }\n",
       "</style>\n",
       "<table border=\"1\" class=\"dataframe\">\n",
       "  <thead>\n",
       "    <tr style=\"text-align: right;\">\n",
       "      <th></th>\n",
       "      <th>genres</th>\n",
       "      <th>avg_rating</th>\n",
       "    </tr>\n",
       "  </thead>\n",
       "  <tbody>\n",
       "    <tr>\n",
       "      <th>0</th>\n",
       "      <td>Western</td>\n",
       "      <td>5.70</td>\n",
       "    </tr>\n",
       "    <tr>\n",
       "      <th>1</th>\n",
       "      <td>Animation</td>\n",
       "      <td>6.24</td>\n",
       "    </tr>\n",
       "    <tr>\n",
       "      <th>2</th>\n",
       "      <td>Comedy</td>\n",
       "      <td>5.92</td>\n",
       "    </tr>\n",
       "    <tr>\n",
       "      <th>3</th>\n",
       "      <td>Music</td>\n",
       "      <td>6.88</td>\n",
       "    </tr>\n",
       "    <tr>\n",
       "      <th>4</th>\n",
       "      <td>Crime</td>\n",
       "      <td>6.06</td>\n",
       "    </tr>\n",
       "    <tr>\n",
       "      <th>5</th>\n",
       "      <td>Sci-Fi</td>\n",
       "      <td>5.41</td>\n",
       "    </tr>\n",
       "    <tr>\n",
       "      <th>6</th>\n",
       "      <td>Thriller</td>\n",
       "      <td>5.57</td>\n",
       "    </tr>\n",
       "    <tr>\n",
       "      <th>7</th>\n",
       "      <td>Mystery</td>\n",
       "      <td>5.84</td>\n",
       "    </tr>\n",
       "    <tr>\n",
       "      <th>8</th>\n",
       "      <td>Drama</td>\n",
       "      <td>6.35</td>\n",
       "    </tr>\n",
       "    <tr>\n",
       "      <th>9</th>\n",
       "      <td>Romance</td>\n",
       "      <td>6.10</td>\n",
       "    </tr>\n",
       "    <tr>\n",
       "      <th>10</th>\n",
       "      <td>Action</td>\n",
       "      <td>5.75</td>\n",
       "    </tr>\n",
       "    <tr>\n",
       "      <th>11</th>\n",
       "      <td>Adult</td>\n",
       "      <td>2.70</td>\n",
       "    </tr>\n",
       "    <tr>\n",
       "      <th>12</th>\n",
       "      <td>Horror</td>\n",
       "      <td>4.93</td>\n",
       "    </tr>\n",
       "    <tr>\n",
       "      <th>13</th>\n",
       "      <td>Musical</td>\n",
       "      <td>6.46</td>\n",
       "    </tr>\n",
       "    <tr>\n",
       "      <th>14</th>\n",
       "      <td>Fantasy</td>\n",
       "      <td>5.84</td>\n",
       "    </tr>\n",
       "    <tr>\n",
       "      <th>15</th>\n",
       "      <td>News</td>\n",
       "      <td>7.26</td>\n",
       "    </tr>\n",
       "    <tr>\n",
       "      <th>16</th>\n",
       "      <td>Family</td>\n",
       "      <td>6.29</td>\n",
       "    </tr>\n",
       "    <tr>\n",
       "      <th>17</th>\n",
       "      <td>Sport</td>\n",
       "      <td>6.89</td>\n",
       "    </tr>\n",
       "    <tr>\n",
       "      <th>18</th>\n",
       "      <td>Adventure</td>\n",
       "      <td>6.10</td>\n",
       "    </tr>\n",
       "    <tr>\n",
       "      <th>19</th>\n",
       "      <td>History</td>\n",
       "      <td>6.98</td>\n",
       "    </tr>\n",
       "    <tr>\n",
       "      <th>20</th>\n",
       "      <td>Reality-TV</td>\n",
       "      <td>6.27</td>\n",
       "    </tr>\n",
       "    <tr>\n",
       "      <th>21</th>\n",
       "      <td>Biography</td>\n",
       "      <td>7.11</td>\n",
       "    </tr>\n",
       "    <tr>\n",
       "      <th>22</th>\n",
       "      <td>War</td>\n",
       "      <td>6.49</td>\n",
       "    </tr>\n",
       "    <tr>\n",
       "      <th>23</th>\n",
       "      <td>Documentary</td>\n",
       "      <td>7.30</td>\n",
       "    </tr>\n",
       "  </tbody>\n",
       "</table>\n",
       "</div>"
      ],
      "text/plain": [
       "         genres  avg_rating\n",
       "0       Western        5.70\n",
       "1     Animation        6.24\n",
       "2        Comedy        5.92\n",
       "3         Music        6.88\n",
       "4         Crime        6.06\n",
       "5        Sci-Fi        5.41\n",
       "6      Thriller        5.57\n",
       "7       Mystery        5.84\n",
       "8         Drama        6.35\n",
       "9       Romance        6.10\n",
       "10       Action        5.75\n",
       "11        Adult        2.70\n",
       "12       Horror        4.93\n",
       "13      Musical        6.46\n",
       "14      Fantasy        5.84\n",
       "15         News        7.26\n",
       "16       Family        6.29\n",
       "17        Sport        6.89\n",
       "18    Adventure        6.10\n",
       "19      History        6.98\n",
       "20   Reality-TV        6.27\n",
       "21    Biography        7.11\n",
       "22          War        6.49\n",
       "23  Documentary        7.30"
      ]
     },
     "execution_count": 183,
     "metadata": {},
     "output_type": "execute_result"
    }
   ],
   "source": [
    "genre_rating_df"
   ]
  },
  {
   "cell_type": "code",
   "execution_count": 184,
   "metadata": {},
   "outputs": [],
   "source": [
    "sorted_genre_rating_df = genre_rating_df.sort_values(by='avg_rating', ascending=False)"
   ]
  },
  {
   "cell_type": "markdown",
   "metadata": {},
   "source": [
    "Now moving onto finding the median domestic gross for each genre."
   ]
  },
  {
   "cell_type": "code",
   "execution_count": 185,
   "metadata": {},
   "outputs": [
    {
     "name": "stdout",
     "output_type": "stream",
     "text": [
      "<class 'pandas.core.frame.DataFrame'>\n",
      "MultiIndex: 133023 entries, (!Women Art Revolution, 2010) to (Šiška Deluxe, 2015)\n",
      "Data columns (total 6 columns):\n",
      "original_title     133022 non-null object\n",
      "runtime_minutes    106282 non-null float64\n",
      "genres             133023 non-null object\n",
      "averagerating      69281 non-null float64\n",
      "numvotes           69281 non-null float64\n",
      "domestic_gross     1702 non-null float64\n",
      "dtypes: float64(4), object(2)\n",
      "memory usage: 12.8+ MB\n"
     ]
    }
   ],
   "source": [
    "joined_df.info()"
   ]
  },
  {
   "cell_type": "code",
   "execution_count": 186,
   "metadata": {},
   "outputs": [],
   "source": [
    "def med_gross(genre):\n",
    "    \"\"\"\n",
    "    Finds the median rating for a genre.\n",
    "    Input: Genre as a string.\n",
    "    Output: List of (domestic gross, foreign gross) as integers.\n",
    "    \"\"\"\n",
    "    genre_dom_gross = []\n",
    "    for x in dom_gross_df.index:\n",
    "        if genre in dom_gross_df['genres'][x]:\n",
    "            genre_dom_gross.append(dom_gross_df['domestic_gross'][x])\n",
    "    return(np.median(genre_dom_gross))"
   ]
  },
  {
   "cell_type": "code",
   "execution_count": 187,
   "metadata": {},
   "outputs": [
    {
     "data": {
      "text/plain": [
       "26150000.0"
      ]
     },
     "execution_count": 187,
     "metadata": {},
     "output_type": "execute_result"
    }
   ],
   "source": [
    "med_gross('Action')"
   ]
  },
  {
   "cell_type": "code",
   "execution_count": 188,
   "metadata": {},
   "outputs": [
    {
     "name": "stderr",
     "output_type": "stream",
     "text": [
      "/Users/jerpagirsky/opt/anaconda3/envs/learn-env/lib/python3.6/site-packages/numpy/core/fromnumeric.py:3373: RuntimeWarning:\n",
      "\n",
      "Mean of empty slice.\n",
      "\n",
      "/Users/jerpagirsky/opt/anaconda3/envs/learn-env/lib/python3.6/site-packages/numpy/core/_methods.py:170: RuntimeWarning:\n",
      "\n",
      "invalid value encountered in double_scalars\n",
      "\n"
     ]
    }
   ],
   "source": [
    "genre_med_gross = []\n",
    "for genre in list_of_genres:\n",
    "    genre_med_gross.append(med_gross(genre))"
   ]
  },
  {
   "cell_type": "code",
   "execution_count": 189,
   "metadata": {},
   "outputs": [
    {
     "data": {
      "text/plain": [
       "[5700000.0,\n",
       " 85150000.0,\n",
       " 17800000.0,\n",
       " 3700000.0,\n",
       " 11300000.0,\n",
       " 79200000.0,\n",
       " 15900000.0,\n",
       " 15900000.0,\n",
       " 4100000.0,\n",
       " 3000000.0,\n",
       " 26150000.0,\n",
       " nan,\n",
       " 21100000.0,\n",
       " 2800000.0,\n",
       " 31200000.0,\n",
       " 13200.0,\n",
       " 43900000.0,\n",
       " 13700000.0,\n",
       " 64900000.0,\n",
       " 4000000.0,\n",
       " nan,\n",
       " 6750000.0,\n",
       " 947500.0,\n",
       " 517000.0]"
      ]
     },
     "execution_count": 189,
     "metadata": {},
     "output_type": "execute_result"
    }
   ],
   "source": [
    "genre_med_gross"
   ]
  },
  {
   "cell_type": "markdown",
   "metadata": {},
   "source": [
    "There are null values for the domestic gross of two genres. Because I will eventually be adding columns for the median number of votes and the average rating, I have decided to keep the null values and then drop them once I have a better idea of the data I will be using for visualizations."
   ]
  },
  {
   "cell_type": "code",
   "execution_count": 190,
   "metadata": {},
   "outputs": [],
   "source": [
    "med_dom_gross_df = pd.DataFrame({\"genres\":list_of_genres,\n",
    "                  \"median_domestic_gross\":genre_med_gross})"
   ]
  },
  {
   "cell_type": "code",
   "execution_count": 191,
   "metadata": {},
   "outputs": [
    {
     "data": {
      "text/html": [
       "<div>\n",
       "<style scoped>\n",
       "    .dataframe tbody tr th:only-of-type {\n",
       "        vertical-align: middle;\n",
       "    }\n",
       "\n",
       "    .dataframe tbody tr th {\n",
       "        vertical-align: top;\n",
       "    }\n",
       "\n",
       "    .dataframe thead th {\n",
       "        text-align: right;\n",
       "    }\n",
       "</style>\n",
       "<table border=\"1\" class=\"dataframe\">\n",
       "  <thead>\n",
       "    <tr style=\"text-align: right;\">\n",
       "      <th></th>\n",
       "      <th>genres</th>\n",
       "      <th>median_domestic_gross</th>\n",
       "    </tr>\n",
       "  </thead>\n",
       "  <tbody>\n",
       "    <tr>\n",
       "      <th>1</th>\n",
       "      <td>Animation</td>\n",
       "      <td>85150000.0</td>\n",
       "    </tr>\n",
       "    <tr>\n",
       "      <th>5</th>\n",
       "      <td>Sci-Fi</td>\n",
       "      <td>79200000.0</td>\n",
       "    </tr>\n",
       "    <tr>\n",
       "      <th>18</th>\n",
       "      <td>Adventure</td>\n",
       "      <td>64900000.0</td>\n",
       "    </tr>\n",
       "    <tr>\n",
       "      <th>16</th>\n",
       "      <td>Family</td>\n",
       "      <td>43900000.0</td>\n",
       "    </tr>\n",
       "    <tr>\n",
       "      <th>14</th>\n",
       "      <td>Fantasy</td>\n",
       "      <td>31200000.0</td>\n",
       "    </tr>\n",
       "    <tr>\n",
       "      <th>10</th>\n",
       "      <td>Action</td>\n",
       "      <td>26150000.0</td>\n",
       "    </tr>\n",
       "    <tr>\n",
       "      <th>12</th>\n",
       "      <td>Horror</td>\n",
       "      <td>21100000.0</td>\n",
       "    </tr>\n",
       "    <tr>\n",
       "      <th>2</th>\n",
       "      <td>Comedy</td>\n",
       "      <td>17800000.0</td>\n",
       "    </tr>\n",
       "    <tr>\n",
       "      <th>6</th>\n",
       "      <td>Thriller</td>\n",
       "      <td>15900000.0</td>\n",
       "    </tr>\n",
       "    <tr>\n",
       "      <th>7</th>\n",
       "      <td>Mystery</td>\n",
       "      <td>15900000.0</td>\n",
       "    </tr>\n",
       "    <tr>\n",
       "      <th>17</th>\n",
       "      <td>Sport</td>\n",
       "      <td>13700000.0</td>\n",
       "    </tr>\n",
       "    <tr>\n",
       "      <th>4</th>\n",
       "      <td>Crime</td>\n",
       "      <td>11300000.0</td>\n",
       "    </tr>\n",
       "    <tr>\n",
       "      <th>21</th>\n",
       "      <td>Biography</td>\n",
       "      <td>6750000.0</td>\n",
       "    </tr>\n",
       "    <tr>\n",
       "      <th>0</th>\n",
       "      <td>Western</td>\n",
       "      <td>5700000.0</td>\n",
       "    </tr>\n",
       "    <tr>\n",
       "      <th>8</th>\n",
       "      <td>Drama</td>\n",
       "      <td>4100000.0</td>\n",
       "    </tr>\n",
       "    <tr>\n",
       "      <th>19</th>\n",
       "      <td>History</td>\n",
       "      <td>4000000.0</td>\n",
       "    </tr>\n",
       "    <tr>\n",
       "      <th>3</th>\n",
       "      <td>Music</td>\n",
       "      <td>3700000.0</td>\n",
       "    </tr>\n",
       "    <tr>\n",
       "      <th>9</th>\n",
       "      <td>Romance</td>\n",
       "      <td>3000000.0</td>\n",
       "    </tr>\n",
       "    <tr>\n",
       "      <th>13</th>\n",
       "      <td>Musical</td>\n",
       "      <td>2800000.0</td>\n",
       "    </tr>\n",
       "    <tr>\n",
       "      <th>22</th>\n",
       "      <td>War</td>\n",
       "      <td>947500.0</td>\n",
       "    </tr>\n",
       "    <tr>\n",
       "      <th>23</th>\n",
       "      <td>Documentary</td>\n",
       "      <td>517000.0</td>\n",
       "    </tr>\n",
       "    <tr>\n",
       "      <th>15</th>\n",
       "      <td>News</td>\n",
       "      <td>13200.0</td>\n",
       "    </tr>\n",
       "    <tr>\n",
       "      <th>11</th>\n",
       "      <td>Adult</td>\n",
       "      <td>NaN</td>\n",
       "    </tr>\n",
       "    <tr>\n",
       "      <th>20</th>\n",
       "      <td>Reality-TV</td>\n",
       "      <td>NaN</td>\n",
       "    </tr>\n",
       "  </tbody>\n",
       "</table>\n",
       "</div>"
      ],
      "text/plain": [
       "         genres  median_domestic_gross\n",
       "1     Animation             85150000.0\n",
       "5        Sci-Fi             79200000.0\n",
       "18    Adventure             64900000.0\n",
       "16       Family             43900000.0\n",
       "14      Fantasy             31200000.0\n",
       "10       Action             26150000.0\n",
       "12       Horror             21100000.0\n",
       "2        Comedy             17800000.0\n",
       "6      Thriller             15900000.0\n",
       "7       Mystery             15900000.0\n",
       "17        Sport             13700000.0\n",
       "4         Crime             11300000.0\n",
       "21    Biography              6750000.0\n",
       "0       Western              5700000.0\n",
       "8         Drama              4100000.0\n",
       "19      History              4000000.0\n",
       "3         Music              3700000.0\n",
       "9       Romance              3000000.0\n",
       "13      Musical              2800000.0\n",
       "22          War               947500.0\n",
       "23  Documentary               517000.0\n",
       "15         News                13200.0\n",
       "11        Adult                    NaN\n",
       "20   Reality-TV                    NaN"
      ]
     },
     "execution_count": 191,
     "metadata": {},
     "output_type": "execute_result"
    }
   ],
   "source": [
    "med_dom_gross_df.sort_values(by='median_domestic_gross',ascending=False)"
   ]
  },
  {
   "cell_type": "code",
   "execution_count": 192,
   "metadata": {},
   "outputs": [],
   "source": [
    "sorted_med_dom_gross_df = med_dom_gross_df.sort_values(by='median_domestic_gross', ascending=False)"
   ]
  },
  {
   "cell_type": "code",
   "execution_count": 193,
   "metadata": {},
   "outputs": [],
   "source": [
    "avg_rate_list = joined_df['averagerating'].dropna()"
   ]
  },
  {
   "cell_type": "code",
   "execution_count": 194,
   "metadata": {},
   "outputs": [
    {
     "data": {
      "text/plain": [
       "title                                                                               year\n",
       "!Women Art Revolution                                                               2010    6.9\n",
       "#1 Serial Killer                                                                    2013    5.6\n",
       "#5                                                                                  2013    6.8\n",
       "#66                                                                                 2015    5.3\n",
       "#ALLMYMOVIES                                                                        2015    8.3\n",
       "                                                                                           ... \n",
       "Üç Harflilerin Musallat Oldugu Büyülü Konakta Ruh Çagiran Gençlerin Hazin Hikayesi  2018    4.8\n",
       "Üç, Iki, Bir... Kestik!                                                             2014    4.3\n",
       "à propos: philosophie                                                               2016    8.2\n",
       "ärtico                                                                              2014    6.6\n",
       "Šiška Deluxe                                                                        2015    6.3\n",
       "Name: averagerating, Length: 69281, dtype: float64"
      ]
     },
     "execution_count": 194,
     "metadata": {},
     "output_type": "execute_result"
    }
   ],
   "source": [
    "avg_rate_list"
   ]
  },
  {
   "cell_type": "code",
   "execution_count": 195,
   "metadata": {},
   "outputs": [],
   "source": [
    "numvotes_list = joined_df['numvotes'].dropna()"
   ]
  },
  {
   "cell_type": "code",
   "execution_count": 196,
   "metadata": {},
   "outputs": [
    {
     "data": {
      "text/plain": [
       "title                                                                               year\n",
       "!Women Art Revolution                                                               2010    196.0\n",
       "#1 Serial Killer                                                                    2013     40.0\n",
       "#5                                                                                  2013      6.0\n",
       "#66                                                                                 2015     18.0\n",
       "#ALLMYMOVIES                                                                        2015     21.0\n",
       "                                                                                            ...  \n",
       "Üç Harflilerin Musallat Oldugu Büyülü Konakta Ruh Çagiran Gençlerin Hazin Hikayesi  2018     51.0\n",
       "Üç, Iki, Bir... Kestik!                                                             2014     88.0\n",
       "à propos: philosophie                                                               2016      5.0\n",
       "ärtico                                                                              2014    101.0\n",
       "Šiška Deluxe                                                                        2015    384.0\n",
       "Name: numvotes, Length: 69281, dtype: float64"
      ]
     },
     "execution_count": 196,
     "metadata": {},
     "output_type": "execute_result"
    }
   ],
   "source": [
    "numvotes_list"
   ]
  },
  {
   "cell_type": "code",
   "execution_count": 197,
   "metadata": {},
   "outputs": [],
   "source": [
    "rate_pop_df = pd.DataFrame({\"avg_rating\":avg_rate_list,\n",
    "                  \"numvotes\":numvotes_list})"
   ]
  },
  {
   "cell_type": "code",
   "execution_count": 198,
   "metadata": {},
   "outputs": [
    {
     "data": {
      "text/html": [
       "<div>\n",
       "<style scoped>\n",
       "    .dataframe tbody tr th:only-of-type {\n",
       "        vertical-align: middle;\n",
       "    }\n",
       "\n",
       "    .dataframe tbody tr th {\n",
       "        vertical-align: top;\n",
       "    }\n",
       "\n",
       "    .dataframe thead th {\n",
       "        text-align: right;\n",
       "    }\n",
       "</style>\n",
       "<table border=\"1\" class=\"dataframe\">\n",
       "  <thead>\n",
       "    <tr style=\"text-align: right;\">\n",
       "      <th></th>\n",
       "      <th></th>\n",
       "      <th>avg_rating</th>\n",
       "      <th>numvotes</th>\n",
       "    </tr>\n",
       "    <tr>\n",
       "      <th>title</th>\n",
       "      <th>year</th>\n",
       "      <th></th>\n",
       "      <th></th>\n",
       "    </tr>\n",
       "  </thead>\n",
       "  <tbody>\n",
       "    <tr>\n",
       "      <th>!Women Art Revolution</th>\n",
       "      <th>2010</th>\n",
       "      <td>6.9</td>\n",
       "      <td>196.0</td>\n",
       "    </tr>\n",
       "    <tr>\n",
       "      <th>#1 Serial Killer</th>\n",
       "      <th>2013</th>\n",
       "      <td>5.6</td>\n",
       "      <td>40.0</td>\n",
       "    </tr>\n",
       "    <tr>\n",
       "      <th>#5</th>\n",
       "      <th>2013</th>\n",
       "      <td>6.8</td>\n",
       "      <td>6.0</td>\n",
       "    </tr>\n",
       "    <tr>\n",
       "      <th>#66</th>\n",
       "      <th>2015</th>\n",
       "      <td>5.3</td>\n",
       "      <td>18.0</td>\n",
       "    </tr>\n",
       "    <tr>\n",
       "      <th>#ALLMYMOVIES</th>\n",
       "      <th>2015</th>\n",
       "      <td>8.3</td>\n",
       "      <td>21.0</td>\n",
       "    </tr>\n",
       "    <tr>\n",
       "      <th>...</th>\n",
       "      <th>...</th>\n",
       "      <td>...</td>\n",
       "      <td>...</td>\n",
       "    </tr>\n",
       "    <tr>\n",
       "      <th>Üç Harflilerin Musallat Oldugu Büyülü Konakta Ruh Çagiran Gençlerin Hazin Hikayesi</th>\n",
       "      <th>2018</th>\n",
       "      <td>4.8</td>\n",
       "      <td>51.0</td>\n",
       "    </tr>\n",
       "    <tr>\n",
       "      <th>Üç, Iki, Bir... Kestik!</th>\n",
       "      <th>2014</th>\n",
       "      <td>4.3</td>\n",
       "      <td>88.0</td>\n",
       "    </tr>\n",
       "    <tr>\n",
       "      <th>à propos: philosophie</th>\n",
       "      <th>2016</th>\n",
       "      <td>8.2</td>\n",
       "      <td>5.0</td>\n",
       "    </tr>\n",
       "    <tr>\n",
       "      <th>ärtico</th>\n",
       "      <th>2014</th>\n",
       "      <td>6.6</td>\n",
       "      <td>101.0</td>\n",
       "    </tr>\n",
       "    <tr>\n",
       "      <th>Šiška Deluxe</th>\n",
       "      <th>2015</th>\n",
       "      <td>6.3</td>\n",
       "      <td>384.0</td>\n",
       "    </tr>\n",
       "  </tbody>\n",
       "</table>\n",
       "<p>69281 rows × 2 columns</p>\n",
       "</div>"
      ],
      "text/plain": [
       "                                                         avg_rating  numvotes\n",
       "title                                              year                      \n",
       "!Women Art Revolution                              2010         6.9     196.0\n",
       "#1 Serial Killer                                   2013         5.6      40.0\n",
       "#5                                                 2013         6.8       6.0\n",
       "#66                                                2015         5.3      18.0\n",
       "#ALLMYMOVIES                                       2015         8.3      21.0\n",
       "...                                                             ...       ...\n",
       "Üç Harflilerin Musallat Oldugu Büyülü Konakta R... 2018         4.8      51.0\n",
       "Üç, Iki, Bir... Kestik!                            2014         4.3      88.0\n",
       "à propos: philosophie                              2016         8.2       5.0\n",
       "ärtico                                             2014         6.6     101.0\n",
       "Šiška Deluxe                                       2015         6.3     384.0\n",
       "\n",
       "[69281 rows x 2 columns]"
      ]
     },
     "execution_count": 198,
     "metadata": {},
     "output_type": "execute_result"
    }
   ],
   "source": [
    "rate_pop_df"
   ]
  },
  {
   "cell_type": "code",
   "execution_count": 199,
   "metadata": {},
   "outputs": [],
   "source": [
    "def genre_pop(genre):\n",
    "    \"\"\"\n",
    "    Finds the median number of votes for a genre.\n",
    "    Input: Genre as a string.\n",
    "    Output: Number of votes as a float.\n",
    "    \"\"\"\n",
    "    genre_popularity = []\n",
    "    for x in avg_rate_df.index:\n",
    "        if genre in avg_rate_df['genres'][x]:\n",
    "            genre_popularity.append(avg_rate_df['numvotes'][x])\n",
    "    return(np.median(genre_popularity))"
   ]
  },
  {
   "cell_type": "code",
   "execution_count": 200,
   "metadata": {},
   "outputs": [],
   "source": [
    "pop_genre = []\n",
    "for genre in list_of_genres:\n",
    "    pop_genre.append(genre_pop(genre))"
   ]
  },
  {
   "cell_type": "code",
   "execution_count": 201,
   "metadata": {},
   "outputs": [
    {
     "data": {
      "text/plain": [
       "['Western',\n",
       " 'Animation',\n",
       " 'Comedy',\n",
       " 'Music',\n",
       " 'Crime',\n",
       " 'Sci-Fi',\n",
       " 'Thriller',\n",
       " 'Mystery',\n",
       " 'Drama',\n",
       " 'Romance',\n",
       " 'Action',\n",
       " 'Adult',\n",
       " 'Horror',\n",
       " 'Musical',\n",
       " 'Fantasy',\n",
       " 'News',\n",
       " 'Family',\n",
       " 'Sport',\n",
       " 'Adventure',\n",
       " 'History',\n",
       " 'Reality-TV',\n",
       " 'Biography',\n",
       " 'War',\n",
       " 'Documentary']"
      ]
     },
     "execution_count": 201,
     "metadata": {},
     "output_type": "execute_result"
    }
   ],
   "source": [
    "list_of_genres"
   ]
  },
  {
   "cell_type": "code",
   "execution_count": 202,
   "metadata": {},
   "outputs": [
    {
     "data": {
      "text/plain": [
       "[96.0,\n",
       " 137.0,\n",
       " 133.0,\n",
       " 67.0,\n",
       " 227.0,\n",
       " 169.0,\n",
       " 174.5,\n",
       " 165.5,\n",
       " 108.0,\n",
       " 163.0,\n",
       " 248.0,\n",
       " 78.0,\n",
       " 105.0,\n",
       " 68.0,\n",
       " 139.0,\n",
       " 33.0,\n",
       " 76.0,\n",
       " 107.0,\n",
       " 171.0,\n",
       " 68.0,\n",
       " 24.0,\n",
       " 79.0,\n",
       " 142.0,\n",
       " 35.0]"
      ]
     },
     "execution_count": 202,
     "metadata": {},
     "output_type": "execute_result"
    }
   ],
   "source": [
    "pop_genre"
   ]
  },
  {
   "cell_type": "code",
   "execution_count": 203,
   "metadata": {},
   "outputs": [
    {
     "data": {
      "text/html": [
       "<div>\n",
       "<style scoped>\n",
       "    .dataframe tbody tr th:only-of-type {\n",
       "        vertical-align: middle;\n",
       "    }\n",
       "\n",
       "    .dataframe tbody tr th {\n",
       "        vertical-align: top;\n",
       "    }\n",
       "\n",
       "    .dataframe thead th {\n",
       "        text-align: right;\n",
       "    }\n",
       "</style>\n",
       "<table border=\"1\" class=\"dataframe\">\n",
       "  <thead>\n",
       "    <tr style=\"text-align: right;\">\n",
       "      <th></th>\n",
       "      <th>genres</th>\n",
       "      <th>median_domestic_gross</th>\n",
       "    </tr>\n",
       "  </thead>\n",
       "  <tbody>\n",
       "    <tr>\n",
       "      <th>0</th>\n",
       "      <td>Western</td>\n",
       "      <td>5700000.0</td>\n",
       "    </tr>\n",
       "    <tr>\n",
       "      <th>1</th>\n",
       "      <td>Animation</td>\n",
       "      <td>85150000.0</td>\n",
       "    </tr>\n",
       "    <tr>\n",
       "      <th>2</th>\n",
       "      <td>Comedy</td>\n",
       "      <td>17800000.0</td>\n",
       "    </tr>\n",
       "    <tr>\n",
       "      <th>3</th>\n",
       "      <td>Music</td>\n",
       "      <td>3700000.0</td>\n",
       "    </tr>\n",
       "    <tr>\n",
       "      <th>4</th>\n",
       "      <td>Crime</td>\n",
       "      <td>11300000.0</td>\n",
       "    </tr>\n",
       "    <tr>\n",
       "      <th>5</th>\n",
       "      <td>Sci-Fi</td>\n",
       "      <td>79200000.0</td>\n",
       "    </tr>\n",
       "    <tr>\n",
       "      <th>6</th>\n",
       "      <td>Thriller</td>\n",
       "      <td>15900000.0</td>\n",
       "    </tr>\n",
       "    <tr>\n",
       "      <th>7</th>\n",
       "      <td>Mystery</td>\n",
       "      <td>15900000.0</td>\n",
       "    </tr>\n",
       "    <tr>\n",
       "      <th>8</th>\n",
       "      <td>Drama</td>\n",
       "      <td>4100000.0</td>\n",
       "    </tr>\n",
       "    <tr>\n",
       "      <th>9</th>\n",
       "      <td>Romance</td>\n",
       "      <td>3000000.0</td>\n",
       "    </tr>\n",
       "    <tr>\n",
       "      <th>10</th>\n",
       "      <td>Action</td>\n",
       "      <td>26150000.0</td>\n",
       "    </tr>\n",
       "    <tr>\n",
       "      <th>11</th>\n",
       "      <td>Adult</td>\n",
       "      <td>NaN</td>\n",
       "    </tr>\n",
       "    <tr>\n",
       "      <th>12</th>\n",
       "      <td>Horror</td>\n",
       "      <td>21100000.0</td>\n",
       "    </tr>\n",
       "    <tr>\n",
       "      <th>13</th>\n",
       "      <td>Musical</td>\n",
       "      <td>2800000.0</td>\n",
       "    </tr>\n",
       "    <tr>\n",
       "      <th>14</th>\n",
       "      <td>Fantasy</td>\n",
       "      <td>31200000.0</td>\n",
       "    </tr>\n",
       "    <tr>\n",
       "      <th>15</th>\n",
       "      <td>News</td>\n",
       "      <td>13200.0</td>\n",
       "    </tr>\n",
       "    <tr>\n",
       "      <th>16</th>\n",
       "      <td>Family</td>\n",
       "      <td>43900000.0</td>\n",
       "    </tr>\n",
       "    <tr>\n",
       "      <th>17</th>\n",
       "      <td>Sport</td>\n",
       "      <td>13700000.0</td>\n",
       "    </tr>\n",
       "    <tr>\n",
       "      <th>18</th>\n",
       "      <td>Adventure</td>\n",
       "      <td>64900000.0</td>\n",
       "    </tr>\n",
       "    <tr>\n",
       "      <th>19</th>\n",
       "      <td>History</td>\n",
       "      <td>4000000.0</td>\n",
       "    </tr>\n",
       "    <tr>\n",
       "      <th>20</th>\n",
       "      <td>Reality-TV</td>\n",
       "      <td>NaN</td>\n",
       "    </tr>\n",
       "    <tr>\n",
       "      <th>21</th>\n",
       "      <td>Biography</td>\n",
       "      <td>6750000.0</td>\n",
       "    </tr>\n",
       "    <tr>\n",
       "      <th>22</th>\n",
       "      <td>War</td>\n",
       "      <td>947500.0</td>\n",
       "    </tr>\n",
       "    <tr>\n",
       "      <th>23</th>\n",
       "      <td>Documentary</td>\n",
       "      <td>517000.0</td>\n",
       "    </tr>\n",
       "  </tbody>\n",
       "</table>\n",
       "</div>"
      ],
      "text/plain": [
       "         genres  median_domestic_gross\n",
       "0       Western              5700000.0\n",
       "1     Animation             85150000.0\n",
       "2        Comedy             17800000.0\n",
       "3         Music              3700000.0\n",
       "4         Crime             11300000.0\n",
       "5        Sci-Fi             79200000.0\n",
       "6      Thriller             15900000.0\n",
       "7       Mystery             15900000.0\n",
       "8         Drama              4100000.0\n",
       "9       Romance              3000000.0\n",
       "10       Action             26150000.0\n",
       "11        Adult                    NaN\n",
       "12       Horror             21100000.0\n",
       "13      Musical              2800000.0\n",
       "14      Fantasy             31200000.0\n",
       "15         News                13200.0\n",
       "16       Family             43900000.0\n",
       "17        Sport             13700000.0\n",
       "18    Adventure             64900000.0\n",
       "19      History              4000000.0\n",
       "20   Reality-TV                    NaN\n",
       "21    Biography              6750000.0\n",
       "22          War               947500.0\n",
       "23  Documentary               517000.0"
      ]
     },
     "execution_count": 203,
     "metadata": {},
     "output_type": "execute_result"
    }
   ],
   "source": [
    "med_dom_gross_df"
   ]
  },
  {
   "cell_type": "code",
   "execution_count": 204,
   "metadata": {},
   "outputs": [],
   "source": [
    "med_dom_gross_df['median_numvotes'] = pop_genre"
   ]
  },
  {
   "cell_type": "code",
   "execution_count": 205,
   "metadata": {},
   "outputs": [],
   "source": [
    "med_dom_gross_df['mean_rating'] = rating_of_genre"
   ]
  },
  {
   "cell_type": "code",
   "execution_count": 206,
   "metadata": {},
   "outputs": [
    {
     "data": {
      "text/html": [
       "<div>\n",
       "<style scoped>\n",
       "    .dataframe tbody tr th:only-of-type {\n",
       "        vertical-align: middle;\n",
       "    }\n",
       "\n",
       "    .dataframe tbody tr th {\n",
       "        vertical-align: top;\n",
       "    }\n",
       "\n",
       "    .dataframe thead th {\n",
       "        text-align: right;\n",
       "    }\n",
       "</style>\n",
       "<table border=\"1\" class=\"dataframe\">\n",
       "  <thead>\n",
       "    <tr style=\"text-align: right;\">\n",
       "      <th></th>\n",
       "      <th>genres</th>\n",
       "      <th>median_domestic_gross</th>\n",
       "      <th>median_numvotes</th>\n",
       "      <th>mean_rating</th>\n",
       "    </tr>\n",
       "  </thead>\n",
       "  <tbody>\n",
       "    <tr>\n",
       "      <th>0</th>\n",
       "      <td>Western</td>\n",
       "      <td>5700000.0</td>\n",
       "      <td>96.0</td>\n",
       "      <td>5.70</td>\n",
       "    </tr>\n",
       "    <tr>\n",
       "      <th>1</th>\n",
       "      <td>Animation</td>\n",
       "      <td>85150000.0</td>\n",
       "      <td>137.0</td>\n",
       "      <td>6.24</td>\n",
       "    </tr>\n",
       "    <tr>\n",
       "      <th>2</th>\n",
       "      <td>Comedy</td>\n",
       "      <td>17800000.0</td>\n",
       "      <td>133.0</td>\n",
       "      <td>5.92</td>\n",
       "    </tr>\n",
       "    <tr>\n",
       "      <th>3</th>\n",
       "      <td>Music</td>\n",
       "      <td>3700000.0</td>\n",
       "      <td>67.0</td>\n",
       "      <td>6.88</td>\n",
       "    </tr>\n",
       "    <tr>\n",
       "      <th>4</th>\n",
       "      <td>Crime</td>\n",
       "      <td>11300000.0</td>\n",
       "      <td>227.0</td>\n",
       "      <td>6.06</td>\n",
       "    </tr>\n",
       "    <tr>\n",
       "      <th>5</th>\n",
       "      <td>Sci-Fi</td>\n",
       "      <td>79200000.0</td>\n",
       "      <td>169.0</td>\n",
       "      <td>5.41</td>\n",
       "    </tr>\n",
       "    <tr>\n",
       "      <th>6</th>\n",
       "      <td>Thriller</td>\n",
       "      <td>15900000.0</td>\n",
       "      <td>174.5</td>\n",
       "      <td>5.57</td>\n",
       "    </tr>\n",
       "    <tr>\n",
       "      <th>7</th>\n",
       "      <td>Mystery</td>\n",
       "      <td>15900000.0</td>\n",
       "      <td>165.5</td>\n",
       "      <td>5.84</td>\n",
       "    </tr>\n",
       "    <tr>\n",
       "      <th>8</th>\n",
       "      <td>Drama</td>\n",
       "      <td>4100000.0</td>\n",
       "      <td>108.0</td>\n",
       "      <td>6.35</td>\n",
       "    </tr>\n",
       "    <tr>\n",
       "      <th>9</th>\n",
       "      <td>Romance</td>\n",
       "      <td>3000000.0</td>\n",
       "      <td>163.0</td>\n",
       "      <td>6.10</td>\n",
       "    </tr>\n",
       "    <tr>\n",
       "      <th>10</th>\n",
       "      <td>Action</td>\n",
       "      <td>26150000.0</td>\n",
       "      <td>248.0</td>\n",
       "      <td>5.75</td>\n",
       "    </tr>\n",
       "    <tr>\n",
       "      <th>11</th>\n",
       "      <td>Adult</td>\n",
       "      <td>NaN</td>\n",
       "      <td>78.0</td>\n",
       "      <td>2.70</td>\n",
       "    </tr>\n",
       "    <tr>\n",
       "      <th>12</th>\n",
       "      <td>Horror</td>\n",
       "      <td>21100000.0</td>\n",
       "      <td>105.0</td>\n",
       "      <td>4.93</td>\n",
       "    </tr>\n",
       "    <tr>\n",
       "      <th>13</th>\n",
       "      <td>Musical</td>\n",
       "      <td>2800000.0</td>\n",
       "      <td>68.0</td>\n",
       "      <td>6.46</td>\n",
       "    </tr>\n",
       "    <tr>\n",
       "      <th>14</th>\n",
       "      <td>Fantasy</td>\n",
       "      <td>31200000.0</td>\n",
       "      <td>139.0</td>\n",
       "      <td>5.84</td>\n",
       "    </tr>\n",
       "    <tr>\n",
       "      <th>15</th>\n",
       "      <td>News</td>\n",
       "      <td>13200.0</td>\n",
       "      <td>33.0</td>\n",
       "      <td>7.26</td>\n",
       "    </tr>\n",
       "    <tr>\n",
       "      <th>16</th>\n",
       "      <td>Family</td>\n",
       "      <td>43900000.0</td>\n",
       "      <td>76.0</td>\n",
       "      <td>6.29</td>\n",
       "    </tr>\n",
       "    <tr>\n",
       "      <th>17</th>\n",
       "      <td>Sport</td>\n",
       "      <td>13700000.0</td>\n",
       "      <td>107.0</td>\n",
       "      <td>6.89</td>\n",
       "    </tr>\n",
       "    <tr>\n",
       "      <th>18</th>\n",
       "      <td>Adventure</td>\n",
       "      <td>64900000.0</td>\n",
       "      <td>171.0</td>\n",
       "      <td>6.10</td>\n",
       "    </tr>\n",
       "    <tr>\n",
       "      <th>19</th>\n",
       "      <td>History</td>\n",
       "      <td>4000000.0</td>\n",
       "      <td>68.0</td>\n",
       "      <td>6.98</td>\n",
       "    </tr>\n",
       "    <tr>\n",
       "      <th>20</th>\n",
       "      <td>Reality-TV</td>\n",
       "      <td>NaN</td>\n",
       "      <td>24.0</td>\n",
       "      <td>6.27</td>\n",
       "    </tr>\n",
       "    <tr>\n",
       "      <th>21</th>\n",
       "      <td>Biography</td>\n",
       "      <td>6750000.0</td>\n",
       "      <td>79.0</td>\n",
       "      <td>7.11</td>\n",
       "    </tr>\n",
       "    <tr>\n",
       "      <th>22</th>\n",
       "      <td>War</td>\n",
       "      <td>947500.0</td>\n",
       "      <td>142.0</td>\n",
       "      <td>6.49</td>\n",
       "    </tr>\n",
       "    <tr>\n",
       "      <th>23</th>\n",
       "      <td>Documentary</td>\n",
       "      <td>517000.0</td>\n",
       "      <td>35.0</td>\n",
       "      <td>7.30</td>\n",
       "    </tr>\n",
       "  </tbody>\n",
       "</table>\n",
       "</div>"
      ],
      "text/plain": [
       "         genres  median_domestic_gross  median_numvotes  mean_rating\n",
       "0       Western              5700000.0             96.0         5.70\n",
       "1     Animation             85150000.0            137.0         6.24\n",
       "2        Comedy             17800000.0            133.0         5.92\n",
       "3         Music              3700000.0             67.0         6.88\n",
       "4         Crime             11300000.0            227.0         6.06\n",
       "5        Sci-Fi             79200000.0            169.0         5.41\n",
       "6      Thriller             15900000.0            174.5         5.57\n",
       "7       Mystery             15900000.0            165.5         5.84\n",
       "8         Drama              4100000.0            108.0         6.35\n",
       "9       Romance              3000000.0            163.0         6.10\n",
       "10       Action             26150000.0            248.0         5.75\n",
       "11        Adult                    NaN             78.0         2.70\n",
       "12       Horror             21100000.0            105.0         4.93\n",
       "13      Musical              2800000.0             68.0         6.46\n",
       "14      Fantasy             31200000.0            139.0         5.84\n",
       "15         News                13200.0             33.0         7.26\n",
       "16       Family             43900000.0             76.0         6.29\n",
       "17        Sport             13700000.0            107.0         6.89\n",
       "18    Adventure             64900000.0            171.0         6.10\n",
       "19      History              4000000.0             68.0         6.98\n",
       "20   Reality-TV                    NaN             24.0         6.27\n",
       "21    Biography              6750000.0             79.0         7.11\n",
       "22          War               947500.0            142.0         6.49\n",
       "23  Documentary               517000.0             35.0         7.30"
      ]
     },
     "execution_count": 206,
     "metadata": {},
     "output_type": "execute_result"
    }
   ],
   "source": [
    "med_dom_gross_df"
   ]
  },
  {
   "cell_type": "markdown",
   "metadata": {},
   "source": [
    "I am renaming the dataset to `new_joined_df` so it clarifies what kind of data I will be working with for further analyses."
   ]
  },
  {
   "cell_type": "code",
   "execution_count": 207,
   "metadata": {},
   "outputs": [],
   "source": [
    "new_joined_df = med_dom_gross_df"
   ]
  },
  {
   "cell_type": "code",
   "execution_count": 208,
   "metadata": {},
   "outputs": [
    {
     "data": {
      "text/html": [
       "<div>\n",
       "<style scoped>\n",
       "    .dataframe tbody tr th:only-of-type {\n",
       "        vertical-align: middle;\n",
       "    }\n",
       "\n",
       "    .dataframe tbody tr th {\n",
       "        vertical-align: top;\n",
       "    }\n",
       "\n",
       "    .dataframe thead th {\n",
       "        text-align: right;\n",
       "    }\n",
       "</style>\n",
       "<table border=\"1\" class=\"dataframe\">\n",
       "  <thead>\n",
       "    <tr style=\"text-align: right;\">\n",
       "      <th></th>\n",
       "      <th>genres</th>\n",
       "      <th>median_domestic_gross</th>\n",
       "      <th>median_numvotes</th>\n",
       "      <th>mean_rating</th>\n",
       "    </tr>\n",
       "  </thead>\n",
       "  <tbody>\n",
       "    <tr>\n",
       "      <th>0</th>\n",
       "      <td>Western</td>\n",
       "      <td>5700000.0</td>\n",
       "      <td>96.0</td>\n",
       "      <td>5.70</td>\n",
       "    </tr>\n",
       "    <tr>\n",
       "      <th>1</th>\n",
       "      <td>Animation</td>\n",
       "      <td>85150000.0</td>\n",
       "      <td>137.0</td>\n",
       "      <td>6.24</td>\n",
       "    </tr>\n",
       "    <tr>\n",
       "      <th>2</th>\n",
       "      <td>Comedy</td>\n",
       "      <td>17800000.0</td>\n",
       "      <td>133.0</td>\n",
       "      <td>5.92</td>\n",
       "    </tr>\n",
       "    <tr>\n",
       "      <th>3</th>\n",
       "      <td>Music</td>\n",
       "      <td>3700000.0</td>\n",
       "      <td>67.0</td>\n",
       "      <td>6.88</td>\n",
       "    </tr>\n",
       "    <tr>\n",
       "      <th>4</th>\n",
       "      <td>Crime</td>\n",
       "      <td>11300000.0</td>\n",
       "      <td>227.0</td>\n",
       "      <td>6.06</td>\n",
       "    </tr>\n",
       "    <tr>\n",
       "      <th>5</th>\n",
       "      <td>Sci-Fi</td>\n",
       "      <td>79200000.0</td>\n",
       "      <td>169.0</td>\n",
       "      <td>5.41</td>\n",
       "    </tr>\n",
       "    <tr>\n",
       "      <th>6</th>\n",
       "      <td>Thriller</td>\n",
       "      <td>15900000.0</td>\n",
       "      <td>174.5</td>\n",
       "      <td>5.57</td>\n",
       "    </tr>\n",
       "    <tr>\n",
       "      <th>7</th>\n",
       "      <td>Mystery</td>\n",
       "      <td>15900000.0</td>\n",
       "      <td>165.5</td>\n",
       "      <td>5.84</td>\n",
       "    </tr>\n",
       "    <tr>\n",
       "      <th>8</th>\n",
       "      <td>Drama</td>\n",
       "      <td>4100000.0</td>\n",
       "      <td>108.0</td>\n",
       "      <td>6.35</td>\n",
       "    </tr>\n",
       "    <tr>\n",
       "      <th>9</th>\n",
       "      <td>Romance</td>\n",
       "      <td>3000000.0</td>\n",
       "      <td>163.0</td>\n",
       "      <td>6.10</td>\n",
       "    </tr>\n",
       "    <tr>\n",
       "      <th>10</th>\n",
       "      <td>Action</td>\n",
       "      <td>26150000.0</td>\n",
       "      <td>248.0</td>\n",
       "      <td>5.75</td>\n",
       "    </tr>\n",
       "    <tr>\n",
       "      <th>11</th>\n",
       "      <td>Adult</td>\n",
       "      <td>NaN</td>\n",
       "      <td>78.0</td>\n",
       "      <td>2.70</td>\n",
       "    </tr>\n",
       "    <tr>\n",
       "      <th>12</th>\n",
       "      <td>Horror</td>\n",
       "      <td>21100000.0</td>\n",
       "      <td>105.0</td>\n",
       "      <td>4.93</td>\n",
       "    </tr>\n",
       "    <tr>\n",
       "      <th>13</th>\n",
       "      <td>Musical</td>\n",
       "      <td>2800000.0</td>\n",
       "      <td>68.0</td>\n",
       "      <td>6.46</td>\n",
       "    </tr>\n",
       "    <tr>\n",
       "      <th>14</th>\n",
       "      <td>Fantasy</td>\n",
       "      <td>31200000.0</td>\n",
       "      <td>139.0</td>\n",
       "      <td>5.84</td>\n",
       "    </tr>\n",
       "    <tr>\n",
       "      <th>15</th>\n",
       "      <td>News</td>\n",
       "      <td>13200.0</td>\n",
       "      <td>33.0</td>\n",
       "      <td>7.26</td>\n",
       "    </tr>\n",
       "    <tr>\n",
       "      <th>16</th>\n",
       "      <td>Family</td>\n",
       "      <td>43900000.0</td>\n",
       "      <td>76.0</td>\n",
       "      <td>6.29</td>\n",
       "    </tr>\n",
       "    <tr>\n",
       "      <th>17</th>\n",
       "      <td>Sport</td>\n",
       "      <td>13700000.0</td>\n",
       "      <td>107.0</td>\n",
       "      <td>6.89</td>\n",
       "    </tr>\n",
       "    <tr>\n",
       "      <th>18</th>\n",
       "      <td>Adventure</td>\n",
       "      <td>64900000.0</td>\n",
       "      <td>171.0</td>\n",
       "      <td>6.10</td>\n",
       "    </tr>\n",
       "    <tr>\n",
       "      <th>19</th>\n",
       "      <td>History</td>\n",
       "      <td>4000000.0</td>\n",
       "      <td>68.0</td>\n",
       "      <td>6.98</td>\n",
       "    </tr>\n",
       "    <tr>\n",
       "      <th>20</th>\n",
       "      <td>Reality-TV</td>\n",
       "      <td>NaN</td>\n",
       "      <td>24.0</td>\n",
       "      <td>6.27</td>\n",
       "    </tr>\n",
       "    <tr>\n",
       "      <th>21</th>\n",
       "      <td>Biography</td>\n",
       "      <td>6750000.0</td>\n",
       "      <td>79.0</td>\n",
       "      <td>7.11</td>\n",
       "    </tr>\n",
       "    <tr>\n",
       "      <th>22</th>\n",
       "      <td>War</td>\n",
       "      <td>947500.0</td>\n",
       "      <td>142.0</td>\n",
       "      <td>6.49</td>\n",
       "    </tr>\n",
       "    <tr>\n",
       "      <th>23</th>\n",
       "      <td>Documentary</td>\n",
       "      <td>517000.0</td>\n",
       "      <td>35.0</td>\n",
       "      <td>7.30</td>\n",
       "    </tr>\n",
       "  </tbody>\n",
       "</table>\n",
       "</div>"
      ],
      "text/plain": [
       "         genres  median_domestic_gross  median_numvotes  mean_rating\n",
       "0       Western              5700000.0             96.0         5.70\n",
       "1     Animation             85150000.0            137.0         6.24\n",
       "2        Comedy             17800000.0            133.0         5.92\n",
       "3         Music              3700000.0             67.0         6.88\n",
       "4         Crime             11300000.0            227.0         6.06\n",
       "5        Sci-Fi             79200000.0            169.0         5.41\n",
       "6      Thriller             15900000.0            174.5         5.57\n",
       "7       Mystery             15900000.0            165.5         5.84\n",
       "8         Drama              4100000.0            108.0         6.35\n",
       "9       Romance              3000000.0            163.0         6.10\n",
       "10       Action             26150000.0            248.0         5.75\n",
       "11        Adult                    NaN             78.0         2.70\n",
       "12       Horror             21100000.0            105.0         4.93\n",
       "13      Musical              2800000.0             68.0         6.46\n",
       "14      Fantasy             31200000.0            139.0         5.84\n",
       "15         News                13200.0             33.0         7.26\n",
       "16       Family             43900000.0             76.0         6.29\n",
       "17        Sport             13700000.0            107.0         6.89\n",
       "18    Adventure             64900000.0            171.0         6.10\n",
       "19      History              4000000.0             68.0         6.98\n",
       "20   Reality-TV                    NaN             24.0         6.27\n",
       "21    Biography              6750000.0             79.0         7.11\n",
       "22          War               947500.0            142.0         6.49\n",
       "23  Documentary               517000.0             35.0         7.30"
      ]
     },
     "execution_count": 208,
     "metadata": {},
     "output_type": "execute_result"
    }
   ],
   "source": [
    "new_joined_df"
   ]
  },
  {
   "cell_type": "code",
   "execution_count": 209,
   "metadata": {},
   "outputs": [],
   "source": [
    "new_joined_df = new_joined_df.dropna()"
   ]
  },
  {
   "cell_type": "code",
   "execution_count": 210,
   "metadata": {},
   "outputs": [
    {
     "data": {
      "text/html": [
       "<div>\n",
       "<style scoped>\n",
       "    .dataframe tbody tr th:only-of-type {\n",
       "        vertical-align: middle;\n",
       "    }\n",
       "\n",
       "    .dataframe tbody tr th {\n",
       "        vertical-align: top;\n",
       "    }\n",
       "\n",
       "    .dataframe thead th {\n",
       "        text-align: right;\n",
       "    }\n",
       "</style>\n",
       "<table border=\"1\" class=\"dataframe\">\n",
       "  <thead>\n",
       "    <tr style=\"text-align: right;\">\n",
       "      <th></th>\n",
       "      <th>genres</th>\n",
       "      <th>median_domestic_gross</th>\n",
       "      <th>median_numvotes</th>\n",
       "      <th>mean_rating</th>\n",
       "    </tr>\n",
       "  </thead>\n",
       "  <tbody>\n",
       "    <tr>\n",
       "      <th>0</th>\n",
       "      <td>Western</td>\n",
       "      <td>5700000.0</td>\n",
       "      <td>96.0</td>\n",
       "      <td>5.70</td>\n",
       "    </tr>\n",
       "    <tr>\n",
       "      <th>1</th>\n",
       "      <td>Animation</td>\n",
       "      <td>85150000.0</td>\n",
       "      <td>137.0</td>\n",
       "      <td>6.24</td>\n",
       "    </tr>\n",
       "    <tr>\n",
       "      <th>2</th>\n",
       "      <td>Comedy</td>\n",
       "      <td>17800000.0</td>\n",
       "      <td>133.0</td>\n",
       "      <td>5.92</td>\n",
       "    </tr>\n",
       "    <tr>\n",
       "      <th>3</th>\n",
       "      <td>Music</td>\n",
       "      <td>3700000.0</td>\n",
       "      <td>67.0</td>\n",
       "      <td>6.88</td>\n",
       "    </tr>\n",
       "    <tr>\n",
       "      <th>4</th>\n",
       "      <td>Crime</td>\n",
       "      <td>11300000.0</td>\n",
       "      <td>227.0</td>\n",
       "      <td>6.06</td>\n",
       "    </tr>\n",
       "    <tr>\n",
       "      <th>5</th>\n",
       "      <td>Sci-Fi</td>\n",
       "      <td>79200000.0</td>\n",
       "      <td>169.0</td>\n",
       "      <td>5.41</td>\n",
       "    </tr>\n",
       "    <tr>\n",
       "      <th>6</th>\n",
       "      <td>Thriller</td>\n",
       "      <td>15900000.0</td>\n",
       "      <td>174.5</td>\n",
       "      <td>5.57</td>\n",
       "    </tr>\n",
       "    <tr>\n",
       "      <th>7</th>\n",
       "      <td>Mystery</td>\n",
       "      <td>15900000.0</td>\n",
       "      <td>165.5</td>\n",
       "      <td>5.84</td>\n",
       "    </tr>\n",
       "    <tr>\n",
       "      <th>8</th>\n",
       "      <td>Drama</td>\n",
       "      <td>4100000.0</td>\n",
       "      <td>108.0</td>\n",
       "      <td>6.35</td>\n",
       "    </tr>\n",
       "    <tr>\n",
       "      <th>9</th>\n",
       "      <td>Romance</td>\n",
       "      <td>3000000.0</td>\n",
       "      <td>163.0</td>\n",
       "      <td>6.10</td>\n",
       "    </tr>\n",
       "    <tr>\n",
       "      <th>10</th>\n",
       "      <td>Action</td>\n",
       "      <td>26150000.0</td>\n",
       "      <td>248.0</td>\n",
       "      <td>5.75</td>\n",
       "    </tr>\n",
       "    <tr>\n",
       "      <th>12</th>\n",
       "      <td>Horror</td>\n",
       "      <td>21100000.0</td>\n",
       "      <td>105.0</td>\n",
       "      <td>4.93</td>\n",
       "    </tr>\n",
       "    <tr>\n",
       "      <th>13</th>\n",
       "      <td>Musical</td>\n",
       "      <td>2800000.0</td>\n",
       "      <td>68.0</td>\n",
       "      <td>6.46</td>\n",
       "    </tr>\n",
       "    <tr>\n",
       "      <th>14</th>\n",
       "      <td>Fantasy</td>\n",
       "      <td>31200000.0</td>\n",
       "      <td>139.0</td>\n",
       "      <td>5.84</td>\n",
       "    </tr>\n",
       "    <tr>\n",
       "      <th>15</th>\n",
       "      <td>News</td>\n",
       "      <td>13200.0</td>\n",
       "      <td>33.0</td>\n",
       "      <td>7.26</td>\n",
       "    </tr>\n",
       "    <tr>\n",
       "      <th>16</th>\n",
       "      <td>Family</td>\n",
       "      <td>43900000.0</td>\n",
       "      <td>76.0</td>\n",
       "      <td>6.29</td>\n",
       "    </tr>\n",
       "    <tr>\n",
       "      <th>17</th>\n",
       "      <td>Sport</td>\n",
       "      <td>13700000.0</td>\n",
       "      <td>107.0</td>\n",
       "      <td>6.89</td>\n",
       "    </tr>\n",
       "    <tr>\n",
       "      <th>18</th>\n",
       "      <td>Adventure</td>\n",
       "      <td>64900000.0</td>\n",
       "      <td>171.0</td>\n",
       "      <td>6.10</td>\n",
       "    </tr>\n",
       "    <tr>\n",
       "      <th>19</th>\n",
       "      <td>History</td>\n",
       "      <td>4000000.0</td>\n",
       "      <td>68.0</td>\n",
       "      <td>6.98</td>\n",
       "    </tr>\n",
       "    <tr>\n",
       "      <th>21</th>\n",
       "      <td>Biography</td>\n",
       "      <td>6750000.0</td>\n",
       "      <td>79.0</td>\n",
       "      <td>7.11</td>\n",
       "    </tr>\n",
       "    <tr>\n",
       "      <th>22</th>\n",
       "      <td>War</td>\n",
       "      <td>947500.0</td>\n",
       "      <td>142.0</td>\n",
       "      <td>6.49</td>\n",
       "    </tr>\n",
       "    <tr>\n",
       "      <th>23</th>\n",
       "      <td>Documentary</td>\n",
       "      <td>517000.0</td>\n",
       "      <td>35.0</td>\n",
       "      <td>7.30</td>\n",
       "    </tr>\n",
       "  </tbody>\n",
       "</table>\n",
       "</div>"
      ],
      "text/plain": [
       "         genres  median_domestic_gross  median_numvotes  mean_rating\n",
       "0       Western              5700000.0             96.0         5.70\n",
       "1     Animation             85150000.0            137.0         6.24\n",
       "2        Comedy             17800000.0            133.0         5.92\n",
       "3         Music              3700000.0             67.0         6.88\n",
       "4         Crime             11300000.0            227.0         6.06\n",
       "5        Sci-Fi             79200000.0            169.0         5.41\n",
       "6      Thriller             15900000.0            174.5         5.57\n",
       "7       Mystery             15900000.0            165.5         5.84\n",
       "8         Drama              4100000.0            108.0         6.35\n",
       "9       Romance              3000000.0            163.0         6.10\n",
       "10       Action             26150000.0            248.0         5.75\n",
       "12       Horror             21100000.0            105.0         4.93\n",
       "13      Musical              2800000.0             68.0         6.46\n",
       "14      Fantasy             31200000.0            139.0         5.84\n",
       "15         News                13200.0             33.0         7.26\n",
       "16       Family             43900000.0             76.0         6.29\n",
       "17        Sport             13700000.0            107.0         6.89\n",
       "18    Adventure             64900000.0            171.0         6.10\n",
       "19      History              4000000.0             68.0         6.98\n",
       "21    Biography              6750000.0             79.0         7.11\n",
       "22          War               947500.0            142.0         6.49\n",
       "23  Documentary               517000.0             35.0         7.30"
      ]
     },
     "execution_count": 210,
     "metadata": {},
     "output_type": "execute_result"
    }
   ],
   "source": [
    "new_joined_df"
   ]
  },
  {
   "cell_type": "markdown",
   "metadata": {},
   "source": [
    "### Data Analysis and Visualizations"
   ]
  },
  {
   "cell_type": "markdown",
   "metadata": {},
   "source": [
    "The above dataset displays each genre, the median domestic gross per genre, the median number of votes per genre, and the mean rating per genre."
   ]
  },
  {
   "cell_type": "code",
   "execution_count": 211,
   "metadata": {},
   "outputs": [],
   "source": [
    "gross_df = new_joined_df.sort_values(by='median_domestic_gross', ascending=False)"
   ]
  },
  {
   "cell_type": "markdown",
   "metadata": {},
   "source": [
    "Displays the median gross income of each genre from highest to lowest."
   ]
  },
  {
   "cell_type": "code",
   "execution_count": 212,
   "metadata": {},
   "outputs": [
    {
     "data": {
      "text/html": [
       "<div>\n",
       "<style scoped>\n",
       "    .dataframe tbody tr th:only-of-type {\n",
       "        vertical-align: middle;\n",
       "    }\n",
       "\n",
       "    .dataframe tbody tr th {\n",
       "        vertical-align: top;\n",
       "    }\n",
       "\n",
       "    .dataframe thead th {\n",
       "        text-align: right;\n",
       "    }\n",
       "</style>\n",
       "<table border=\"1\" class=\"dataframe\">\n",
       "  <thead>\n",
       "    <tr style=\"text-align: right;\">\n",
       "      <th></th>\n",
       "      <th>genres</th>\n",
       "      <th>median_domestic_gross</th>\n",
       "      <th>median_numvotes</th>\n",
       "      <th>mean_rating</th>\n",
       "    </tr>\n",
       "  </thead>\n",
       "  <tbody>\n",
       "    <tr>\n",
       "      <th>1</th>\n",
       "      <td>Animation</td>\n",
       "      <td>85150000.0</td>\n",
       "      <td>137.0</td>\n",
       "      <td>6.24</td>\n",
       "    </tr>\n",
       "    <tr>\n",
       "      <th>5</th>\n",
       "      <td>Sci-Fi</td>\n",
       "      <td>79200000.0</td>\n",
       "      <td>169.0</td>\n",
       "      <td>5.41</td>\n",
       "    </tr>\n",
       "    <tr>\n",
       "      <th>18</th>\n",
       "      <td>Adventure</td>\n",
       "      <td>64900000.0</td>\n",
       "      <td>171.0</td>\n",
       "      <td>6.10</td>\n",
       "    </tr>\n",
       "    <tr>\n",
       "      <th>16</th>\n",
       "      <td>Family</td>\n",
       "      <td>43900000.0</td>\n",
       "      <td>76.0</td>\n",
       "      <td>6.29</td>\n",
       "    </tr>\n",
       "    <tr>\n",
       "      <th>14</th>\n",
       "      <td>Fantasy</td>\n",
       "      <td>31200000.0</td>\n",
       "      <td>139.0</td>\n",
       "      <td>5.84</td>\n",
       "    </tr>\n",
       "    <tr>\n",
       "      <th>10</th>\n",
       "      <td>Action</td>\n",
       "      <td>26150000.0</td>\n",
       "      <td>248.0</td>\n",
       "      <td>5.75</td>\n",
       "    </tr>\n",
       "    <tr>\n",
       "      <th>12</th>\n",
       "      <td>Horror</td>\n",
       "      <td>21100000.0</td>\n",
       "      <td>105.0</td>\n",
       "      <td>4.93</td>\n",
       "    </tr>\n",
       "    <tr>\n",
       "      <th>2</th>\n",
       "      <td>Comedy</td>\n",
       "      <td>17800000.0</td>\n",
       "      <td>133.0</td>\n",
       "      <td>5.92</td>\n",
       "    </tr>\n",
       "    <tr>\n",
       "      <th>6</th>\n",
       "      <td>Thriller</td>\n",
       "      <td>15900000.0</td>\n",
       "      <td>174.5</td>\n",
       "      <td>5.57</td>\n",
       "    </tr>\n",
       "    <tr>\n",
       "      <th>7</th>\n",
       "      <td>Mystery</td>\n",
       "      <td>15900000.0</td>\n",
       "      <td>165.5</td>\n",
       "      <td>5.84</td>\n",
       "    </tr>\n",
       "    <tr>\n",
       "      <th>17</th>\n",
       "      <td>Sport</td>\n",
       "      <td>13700000.0</td>\n",
       "      <td>107.0</td>\n",
       "      <td>6.89</td>\n",
       "    </tr>\n",
       "    <tr>\n",
       "      <th>4</th>\n",
       "      <td>Crime</td>\n",
       "      <td>11300000.0</td>\n",
       "      <td>227.0</td>\n",
       "      <td>6.06</td>\n",
       "    </tr>\n",
       "    <tr>\n",
       "      <th>21</th>\n",
       "      <td>Biography</td>\n",
       "      <td>6750000.0</td>\n",
       "      <td>79.0</td>\n",
       "      <td>7.11</td>\n",
       "    </tr>\n",
       "    <tr>\n",
       "      <th>0</th>\n",
       "      <td>Western</td>\n",
       "      <td>5700000.0</td>\n",
       "      <td>96.0</td>\n",
       "      <td>5.70</td>\n",
       "    </tr>\n",
       "    <tr>\n",
       "      <th>8</th>\n",
       "      <td>Drama</td>\n",
       "      <td>4100000.0</td>\n",
       "      <td>108.0</td>\n",
       "      <td>6.35</td>\n",
       "    </tr>\n",
       "    <tr>\n",
       "      <th>19</th>\n",
       "      <td>History</td>\n",
       "      <td>4000000.0</td>\n",
       "      <td>68.0</td>\n",
       "      <td>6.98</td>\n",
       "    </tr>\n",
       "    <tr>\n",
       "      <th>3</th>\n",
       "      <td>Music</td>\n",
       "      <td>3700000.0</td>\n",
       "      <td>67.0</td>\n",
       "      <td>6.88</td>\n",
       "    </tr>\n",
       "    <tr>\n",
       "      <th>9</th>\n",
       "      <td>Romance</td>\n",
       "      <td>3000000.0</td>\n",
       "      <td>163.0</td>\n",
       "      <td>6.10</td>\n",
       "    </tr>\n",
       "    <tr>\n",
       "      <th>13</th>\n",
       "      <td>Musical</td>\n",
       "      <td>2800000.0</td>\n",
       "      <td>68.0</td>\n",
       "      <td>6.46</td>\n",
       "    </tr>\n",
       "    <tr>\n",
       "      <th>22</th>\n",
       "      <td>War</td>\n",
       "      <td>947500.0</td>\n",
       "      <td>142.0</td>\n",
       "      <td>6.49</td>\n",
       "    </tr>\n",
       "    <tr>\n",
       "      <th>23</th>\n",
       "      <td>Documentary</td>\n",
       "      <td>517000.0</td>\n",
       "      <td>35.0</td>\n",
       "      <td>7.30</td>\n",
       "    </tr>\n",
       "    <tr>\n",
       "      <th>15</th>\n",
       "      <td>News</td>\n",
       "      <td>13200.0</td>\n",
       "      <td>33.0</td>\n",
       "      <td>7.26</td>\n",
       "    </tr>\n",
       "  </tbody>\n",
       "</table>\n",
       "</div>"
      ],
      "text/plain": [
       "         genres  median_domestic_gross  median_numvotes  mean_rating\n",
       "1     Animation             85150000.0            137.0         6.24\n",
       "5        Sci-Fi             79200000.0            169.0         5.41\n",
       "18    Adventure             64900000.0            171.0         6.10\n",
       "16       Family             43900000.0             76.0         6.29\n",
       "14      Fantasy             31200000.0            139.0         5.84\n",
       "10       Action             26150000.0            248.0         5.75\n",
       "12       Horror             21100000.0            105.0         4.93\n",
       "2        Comedy             17800000.0            133.0         5.92\n",
       "6      Thriller             15900000.0            174.5         5.57\n",
       "7       Mystery             15900000.0            165.5         5.84\n",
       "17        Sport             13700000.0            107.0         6.89\n",
       "4         Crime             11300000.0            227.0         6.06\n",
       "21    Biography              6750000.0             79.0         7.11\n",
       "0       Western              5700000.0             96.0         5.70\n",
       "8         Drama              4100000.0            108.0         6.35\n",
       "19      History              4000000.0             68.0         6.98\n",
       "3         Music              3700000.0             67.0         6.88\n",
       "9       Romance              3000000.0            163.0         6.10\n",
       "13      Musical              2800000.0             68.0         6.46\n",
       "22          War               947500.0            142.0         6.49\n",
       "23  Documentary               517000.0             35.0         7.30\n",
       "15         News                13200.0             33.0         7.26"
      ]
     },
     "execution_count": 212,
     "metadata": {},
     "output_type": "execute_result"
    }
   ],
   "source": [
    "gross_df"
   ]
  },
  {
   "cell_type": "code",
   "execution_count": 213,
   "metadata": {},
   "outputs": [
    {
     "data": {
      "text/plain": [
       "Text(0.5, 1.0, 'Median Domestic Gross by Genre')"
      ]
     },
     "execution_count": 213,
     "metadata": {},
     "output_type": "execute_result"
    },
    {
     "data": {
      "image/png": "[encoded data removed]",
      "text/plain": [
       "<Figure size 1080x576 with 1 Axes>"
      ]
     },
     "metadata": {
      "needs_background": "light"
     },
     "output_type": "display_data"
    }
   ],
   "source": [
    "plt.figure(figsize=(15,8))\n",
    "# bar plot with matplotlib\n",
    "plt.bar('genres', 'median_domestic_gross',data=gross_df)\n",
    "plt.xlabel(\"Genres\", size=15)\n",
    "plt.xticks(rotation=90)\n",
    "plt.ylabel(\"Gross (USD)\", size=15)\n",
    "plt.title(\"Median Domestic Gross by Genre\", size=18)"
   ]
  },
  {
   "cell_type": "markdown",
   "metadata": {},
   "source": [
    "The three highest grossing genres are Animation, Sci-Fi, and Adventure. The three lowest grossing genres are War, Documentary, and News."
   ]
  },
  {
   "cell_type": "code",
   "execution_count": 214,
   "metadata": {},
   "outputs": [],
   "source": [
    "pop_df = new_joined_df.sort_values(by='median_numvotes', ascending=False)"
   ]
  },
  {
   "cell_type": "markdown",
   "metadata": {},
   "source": [
    "Displays the median amount of votes per genre, and indicator of popularity."
   ]
  },
  {
   "cell_type": "code",
   "execution_count": 215,
   "metadata": {},
   "outputs": [
    {
     "data": {
      "text/html": [
       "<div>\n",
       "<style scoped>\n",
       "    .dataframe tbody tr th:only-of-type {\n",
       "        vertical-align: middle;\n",
       "    }\n",
       "\n",
       "    .dataframe tbody tr th {\n",
       "        vertical-align: top;\n",
       "    }\n",
       "\n",
       "    .dataframe thead th {\n",
       "        text-align: right;\n",
       "    }\n",
       "</style>\n",
       "<table border=\"1\" class=\"dataframe\">\n",
       "  <thead>\n",
       "    <tr style=\"text-align: right;\">\n",
       "      <th></th>\n",
       "      <th>genres</th>\n",
       "      <th>median_domestic_gross</th>\n",
       "      <th>median_numvotes</th>\n",
       "      <th>mean_rating</th>\n",
       "    </tr>\n",
       "  </thead>\n",
       "  <tbody>\n",
       "    <tr>\n",
       "      <th>10</th>\n",
       "      <td>Action</td>\n",
       "      <td>26150000.0</td>\n",
       "      <td>248.0</td>\n",
       "      <td>5.75</td>\n",
       "    </tr>\n",
       "    <tr>\n",
       "      <th>4</th>\n",
       "      <td>Crime</td>\n",
       "      <td>11300000.0</td>\n",
       "      <td>227.0</td>\n",
       "      <td>6.06</td>\n",
       "    </tr>\n",
       "    <tr>\n",
       "      <th>6</th>\n",
       "      <td>Thriller</td>\n",
       "      <td>15900000.0</td>\n",
       "      <td>174.5</td>\n",
       "      <td>5.57</td>\n",
       "    </tr>\n",
       "    <tr>\n",
       "      <th>18</th>\n",
       "      <td>Adventure</td>\n",
       "      <td>64900000.0</td>\n",
       "      <td>171.0</td>\n",
       "      <td>6.10</td>\n",
       "    </tr>\n",
       "    <tr>\n",
       "      <th>5</th>\n",
       "      <td>Sci-Fi</td>\n",
       "      <td>79200000.0</td>\n",
       "      <td>169.0</td>\n",
       "      <td>5.41</td>\n",
       "    </tr>\n",
       "    <tr>\n",
       "      <th>7</th>\n",
       "      <td>Mystery</td>\n",
       "      <td>15900000.0</td>\n",
       "      <td>165.5</td>\n",
       "      <td>5.84</td>\n",
       "    </tr>\n",
       "    <tr>\n",
       "      <th>9</th>\n",
       "      <td>Romance</td>\n",
       "      <td>3000000.0</td>\n",
       "      <td>163.0</td>\n",
       "      <td>6.10</td>\n",
       "    </tr>\n",
       "    <tr>\n",
       "      <th>22</th>\n",
       "      <td>War</td>\n",
       "      <td>947500.0</td>\n",
       "      <td>142.0</td>\n",
       "      <td>6.49</td>\n",
       "    </tr>\n",
       "    <tr>\n",
       "      <th>14</th>\n",
       "      <td>Fantasy</td>\n",
       "      <td>31200000.0</td>\n",
       "      <td>139.0</td>\n",
       "      <td>5.84</td>\n",
       "    </tr>\n",
       "    <tr>\n",
       "      <th>1</th>\n",
       "      <td>Animation</td>\n",
       "      <td>85150000.0</td>\n",
       "      <td>137.0</td>\n",
       "      <td>6.24</td>\n",
       "    </tr>\n",
       "    <tr>\n",
       "      <th>2</th>\n",
       "      <td>Comedy</td>\n",
       "      <td>17800000.0</td>\n",
       "      <td>133.0</td>\n",
       "      <td>5.92</td>\n",
       "    </tr>\n",
       "    <tr>\n",
       "      <th>8</th>\n",
       "      <td>Drama</td>\n",
       "      <td>4100000.0</td>\n",
       "      <td>108.0</td>\n",
       "      <td>6.35</td>\n",
       "    </tr>\n",
       "    <tr>\n",
       "      <th>17</th>\n",
       "      <td>Sport</td>\n",
       "      <td>13700000.0</td>\n",
       "      <td>107.0</td>\n",
       "      <td>6.89</td>\n",
       "    </tr>\n",
       "    <tr>\n",
       "      <th>12</th>\n",
       "      <td>Horror</td>\n",
       "      <td>21100000.0</td>\n",
       "      <td>105.0</td>\n",
       "      <td>4.93</td>\n",
       "    </tr>\n",
       "    <tr>\n",
       "      <th>0</th>\n",
       "      <td>Western</td>\n",
       "      <td>5700000.0</td>\n",
       "      <td>96.0</td>\n",
       "      <td>5.70</td>\n",
       "    </tr>\n",
       "    <tr>\n",
       "      <th>21</th>\n",
       "      <td>Biography</td>\n",
       "      <td>6750000.0</td>\n",
       "      <td>79.0</td>\n",
       "      <td>7.11</td>\n",
       "    </tr>\n",
       "    <tr>\n",
       "      <th>16</th>\n",
       "      <td>Family</td>\n",
       "      <td>43900000.0</td>\n",
       "      <td>76.0</td>\n",
       "      <td>6.29</td>\n",
       "    </tr>\n",
       "    <tr>\n",
       "      <th>13</th>\n",
       "      <td>Musical</td>\n",
       "      <td>2800000.0</td>\n",
       "      <td>68.0</td>\n",
       "      <td>6.46</td>\n",
       "    </tr>\n",
       "    <tr>\n",
       "      <th>19</th>\n",
       "      <td>History</td>\n",
       "      <td>4000000.0</td>\n",
       "      <td>68.0</td>\n",
       "      <td>6.98</td>\n",
       "    </tr>\n",
       "    <tr>\n",
       "      <th>3</th>\n",
       "      <td>Music</td>\n",
       "      <td>3700000.0</td>\n",
       "      <td>67.0</td>\n",
       "      <td>6.88</td>\n",
       "    </tr>\n",
       "    <tr>\n",
       "      <th>23</th>\n",
       "      <td>Documentary</td>\n",
       "      <td>517000.0</td>\n",
       "      <td>35.0</td>\n",
       "      <td>7.30</td>\n",
       "    </tr>\n",
       "    <tr>\n",
       "      <th>15</th>\n",
       "      <td>News</td>\n",
       "      <td>13200.0</td>\n",
       "      <td>33.0</td>\n",
       "      <td>7.26</td>\n",
       "    </tr>\n",
       "  </tbody>\n",
       "</table>\n",
       "</div>"
      ],
      "text/plain": [
       "         genres  median_domestic_gross  median_numvotes  mean_rating\n",
       "10       Action             26150000.0            248.0         5.75\n",
       "4         Crime             11300000.0            227.0         6.06\n",
       "6      Thriller             15900000.0            174.5         5.57\n",
       "18    Adventure             64900000.0            171.0         6.10\n",
       "5        Sci-Fi             79200000.0            169.0         5.41\n",
       "7       Mystery             15900000.0            165.5         5.84\n",
       "9       Romance              3000000.0            163.0         6.10\n",
       "22          War               947500.0            142.0         6.49\n",
       "14      Fantasy             31200000.0            139.0         5.84\n",
       "1     Animation             85150000.0            137.0         6.24\n",
       "2        Comedy             17800000.0            133.0         5.92\n",
       "8         Drama              4100000.0            108.0         6.35\n",
       "17        Sport             13700000.0            107.0         6.89\n",
       "12       Horror             21100000.0            105.0         4.93\n",
       "0       Western              5700000.0             96.0         5.70\n",
       "21    Biography              6750000.0             79.0         7.11\n",
       "16       Family             43900000.0             76.0         6.29\n",
       "13      Musical              2800000.0             68.0         6.46\n",
       "19      History              4000000.0             68.0         6.98\n",
       "3         Music              3700000.0             67.0         6.88\n",
       "23  Documentary               517000.0             35.0         7.30\n",
       "15         News                13200.0             33.0         7.26"
      ]
     },
     "execution_count": 215,
     "metadata": {},
     "output_type": "execute_result"
    }
   ],
   "source": [
    "pop_df"
   ]
  },
  {
   "cell_type": "code",
   "execution_count": 216,
   "metadata": {},
   "outputs": [
    {
     "data": {
      "text/plain": [
       "Text(0.5, 1.0, 'Median Number of Votes per Movie by Genre')"
      ]
     },
     "execution_count": 216,
     "metadata": {},
     "output_type": "execute_result"
    },
    {
     "data": {
      "image/png": "[encoded data removed]",
      "text/plain": [
       "<Figure size 1080x576 with 1 Axes>"
      ]
     },
     "metadata": {
      "needs_background": "light"
     },
     "output_type": "display_data"
    }
   ],
   "source": [
    "plt.figure(figsize=(15,8))\n",
    "# bar plot with matplotlib\n",
    "plt.bar('genres', 'median_numvotes',data=pop_df)\n",
    "plt.xlabel(\"Genres\", size=15)\n",
    "plt.xticks(rotation=90)\n",
    "plt.ylabel(\"Median Number of Votes\", size=15)\n",
    "plt.title(\"Median Number of Votes per Movie by Genre\", size=18)"
   ]
  },
  {
   "cell_type": "markdown",
   "metadata": {},
   "source": [
    "The three genres that received the highest amount of votes are Action, Crime, and Thriller. The Three genres that received the least amount of votes are Music, Documentary, and News."
   ]
  },
  {
   "cell_type": "code",
   "execution_count": 217,
   "metadata": {},
   "outputs": [],
   "source": [
    "rate_df = new_joined_df.sort_values(by='mean_rating', ascending=False)"
   ]
  },
  {
   "cell_type": "markdown",
   "metadata": {},
   "source": [
    "Displays the average rating of a movie in a particular genre, from highest to lowest."
   ]
  },
  {
   "cell_type": "code",
   "execution_count": 218,
   "metadata": {},
   "outputs": [
    {
     "data": {
      "text/html": [
       "<div>\n",
       "<style scoped>\n",
       "    .dataframe tbody tr th:only-of-type {\n",
       "        vertical-align: middle;\n",
       "    }\n",
       "\n",
       "    .dataframe tbody tr th {\n",
       "        vertical-align: top;\n",
       "    }\n",
       "\n",
       "    .dataframe thead th {\n",
       "        text-align: right;\n",
       "    }\n",
       "</style>\n",
       "<table border=\"1\" class=\"dataframe\">\n",
       "  <thead>\n",
       "    <tr style=\"text-align: right;\">\n",
       "      <th></th>\n",
       "      <th>genres</th>\n",
       "      <th>median_domestic_gross</th>\n",
       "      <th>median_numvotes</th>\n",
       "      <th>mean_rating</th>\n",
       "    </tr>\n",
       "  </thead>\n",
       "  <tbody>\n",
       "    <tr>\n",
       "      <th>23</th>\n",
       "      <td>Documentary</td>\n",
       "      <td>517000.0</td>\n",
       "      <td>35.0</td>\n",
       "      <td>7.30</td>\n",
       "    </tr>\n",
       "    <tr>\n",
       "      <th>15</th>\n",
       "      <td>News</td>\n",
       "      <td>13200.0</td>\n",
       "      <td>33.0</td>\n",
       "      <td>7.26</td>\n",
       "    </tr>\n",
       "    <tr>\n",
       "      <th>21</th>\n",
       "      <td>Biography</td>\n",
       "      <td>6750000.0</td>\n",
       "      <td>79.0</td>\n",
       "      <td>7.11</td>\n",
       "    </tr>\n",
       "    <tr>\n",
       "      <th>19</th>\n",
       "      <td>History</td>\n",
       "      <td>4000000.0</td>\n",
       "      <td>68.0</td>\n",
       "      <td>6.98</td>\n",
       "    </tr>\n",
       "    <tr>\n",
       "      <th>17</th>\n",
       "      <td>Sport</td>\n",
       "      <td>13700000.0</td>\n",
       "      <td>107.0</td>\n",
       "      <td>6.89</td>\n",
       "    </tr>\n",
       "    <tr>\n",
       "      <th>3</th>\n",
       "      <td>Music</td>\n",
       "      <td>3700000.0</td>\n",
       "      <td>67.0</td>\n",
       "      <td>6.88</td>\n",
       "    </tr>\n",
       "    <tr>\n",
       "      <th>22</th>\n",
       "      <td>War</td>\n",
       "      <td>947500.0</td>\n",
       "      <td>142.0</td>\n",
       "      <td>6.49</td>\n",
       "    </tr>\n",
       "    <tr>\n",
       "      <th>13</th>\n",
       "      <td>Musical</td>\n",
       "      <td>2800000.0</td>\n",
       "      <td>68.0</td>\n",
       "      <td>6.46</td>\n",
       "    </tr>\n",
       "    <tr>\n",
       "      <th>8</th>\n",
       "      <td>Drama</td>\n",
       "      <td>4100000.0</td>\n",
       "      <td>108.0</td>\n",
       "      <td>6.35</td>\n",
       "    </tr>\n",
       "    <tr>\n",
       "      <th>16</th>\n",
       "      <td>Family</td>\n",
       "      <td>43900000.0</td>\n",
       "      <td>76.0</td>\n",
       "      <td>6.29</td>\n",
       "    </tr>\n",
       "    <tr>\n",
       "      <th>1</th>\n",
       "      <td>Animation</td>\n",
       "      <td>85150000.0</td>\n",
       "      <td>137.0</td>\n",
       "      <td>6.24</td>\n",
       "    </tr>\n",
       "    <tr>\n",
       "      <th>9</th>\n",
       "      <td>Romance</td>\n",
       "      <td>3000000.0</td>\n",
       "      <td>163.0</td>\n",
       "      <td>6.10</td>\n",
       "    </tr>\n",
       "    <tr>\n",
       "      <th>18</th>\n",
       "      <td>Adventure</td>\n",
       "      <td>64900000.0</td>\n",
       "      <td>171.0</td>\n",
       "      <td>6.10</td>\n",
       "    </tr>\n",
       "    <tr>\n",
       "      <th>4</th>\n",
       "      <td>Crime</td>\n",
       "      <td>11300000.0</td>\n",
       "      <td>227.0</td>\n",
       "      <td>6.06</td>\n",
       "    </tr>\n",
       "    <tr>\n",
       "      <th>2</th>\n",
       "      <td>Comedy</td>\n",
       "      <td>17800000.0</td>\n",
       "      <td>133.0</td>\n",
       "      <td>5.92</td>\n",
       "    </tr>\n",
       "    <tr>\n",
       "      <th>14</th>\n",
       "      <td>Fantasy</td>\n",
       "      <td>31200000.0</td>\n",
       "      <td>139.0</td>\n",
       "      <td>5.84</td>\n",
       "    </tr>\n",
       "    <tr>\n",
       "      <th>7</th>\n",
       "      <td>Mystery</td>\n",
       "      <td>15900000.0</td>\n",
       "      <td>165.5</td>\n",
       "      <td>5.84</td>\n",
       "    </tr>\n",
       "    <tr>\n",
       "      <th>10</th>\n",
       "      <td>Action</td>\n",
       "      <td>26150000.0</td>\n",
       "      <td>248.0</td>\n",
       "      <td>5.75</td>\n",
       "    </tr>\n",
       "    <tr>\n",
       "      <th>0</th>\n",
       "      <td>Western</td>\n",
       "      <td>5700000.0</td>\n",
       "      <td>96.0</td>\n",
       "      <td>5.70</td>\n",
       "    </tr>\n",
       "    <tr>\n",
       "      <th>6</th>\n",
       "      <td>Thriller</td>\n",
       "      <td>15900000.0</td>\n",
       "      <td>174.5</td>\n",
       "      <td>5.57</td>\n",
       "    </tr>\n",
       "    <tr>\n",
       "      <th>5</th>\n",
       "      <td>Sci-Fi</td>\n",
       "      <td>79200000.0</td>\n",
       "      <td>169.0</td>\n",
       "      <td>5.41</td>\n",
       "    </tr>\n",
       "    <tr>\n",
       "      <th>12</th>\n",
       "      <td>Horror</td>\n",
       "      <td>21100000.0</td>\n",
       "      <td>105.0</td>\n",
       "      <td>4.93</td>\n",
       "    </tr>\n",
       "  </tbody>\n",
       "</table>\n",
       "</div>"
      ],
      "text/plain": [
       "         genres  median_domestic_gross  median_numvotes  mean_rating\n",
       "23  Documentary               517000.0             35.0         7.30\n",
       "15         News                13200.0             33.0         7.26\n",
       "21    Biography              6750000.0             79.0         7.11\n",
       "19      History              4000000.0             68.0         6.98\n",
       "17        Sport             13700000.0            107.0         6.89\n",
       "3         Music              3700000.0             67.0         6.88\n",
       "22          War               947500.0            142.0         6.49\n",
       "13      Musical              2800000.0             68.0         6.46\n",
       "8         Drama              4100000.0            108.0         6.35\n",
       "16       Family             43900000.0             76.0         6.29\n",
       "1     Animation             85150000.0            137.0         6.24\n",
       "9       Romance              3000000.0            163.0         6.10\n",
       "18    Adventure             64900000.0            171.0         6.10\n",
       "4         Crime             11300000.0            227.0         6.06\n",
       "2        Comedy             17800000.0            133.0         5.92\n",
       "14      Fantasy             31200000.0            139.0         5.84\n",
       "7       Mystery             15900000.0            165.5         5.84\n",
       "10       Action             26150000.0            248.0         5.75\n",
       "0       Western              5700000.0             96.0         5.70\n",
       "6      Thriller             15900000.0            174.5         5.57\n",
       "5        Sci-Fi             79200000.0            169.0         5.41\n",
       "12       Horror             21100000.0            105.0         4.93"
      ]
     },
     "execution_count": 218,
     "metadata": {},
     "output_type": "execute_result"
    }
   ],
   "source": [
    "rate_df"
   ]
  },
  {
   "cell_type": "code",
   "execution_count": 219,
   "metadata": {},
   "outputs": [
    {
     "data": {
      "text/plain": [
       "Text(0.5, 1.0, 'Average Rating by Genre')"
      ]
     },
     "execution_count": 219,
     "metadata": {},
     "output_type": "execute_result"
    },
    {
     "data": {
      "image/png": "[encoded data removed]",
      "text/plain": [
       "<Figure size 1080x576 with 1 Axes>"
      ]
     },
     "metadata": {
      "needs_background": "light"
     },
     "output_type": "display_data"
    }
   ],
   "source": [
    "plt.figure(figsize=(15,8))\n",
    "# bar plot with matplotlib\n",
    "plt.bar('genres', 'mean_rating',data=rate_df)\n",
    "plt.xlabel(\"Genres\", size=15)\n",
    "plt.xticks(rotation=90)\n",
    "plt.ylabel(\"Average Rating (out of 10)\", size=15)\n",
    "plt.title(\"Average Rating by Genre\", size=18)"
   ]
  },
  {
   "cell_type": "markdown",
   "metadata": {},
   "source": [
    "The three highest rated genres are Documentary, News, and Biography, whereas the three lowest genres are Thriller, Sci-Fi, and Horror."
   ]
  },
  {
   "cell_type": "code",
   "execution_count": 220,
   "metadata": {},
   "outputs": [],
   "source": [
    "plt.style.use('ggplot')"
   ]
  },
  {
   "cell_type": "code",
   "execution_count": 221,
   "metadata": {},
   "outputs": [],
   "source": [
    "vote_sort_df = new_joined_df.sort_values(by='median_numvotes', ascending=False)"
   ]
  },
  {
   "cell_type": "code",
   "execution_count": 223,
   "metadata": {},
   "outputs": [
    {
     "data": {
      "application/vnd.plotly.v1+json": {
       "config": {
        "plotlyServerURL": "https://plot.ly"
       },
       "data": [
        {
         "hoverlabel": {
          "namelength": 0
         },
         "hovertemplate": "Mean Rating (out of 10)=%{x}<br>Median Number of Votes per Movie=%{y}<br>Genre=%{text}<br>Domestic Gross (USD)=%{marker.color}",
         "legendgroup": "",
         "marker": {
          "color": [
           5700000,
           85150000,
           17800000,
           3700000,
           11300000,
           79200000,
           15900000,
           15900000,
           4100000,
           3000000,
           26150000,
           21100000,
           2800000,
           31200000,
           13200,
           43900000,
           13700000,
           64900000,
           4000000,
           6750000,
           947500,
           517000
          ],
          "coloraxis": "coloraxis",
          "symbol": "circle"
         },
         "mode": "markers+text",
         "name": "",
         "showlegend": false,
         "text": [
          "Western",
          "Animation",
          "Comedy",
          "Music",
          "Crime",
          "Sci-Fi",
          "Thriller",
          "Mystery",
          "Drama",
          "Romance",
          "Action",
          "Horror",
          "Musical",
          "Fantasy",
          "News",
          "Family",
          "Sport",
          "Adventure",
          "History",
          "Biography",
          "War",
          "Documentary"
         ],
         "type": "scatter",
         "x": [
          5.7,
          6.24,
          5.92,
          6.88,
          6.06,
          5.41,
          5.57,
          5.84,
          6.35,
          6.1,
          5.75,
          4.93,
          6.46,
          5.84,
          7.26,
          6.29,
          6.89,
          6.1,
          6.98,
          7.11,
          6.49,
          7.3
         ],
         "xaxis": "x",
         "y": [
          96,
          137,
          133,
          67,
          227,
          169,
          174.5,
          165.5,
          108,
          163,
          248,
          105,
          68,
          139,
          33,
          76,
          107,
          171,
          68,
          79,
          142,
          35
         ],
         "yaxis": "y"
        }
       ],
       "layout": {
        "coloraxis": {
         "colorbar": {
          "title": {
           "text": "Domestic Gross (USD)"
          }
         },
         "colorscale": [
          [
           0,
           "#0d0887"
          ],
          [
           0.1111111111111111,
           "#46039f"
          ],
          [
           0.2222222222222222,
           "#7201a8"
          ],
          [
           0.3333333333333333,
           "#9c179e"
          ],
          [
           0.4444444444444444,
           "#bd3786"
          ],
          [
           0.5555555555555556,
           "#d8576b"
          ],
          [
           0.6666666666666666,
           "#ed7953"
          ],
          [
           0.7777777777777778,
           "#fb9f3a"
          ],
          [
           0.8888888888888888,
           "#fdca26"
          ],
          [
           1,
           "#f0f921"
          ]
         ]
        },
        "height": 600,
        "legend": {
         "tracegroupgap": 0
        },
        "margin": {
         "b": 30,
         "l": 30,
         "r": 30,
         "t": 30
        },
        "paper_bgcolor": "LightSteelBlue",
        "template": {
         "data": {
          "bar": [
           {
            "error_x": {
             "color": "#2a3f5f"
            },
            "error_y": {
             "color": "#2a3f5f"
            },
            "marker": {
             "line": {
              "color": "#E5ECF6",
              "width": 0.5
             }
            },
            "type": "bar"
           }
          ],
          "barpolar": [
           {
            "marker": {
             "line": {
              "color": "#E5ECF6",
              "width": 0.5
             }
            },
            "type": "barpolar"
           }
          ],
          "carpet": [
           {
            "aaxis": {
             "endlinecolor": "#2a3f5f",
             "gridcolor": "white",
             "linecolor": "white",
             "minorgridcolor": "white",
             "startlinecolor": "#2a3f5f"
            },
            "baxis": {
             "endlinecolor": "#2a3f5f",
             "gridcolor": "white",
             "linecolor": "white",
             "minorgridcolor": "white",
             "startlinecolor": "#2a3f5f"
            },
            "type": "carpet"
           }
          ],
          "choropleth": [
           {
            "colorbar": {
             "outlinewidth": 0,
             "ticks": ""
            },
            "type": "choropleth"
           }
          ],
          "contour": [
           {
            "colorbar": {
             "outlinewidth": 0,
             "ticks": ""
            },
            "colorscale": [
             [
              0,
              "#0d0887"
             ],
             [
              0.1111111111111111,
              "#46039f"
             ],
             [
              0.2222222222222222,
              "#7201a8"
             ],
             [
              0.3333333333333333,
              "#9c179e"
             ],
             [
              0.4444444444444444,
              "#bd3786"
             ],
             [
              0.5555555555555556,
              "#d8576b"
             ],
             [
              0.6666666666666666,
              "#ed7953"
             ],
             [
              0.7777777777777778,
              "#fb9f3a"
             ],
             [
              0.8888888888888888,
              "#fdca26"
             ],
             [
              1,
              "#f0f921"
             ]
            ],
            "type": "contour"
           }
          ],
          "contourcarpet": [
           {
            "colorbar": {
             "outlinewidth": 0,
             "ticks": ""
            },
            "type": "contourcarpet"
           }
          ],
          "heatmap": [
           {
            "colorbar": {
             "outlinewidth": 0,
             "ticks": ""
            },
            "colorscale": [
             [
              0,
              "#0d0887"
             ],
             [
              0.1111111111111111,
              "#46039f"
             ],
             [
              0.2222222222222222,
              "#7201a8"
             ],
             [
              0.3333333333333333,
              "#9c179e"
             ],
             [
              0.4444444444444444,
              "#bd3786"
             ],
             [
              0.5555555555555556,
              "#d8576b"
             ],
             [
              0.6666666666666666,
              "#ed7953"
             ],
             [
              0.7777777777777778,
              "#fb9f3a"
             ],
             [
              0.8888888888888888,
              "#fdca26"
             ],
             [
              1,
              "#f0f921"
             ]
            ],
            "type": "heatmap"
           }
          ],
          "heatmapgl": [
           {
            "colorbar": {
             "outlinewidth": 0,
             "ticks": ""
            },
            "colorscale": [
             [
              0,
              "#0d0887"
             ],
             [
              0.1111111111111111,
              "#46039f"
             ],
             [
              0.2222222222222222,
              "#7201a8"
             ],
             [
              0.3333333333333333,
              "#9c179e"
             ],
             [
              0.4444444444444444,
              "#bd3786"
             ],
             [
              0.5555555555555556,
              "#d8576b"
             ],
             [
              0.6666666666666666,
              "#ed7953"
             ],
             [
              0.7777777777777778,
              "#fb9f3a"
             ],
             [
              0.8888888888888888,
              "#fdca26"
             ],
             [
              1,
              "#f0f921"
             ]
            ],
            "type": "heatmapgl"
           }
          ],
          "histogram": [
           {
            "marker": {
             "colorbar": {
              "outlinewidth": 0,
              "ticks": ""
             }
            },
            "type": "histogram"
           }
          ],
          "histogram2d": [
           {
            "colorbar": {
             "outlinewidth": 0,
             "ticks": ""
            },
            "colorscale": [
             [
              0,
              "#0d0887"
             ],
             [
              0.1111111111111111,
              "#46039f"
             ],
             [
              0.2222222222222222,
              "#7201a8"
             ],
             [
              0.3333333333333333,
              "#9c179e"
             ],
             [
              0.4444444444444444,
              "#bd3786"
             ],
             [
              0.5555555555555556,
              "#d8576b"
             ],
             [
              0.6666666666666666,
              "#ed7953"
             ],
             [
              0.7777777777777778,
              "#fb9f3a"
             ],
             [
              0.8888888888888888,
              "#fdca26"
             ],
             [
              1,
              "#f0f921"
             ]
            ],
            "type": "histogram2d"
           }
          ],
          "histogram2dcontour": [
           {
            "colorbar": {
             "outlinewidth": 0,
             "ticks": ""
            },
            "colorscale": [
             [
              0,
              "#0d0887"
             ],
             [
              0.1111111111111111,
              "#46039f"
             ],
             [
              0.2222222222222222,
              "#7201a8"
             ],
             [
              0.3333333333333333,
              "#9c179e"
             ],
             [
              0.4444444444444444,
              "#bd3786"
             ],
             [
              0.5555555555555556,
              "#d8576b"
             ],
             [
              0.6666666666666666,
              "#ed7953"
             ],
             [
              0.7777777777777778,
              "#fb9f3a"
             ],
             [
              0.8888888888888888,
              "#fdca26"
             ],
             [
              1,
              "#f0f921"
             ]
            ],
            "type": "histogram2dcontour"
           }
          ],
          "mesh3d": [
           {
            "colorbar": {
             "outlinewidth": 0,
             "ticks": ""
            },
            "type": "mesh3d"
           }
          ],
          "parcoords": [
           {
            "line": {
             "colorbar": {
              "outlinewidth": 0,
              "ticks": ""
             }
            },
            "type": "parcoords"
           }
          ],
          "scatter": [
           {
            "marker": {
             "colorbar": {
              "outlinewidth": 0,
              "ticks": ""
             }
            },
            "type": "scatter"
           }
          ],
          "scatter3d": [
           {
            "line": {
             "colorbar": {
              "outlinewidth": 0,
              "ticks": ""
             }
            },
            "marker": {
             "colorbar": {
              "outlinewidth": 0,
              "ticks": ""
             }
            },
            "type": "scatter3d"
           }
          ],
          "scattercarpet": [
           {
            "marker": {
             "colorbar": {
              "outlinewidth": 0,
              "ticks": ""
             }
            },
            "type": "scattercarpet"
           }
          ],
          "scattergeo": [
           {
            "marker": {
             "colorbar": {
              "outlinewidth": 0,
              "ticks": ""
             }
            },
            "type": "scattergeo"
           }
          ],
          "scattergl": [
           {
            "marker": {
             "colorbar": {
              "outlinewidth": 0,
              "ticks": ""
             }
            },
            "type": "scattergl"
           }
          ],
          "scattermapbox": [
           {
            "marker": {
             "colorbar": {
              "outlinewidth": 0,
              "ticks": ""
             }
            },
            "type": "scattermapbox"
           }
          ],
          "scatterpolar": [
           {
            "marker": {
             "colorbar": {
              "outlinewidth": 0,
              "ticks": ""
             }
            },
            "type": "scatterpolar"
           }
          ],
          "scatterpolargl": [
           {
            "marker": {
             "colorbar": {
              "outlinewidth": 0,
              "ticks": ""
             }
            },
            "type": "scatterpolargl"
           }
          ],
          "scatterternary": [
           {
            "marker": {
             "colorbar": {
              "outlinewidth": 0,
              "ticks": ""
             }
            },
            "type": "scatterternary"
           }
          ],
          "surface": [
           {
            "colorbar": {
             "outlinewidth": 0,
             "ticks": ""
            },
            "colorscale": [
             [
              0,
              "#0d0887"
             ],
             [
              0.1111111111111111,
              "#46039f"
             ],
             [
              0.2222222222222222,
              "#7201a8"
             ],
             [
              0.3333333333333333,
              "#9c179e"
             ],
             [
              0.4444444444444444,
              "#bd3786"
             ],
             [
              0.5555555555555556,
              "#d8576b"
             ],
             [
              0.6666666666666666,
              "#ed7953"
             ],
             [
              0.7777777777777778,
              "#fb9f3a"
             ],
             [
              0.8888888888888888,
              "#fdca26"
             ],
             [
              1,
              "#f0f921"
             ]
            ],
            "type": "surface"
           }
          ],
          "table": [
           {
            "cells": {
             "fill": {
              "color": "#EBF0F8"
             },
             "line": {
              "color": "white"
             }
            },
            "header": {
             "fill": {
              "color": "#C8D4E3"
             },
             "line": {
              "color": "white"
             }
            },
            "type": "table"
           }
          ]
         },
         "layout": {
          "annotationdefaults": {
           "arrowcolor": "#2a3f5f",
           "arrowhead": 0,
           "arrowwidth": 1
          },
          "colorscale": {
           "diverging": [
            [
             0,
             "#8e0152"
            ],
            [
             0.1,
             "#c51b7d"
            ],
            [
             0.2,
             "#de77ae"
            ],
            [
             0.3,
             "#f1b6da"
            ],
            [
             0.4,
             "#fde0ef"
            ],
            [
             0.5,
             "#f7f7f7"
            ],
            [
             0.6,
             "#e6f5d0"
            ],
            [
             0.7,
             "#b8e186"
            ],
            [
             0.8,
             "#7fbc41"
            ],
            [
             0.9,
             "#4d9221"
            ],
            [
             1,
             "#276419"
            ]
           ],
           "sequential": [
            [
             0,
             "#0d0887"
            ],
            [
             0.1111111111111111,
             "#46039f"
            ],
            [
             0.2222222222222222,
             "#7201a8"
            ],
            [
             0.3333333333333333,
             "#9c179e"
            ],
            [
             0.4444444444444444,
             "#bd3786"
            ],
            [
             0.5555555555555556,
             "#d8576b"
            ],
            [
             0.6666666666666666,
             "#ed7953"
            ],
            [
             0.7777777777777778,
             "#fb9f3a"
            ],
            [
             0.8888888888888888,
             "#fdca26"
            ],
            [
             1,
             "#f0f921"
            ]
           ],
           "sequentialminus": [
            [
             0,
             "#0d0887"
            ],
            [
             0.1111111111111111,
             "#46039f"
            ],
            [
             0.2222222222222222,
             "#7201a8"
            ],
            [
             0.3333333333333333,
             "#9c179e"
            ],
            [
             0.4444444444444444,
             "#bd3786"
            ],
            [
             0.5555555555555556,
             "#d8576b"
            ],
            [
             0.6666666666666666,
             "#ed7953"
            ],
            [
             0.7777777777777778,
             "#fb9f3a"
            ],
            [
             0.8888888888888888,
             "#fdca26"
            ],
            [
             1,
             "#f0f921"
            ]
           ]
          },
          "colorway": [
           "#636efa",
           "#EF553B",
           "#00cc96",
           "#ab63fa",
           "#FFA15A",
           "#19d3f3",
           "#FF6692",
           "#B6E880",
           "#FF97FF",
           "#FECB52"
          ],
          "font": {
           "color": "#2a3f5f"
          },
          "geo": {
           "bgcolor": "white",
           "lakecolor": "white",
           "landcolor": "#E5ECF6",
           "showlakes": true,
           "showland": true,
           "subunitcolor": "white"
          },
          "hoverlabel": {
           "align": "left"
          },
          "hovermode": "closest",
          "mapbox": {
           "style": "light"
          },
          "paper_bgcolor": "white",
          "plot_bgcolor": "#E5ECF6",
          "polar": {
           "angularaxis": {
            "gridcolor": "white",
            "linecolor": "white",
            "ticks": ""
           },
           "bgcolor": "#E5ECF6",
           "radialaxis": {
            "gridcolor": "white",
            "linecolor": "white",
            "ticks": ""
           }
          },
          "scene": {
           "xaxis": {
            "backgroundcolor": "#E5ECF6",
            "gridcolor": "white",
            "gridwidth": 2,
            "linecolor": "white",
            "showbackground": true,
            "ticks": "",
            "zerolinecolor": "white"
           },
           "yaxis": {
            "backgroundcolor": "#E5ECF6",
            "gridcolor": "white",
            "gridwidth": 2,
            "linecolor": "white",
            "showbackground": true,
            "ticks": "",
            "zerolinecolor": "white"
           },
           "zaxis": {
            "backgroundcolor": "#E5ECF6",
            "gridcolor": "white",
            "gridwidth": 2,
            "linecolor": "white",
            "showbackground": true,
            "ticks": "",
            "zerolinecolor": "white"
           }
          },
          "shapedefaults": {
           "line": {
            "color": "#2a3f5f"
           }
          },
          "ternary": {
           "aaxis": {
            "gridcolor": "white",
            "linecolor": "white",
            "ticks": ""
           },
           "baxis": {
            "gridcolor": "white",
            "linecolor": "white",
            "ticks": ""
           },
           "bgcolor": "#E5ECF6",
           "caxis": {
            "gridcolor": "white",
            "linecolor": "white",
            "ticks": ""
           }
          },
          "title": {
           "x": 0.05
          },
          "xaxis": {
           "automargin": true,
           "gridcolor": "white",
           "linecolor": "white",
           "ticks": "",
           "zerolinecolor": "white",
           "zerolinewidth": 2
          },
          "yaxis": {
           "automargin": true,
           "gridcolor": "white",
           "linecolor": "white",
           "ticks": "",
           "zerolinecolor": "white",
           "zerolinewidth": 2
          }
         }
        },
        "title": {
         "text": "Median Number of Votes, Average Rating, and Domestic Gross of Each Genre"
        },
        "xaxis": {
         "anchor": "y",
         "domain": [
          0,
          0.98
         ],
         "title": {
          "text": "Mean Rating (out of 10)"
         },
         "type": "log"
        },
        "yaxis": {
         "anchor": "x",
         "domain": [
          0,
          1
         ],
         "title": {
          "text": "Median Number of Votes per Movie"
         }
        }
       }
      },
      "text/html": [
       "<div>\n",
       "        \n",
       "        \n",
       "            <div id=\"30580d80-3663-4d8b-85b4-c0043011a26a\" class=\"plotly-graph-div\" style=\"height:600px; width:100%;\"></div>\n",
       "            <script type=\"text/javascript\">\n",
       "                require([\"plotly\"], function(Plotly) {\n",
       "                    window.PLOTLYENV=window.PLOTLYENV || {};\n",
       "                    \n",
       "                if (document.getElementById(\"30580d80-3663-4d8b-85b4-c0043011a26a\")) {\n",
       "                    Plotly.newPlot(\n",
       "                        '30580d80-3663-4d8b-85b4-c0043011a26a',\n",
       "                        [{\"hoverlabel\": {\"namelength\": 0}, \"hovertemplate\": \"Mean Rating (out of 10)=%{x}<br>Median Number of Votes per Movie=%{y}<br>Genre=%{text}<br>Domestic Gross (USD)=%{marker.color}\", \"legendgroup\": \"\", \"marker\": {\"color\": [5700000.0, 85150000.0, 17800000.0, 3700000.0, 11300000.0, 79200000.0, 15900000.0, 15900000.0, 4100000.0, 3000000.0, 26150000.0, 21100000.0, 2800000.0, 31200000.0, 13200.0, 43900000.0, 13700000.0, 64900000.0, 4000000.0, 6750000.0, 947500.0, 517000.0], \"coloraxis\": \"coloraxis\", \"symbol\": \"circle\"}, \"mode\": \"markers+text\", \"name\": \"\", \"showlegend\": false, \"text\": [\"Western\", \"Animation\", \"Comedy\", \"Music\", \"Crime\", \"Sci-Fi\", \"Thriller\", \"Mystery\", \"Drama\", \"Romance\", \"Action\", \"Horror\", \"Musical\", \"Fantasy\", \"News\", \"Family\", \"Sport\", \"Adventure\", \"History\", \"Biography\", \"War\", \"Documentary\"], \"type\": \"scatter\", \"x\": [5.7, 6.24, 5.92, 6.88, 6.06, 5.41, 5.57, 5.84, 6.35, 6.1, 5.75, 4.93, 6.46, 5.84, 7.26, 6.29, 6.89, 6.1, 6.98, 7.11, 6.49, 7.3], \"xaxis\": \"x\", \"y\": [96.0, 137.0, 133.0, 67.0, 227.0, 169.0, 174.5, 165.5, 108.0, 163.0, 248.0, 105.0, 68.0, 139.0, 33.0, 76.0, 107.0, 171.0, 68.0, 79.0, 142.0, 35.0], \"yaxis\": \"y\"}],\n",
       "                        {\"coloraxis\": {\"colorbar\": {\"title\": {\"text\": \"Domestic Gross (USD)\"}}, \"colorscale\": [[0.0, \"#0d0887\"], [0.1111111111111111, \"#46039f\"], [0.2222222222222222, \"#7201a8\"], [0.3333333333333333, \"#9c179e\"], [0.4444444444444444, \"#bd3786\"], [0.5555555555555556, \"#d8576b\"], [0.6666666666666666, \"#ed7953\"], [0.7777777777777778, \"#fb9f3a\"], [0.8888888888888888, \"#fdca26\"], [1.0, \"#f0f921\"]]}, \"height\": 600, \"legend\": {\"tracegroupgap\": 0}, \"margin\": {\"b\": 30, \"l\": 30, \"r\": 30, \"t\": 30}, \"paper_bgcolor\": \"LightSteelBlue\", \"template\": {\"data\": {\"bar\": [{\"error_x\": {\"color\": \"#2a3f5f\"}, \"error_y\": {\"color\": \"#2a3f5f\"}, \"marker\": {\"line\": {\"color\": \"#E5ECF6\", \"width\": 0.5}}, \"type\": \"bar\"}], \"barpolar\": [{\"marker\": {\"line\": {\"color\": \"#E5ECF6\", \"width\": 0.5}}, \"type\": \"barpolar\"}], \"carpet\": [{\"aaxis\": {\"endlinecolor\": \"#2a3f5f\", \"gridcolor\": \"white\", \"linecolor\": \"white\", \"minorgridcolor\": \"white\", \"startlinecolor\": \"#2a3f5f\"}, \"baxis\": {\"endlinecolor\": \"#2a3f5f\", \"gridcolor\": \"white\", \"linecolor\": \"white\", \"minorgridcolor\": \"white\", \"startlinecolor\": \"#2a3f5f\"}, \"type\": \"carpet\"}], \"choropleth\": [{\"colorbar\": {\"outlinewidth\": 0, \"ticks\": \"\"}, \"type\": \"choropleth\"}], \"contour\": [{\"colorbar\": {\"outlinewidth\": 0, \"ticks\": \"\"}, \"colorscale\": [[0.0, \"#0d0887\"], [0.1111111111111111, \"#46039f\"], [0.2222222222222222, \"#7201a8\"], [0.3333333333333333, \"#9c179e\"], [0.4444444444444444, \"#bd3786\"], [0.5555555555555556, \"#d8576b\"], [0.6666666666666666, \"#ed7953\"], [0.7777777777777778, \"#fb9f3a\"], [0.8888888888888888, \"#fdca26\"], [1.0, \"#f0f921\"]], \"type\": \"contour\"}], \"contourcarpet\": [{\"colorbar\": {\"outlinewidth\": 0, \"ticks\": \"\"}, \"type\": \"contourcarpet\"}], \"heatmap\": [{\"colorbar\": {\"outlinewidth\": 0, \"ticks\": \"\"}, \"colorscale\": [[0.0, \"#0d0887\"], [0.1111111111111111, \"#46039f\"], [0.2222222222222222, \"#7201a8\"], [0.3333333333333333, \"#9c179e\"], [0.4444444444444444, \"#bd3786\"], [0.5555555555555556, \"#d8576b\"], [0.6666666666666666, \"#ed7953\"], [0.7777777777777778, \"#fb9f3a\"], [0.8888888888888888, \"#fdca26\"], [1.0, \"#f0f921\"]], \"type\": \"heatmap\"}], \"heatmapgl\": [{\"colorbar\": {\"outlinewidth\": 0, \"ticks\": \"\"}, \"colorscale\": [[0.0, \"#0d0887\"], [0.1111111111111111, \"#46039f\"], [0.2222222222222222, \"#7201a8\"], [0.3333333333333333, \"#9c179e\"], [0.4444444444444444, \"#bd3786\"], [0.5555555555555556, \"#d8576b\"], [0.6666666666666666, \"#ed7953\"], [0.7777777777777778, \"#fb9f3a\"], [0.8888888888888888, \"#fdca26\"], [1.0, \"#f0f921\"]], \"type\": \"heatmapgl\"}], \"histogram\": [{\"marker\": {\"colorbar\": {\"outlinewidth\": 0, \"ticks\": \"\"}}, \"type\": \"histogram\"}], \"histogram2d\": [{\"colorbar\": {\"outlinewidth\": 0, \"ticks\": \"\"}, \"colorscale\": [[0.0, \"#0d0887\"], [0.1111111111111111, \"#46039f\"], [0.2222222222222222, \"#7201a8\"], [0.3333333333333333, \"#9c179e\"], [0.4444444444444444, \"#bd3786\"], [0.5555555555555556, \"#d8576b\"], [0.6666666666666666, \"#ed7953\"], [0.7777777777777778, \"#fb9f3a\"], [0.8888888888888888, \"#fdca26\"], [1.0, \"#f0f921\"]], \"type\": \"histogram2d\"}], \"histogram2dcontour\": [{\"colorbar\": {\"outlinewidth\": 0, \"ticks\": \"\"}, \"colorscale\": [[0.0, \"#0d0887\"], [0.1111111111111111, \"#46039f\"], [0.2222222222222222, \"#7201a8\"], [0.3333333333333333, \"#9c179e\"], [0.4444444444444444, \"#bd3786\"], [0.5555555555555556, \"#d8576b\"], [0.6666666666666666, \"#ed7953\"], [0.7777777777777778, \"#fb9f3a\"], [0.8888888888888888, \"#fdca26\"], [1.0, \"#f0f921\"]], \"type\": \"histogram2dcontour\"}], \"mesh3d\": [{\"colorbar\": {\"outlinewidth\": 0, \"ticks\": \"\"}, \"type\": \"mesh3d\"}], \"parcoords\": [{\"line\": {\"colorbar\": {\"outlinewidth\": 0, \"ticks\": \"\"}}, \"type\": \"parcoords\"}], \"scatter\": [{\"marker\": {\"colorbar\": {\"outlinewidth\": 0, \"ticks\": \"\"}}, \"type\": \"scatter\"}], \"scatter3d\": [{\"line\": {\"colorbar\": {\"outlinewidth\": 0, \"ticks\": \"\"}}, \"marker\": {\"colorbar\": {\"outlinewidth\": 0, \"ticks\": \"\"}}, \"type\": \"scatter3d\"}], \"scattercarpet\": [{\"marker\": {\"colorbar\": {\"outlinewidth\": 0, \"ticks\": \"\"}}, \"type\": \"scattercarpet\"}], \"scattergeo\": [{\"marker\": {\"colorbar\": {\"outlinewidth\": 0, \"ticks\": \"\"}}, \"type\": \"scattergeo\"}], \"scattergl\": [{\"marker\": {\"colorbar\": {\"outlinewidth\": 0, \"ticks\": \"\"}}, \"type\": \"scattergl\"}], \"scattermapbox\": [{\"marker\": {\"colorbar\": {\"outlinewidth\": 0, \"ticks\": \"\"}}, \"type\": \"scattermapbox\"}], \"scatterpolar\": [{\"marker\": {\"colorbar\": {\"outlinewidth\": 0, \"ticks\": \"\"}}, \"type\": \"scatterpolar\"}], \"scatterpolargl\": [{\"marker\": {\"colorbar\": {\"outlinewidth\": 0, \"ticks\": \"\"}}, \"type\": \"scatterpolargl\"}], \"scatterternary\": [{\"marker\": {\"colorbar\": {\"outlinewidth\": 0, \"ticks\": \"\"}}, \"type\": \"scatterternary\"}], \"surface\": [{\"colorbar\": {\"outlinewidth\": 0, \"ticks\": \"\"}, \"colorscale\": [[0.0, \"#0d0887\"], [0.1111111111111111, \"#46039f\"], [0.2222222222222222, \"#7201a8\"], [0.3333333333333333, \"#9c179e\"], [0.4444444444444444, \"#bd3786\"], [0.5555555555555556, \"#d8576b\"], [0.6666666666666666, \"#ed7953\"], [0.7777777777777778, \"#fb9f3a\"], [0.8888888888888888, \"#fdca26\"], [1.0, \"#f0f921\"]], \"type\": \"surface\"}], \"table\": [{\"cells\": {\"fill\": {\"color\": \"#EBF0F8\"}, \"line\": {\"color\": \"white\"}}, \"header\": {\"fill\": {\"color\": \"#C8D4E3\"}, \"line\": {\"color\": \"white\"}}, \"type\": \"table\"}]}, \"layout\": {\"annotationdefaults\": {\"arrowcolor\": \"#2a3f5f\", \"arrowhead\": 0, \"arrowwidth\": 1}, \"colorscale\": {\"diverging\": [[0, \"#8e0152\"], [0.1, \"#c51b7d\"], [0.2, \"#de77ae\"], [0.3, \"#f1b6da\"], [0.4, \"#fde0ef\"], [0.5, \"#f7f7f7\"], [0.6, \"#e6f5d0\"], [0.7, \"#b8e186\"], [0.8, \"#7fbc41\"], [0.9, \"#4d9221\"], [1, \"#276419\"]], \"sequential\": [[0.0, \"#0d0887\"], [0.1111111111111111, \"#46039f\"], [0.2222222222222222, \"#7201a8\"], [0.3333333333333333, \"#9c179e\"], [0.4444444444444444, \"#bd3786\"], [0.5555555555555556, \"#d8576b\"], [0.6666666666666666, \"#ed7953\"], [0.7777777777777778, \"#fb9f3a\"], [0.8888888888888888, \"#fdca26\"], [1.0, \"#f0f921\"]], \"sequentialminus\": [[0.0, \"#0d0887\"], [0.1111111111111111, \"#46039f\"], [0.2222222222222222, \"#7201a8\"], [0.3333333333333333, \"#9c179e\"], [0.4444444444444444, \"#bd3786\"], [0.5555555555555556, \"#d8576b\"], [0.6666666666666666, \"#ed7953\"], [0.7777777777777778, \"#fb9f3a\"], [0.8888888888888888, \"#fdca26\"], [1.0, \"#f0f921\"]]}, \"colorway\": [\"#636efa\", \"#EF553B\", \"#00cc96\", \"#ab63fa\", \"#FFA15A\", \"#19d3f3\", \"#FF6692\", \"#B6E880\", \"#FF97FF\", \"#FECB52\"], \"font\": {\"color\": \"#2a3f5f\"}, \"geo\": {\"bgcolor\": \"white\", \"lakecolor\": \"white\", \"landcolor\": \"#E5ECF6\", \"showlakes\": true, \"showland\": true, \"subunitcolor\": \"white\"}, \"hoverlabel\": {\"align\": \"left\"}, \"hovermode\": \"closest\", \"mapbox\": {\"style\": \"light\"}, \"paper_bgcolor\": \"white\", \"plot_bgcolor\": \"#E5ECF6\", \"polar\": {\"angularaxis\": {\"gridcolor\": \"white\", \"linecolor\": \"white\", \"ticks\": \"\"}, \"bgcolor\": \"#E5ECF6\", \"radialaxis\": {\"gridcolor\": \"white\", \"linecolor\": \"white\", \"ticks\": \"\"}}, \"scene\": {\"xaxis\": {\"backgroundcolor\": \"#E5ECF6\", \"gridcolor\": \"white\", \"gridwidth\": 2, \"linecolor\": \"white\", \"showbackground\": true, \"ticks\": \"\", \"zerolinecolor\": \"white\"}, \"yaxis\": {\"backgroundcolor\": \"#E5ECF6\", \"gridcolor\": \"white\", \"gridwidth\": 2, \"linecolor\": \"white\", \"showbackground\": true, \"ticks\": \"\", \"zerolinecolor\": \"white\"}, \"zaxis\": {\"backgroundcolor\": \"#E5ECF6\", \"gridcolor\": \"white\", \"gridwidth\": 2, \"linecolor\": \"white\", \"showbackground\": true, \"ticks\": \"\", \"zerolinecolor\": \"white\"}}, \"shapedefaults\": {\"line\": {\"color\": \"#2a3f5f\"}}, \"ternary\": {\"aaxis\": {\"gridcolor\": \"white\", \"linecolor\": \"white\", \"ticks\": \"\"}, \"baxis\": {\"gridcolor\": \"white\", \"linecolor\": \"white\", \"ticks\": \"\"}, \"bgcolor\": \"#E5ECF6\", \"caxis\": {\"gridcolor\": \"white\", \"linecolor\": \"white\", \"ticks\": \"\"}}, \"title\": {\"x\": 0.05}, \"xaxis\": {\"automargin\": true, \"gridcolor\": \"white\", \"linecolor\": \"white\", \"ticks\": \"\", \"zerolinecolor\": \"white\", \"zerolinewidth\": 2}, \"yaxis\": {\"automargin\": true, \"gridcolor\": \"white\", \"linecolor\": \"white\", \"ticks\": \"\", \"zerolinecolor\": \"white\", \"zerolinewidth\": 2}}}, \"title\": {\"text\": \"Median Number of Votes, Average Rating, and Domestic Gross of Each Genre\"}, \"xaxis\": {\"anchor\": \"y\", \"domain\": [0.0, 0.98], \"title\": {\"text\": \"Mean Rating (out of 10)\"}, \"type\": \"log\"}, \"yaxis\": {\"anchor\": \"x\", \"domain\": [0.0, 1.0], \"title\": {\"text\": \"Median Number of Votes per Movie\"}}},\n",
       "                        {\"responsive\": true}\n",
       "                    ).then(function(){\n",
       "                            \n",
       "var gd = document.getElementById('30580d80-3663-4d8b-85b4-c0043011a26a');\n",
       "var x = new MutationObserver(function (mutations, observer) {{\n",
       "        var display = window.getComputedStyle(gd).display;\n",
       "        if (!display || display === 'none') {{\n",
       "            console.log([gd, 'removed!']);\n",
       "            Plotly.purge(gd);\n",
       "            observer.disconnect();\n",
       "        }}\n",
       "}});\n",
       "\n",
       "// Listen for the removal of the full notebook cells\n",
       "var notebookContainer = gd.closest('#notebook-container');\n",
       "if (notebookContainer) {{\n",
       "    x.observe(notebookContainer, {childList: true});\n",
       "}}\n",
       "\n",
       "// Listen for the clearing of the current output cell\n",
       "var outputEl = gd.closest('.output');\n",
       "if (outputEl) {{\n",
       "    x.observe(outputEl, {childList: true});\n",
       "}}\n",
       "\n",
       "                        })\n",
       "                };\n",
       "                });\n",
       "            </script>\n",
       "        </div>"
      ]
     },
     "metadata": {},
     "output_type": "display_data"
    }
   ],
   "source": [
    "df = new_joined_df\n",
    "fig = px.scatter(df, x=\"mean_rating\", y=\"median_numvotes\", text='genres', log_x=True, color=\"median_domestic_gross\",\n",
    "                 labels={\n",
    "                     \"genres\": \"Genre\",\n",
    "                     \"mean_rating\": \"Mean Rating (out of 10)\",\n",
    "                     \"median_numvotes\": \"Median Number of Votes per Movie\",\n",
    "                     \"median_domestic_gross\": \"Domestic Gross (USD)\"\n",
    "                 },\n",
    "                title= \"Median Number of Votes, Average Rating, and Domestic Gross of Each Genre\")\n",
    "fig.update_layout(\n",
    "    margin=dict(l=30, r=30, t=30, b=30),\n",
    "    paper_bgcolor=\"LightSteelBlue\"),\n",
    "fig.show()"
   ]
  },
  {
   "cell_type": "markdown",
   "metadata": {},
   "source": [
    "This plot displays each genre according to its average rating, median domestic gross, and median number of votes per movie. While Animation (85.15M) and Sci-Fi (79.2M) are the highest grossing genres, several other genres, on average, tend to receive higher ratings. Sci-Fi movies (5.41), in particular, tend to receive some of the lowest ratings, next to Horror (4.93). "
   ]
  },
  {
   "cell_type": "markdown",
   "metadata": {},
   "source": [
    "Because of the current pandemic, it is important to the number of votes each movie is predicted to receive if it belongs to a particular genre. The number of votes is an indicator of popularity. Action (248) and Crime (227) movies tend to receive significantly more votes compared to other genres. Documentary (35) and News (33) films tend to receive the fewest amount of votes and generate the lowest amount of income at the box office (517k and 13.2k, respectively). However, films belonging to these genres tend to receive the highest ratings (7.3 and 7.26, respectively) compared to other genres.\n",
    "\n",
    "In addition to the above considerations, one of Microsoft's goals is to understand which kind of movies tend to perform well at the box office. While considering gross income, average rating, and number of votes as factors for a successful movie, I recommend creating animated movies that incorporate themes in Sci-Fi and/or Adventure. Family-related movies also do fairly well, but there is a significant difference between it and the aforementioned genres."
   ]
  },
  {
   "cell_type": "markdown",
   "metadata": {},
   "source": [
    "### Future Work\n",
    "\n",
    "This is the first stage of industry exploration. While gross income data has been presented, it is important to view budget data, as well, in order to determine profit margins per genre.\n",
    "\n",
    "The income data for this project has focused specifically on domestic income. While it is important to start a foundation for the studio in US, international markets may provide unique opportunities for income.\n",
    "\n",
    "Home steaming services, such as Netflix, Hulu, and Amazon Prime, have become highly popular methods of viewership. While the most recent publications on vaccine data have been promising, the timeline of the pandemic tends to vary. Data from these companies' studios and their measures of film success may provide more nuanced and relevant insight into making films."
   ]
  },
  {
   "cell_type": "code",
   "execution_count": null,
   "metadata": {},
   "outputs": [],
   "source": []
  }
 ],
 "metadata": {
  "kernelspec": {
   "display_name": "Python 3",
   "language": "python",
   "name": "python3"
  },
  "language_info": {
   "codemirror_mode": {
    "name": "ipython",
    "version": 3
   },
   "file_extension": ".py",
   "mimetype": "text/x-python",
   "name": "python",
   "nbconvert_exporter": "python",
   "pygments_lexer": "ipython3",
   "version": "3.6.9"
  }
 },
 "nbformat": 4,
 "nbformat_minor": 2
}
